{
 "cells": [
  {
   "cell_type": "code",
   "execution_count": 5,
   "id": "7bdc75a1-0b39-4b97-8d20-acc38d41bb63",
   "metadata": {},
   "outputs": [],
   "source": [
    "#Question1"
   ]
  },
  {
   "cell_type": "code",
   "execution_count": 3,
   "id": "12ef70d5-f04b-474c-bf5b-a4f9d0f20089",
   "metadata": {},
   "outputs": [],
   "source": [
    "a=[\"Ankit\",[1,2,3,4],1.25,('a','b','c','d')]"
   ]
  },
  {
   "cell_type": "code",
   "execution_count": 6,
   "id": "6dbbc03d-1878-4c37-817d-458383ced3d2",
   "metadata": {},
   "outputs": [],
   "source": [
    "#Question2"
   ]
  },
  {
   "cell_type": "code",
   "execution_count": 14,
   "id": "3f401b27-f9e9-4cf7-af95-812f793a2bc6",
   "metadata": {},
   "outputs": [],
   "source": [
    "var1=''   #The data type For this variable will be 'String'."
   ]
  },
  {
   "cell_type": "code",
   "execution_count": 15,
   "id": "40f93bde-b477-4865-814d-3a5370ef56c1",
   "metadata": {},
   "outputs": [],
   "source": [
    "var2='[DS, ML, Python]'  # The data type for this variable will be 'String'."
   ]
  },
  {
   "cell_type": "code",
   "execution_count": 12,
   "id": "53af218b-5f93-4564-9257-eafe03b976e2",
   "metadata": {},
   "outputs": [],
   "source": [
    "var3=['DS','ML','Python']  #The data type for this variable will be 'List'."
   ]
  },
  {
   "cell_type": "code",
   "execution_count": 16,
   "id": "ff8913ac-9c94-4dea-838a-fcf98d37c36e",
   "metadata": {},
   "outputs": [],
   "source": [
    "var4=1  #The data type for this variable is 'Integer'."
   ]
  },
  {
   "cell_type": "code",
   "execution_count": 17,
   "id": "25d54c2b-3e90-4d2b-b69a-1e18756cd7f5",
   "metadata": {},
   "outputs": [],
   "source": [
    "#Question3"
   ]
  },
  {
   "cell_type": "markdown",
   "id": "1304f44d-600e-4488-89ea-b30c0f91017a",
   "metadata": {},
   "source": [
    "'/' (Division Operator): Is used to divide two number by another.It returns a foat quotiend\n",
    "of the division operation."
   ]
  },
  {
   "cell_type": "code",
   "execution_count": 22,
   "id": "fea1cb99-7d1e-452d-aaae-b0392093b3ca",
   "metadata": {},
   "outputs": [
    {
     "name": "stdout",
     "output_type": "stream",
     "text": [
      "2.5\n"
     ]
    }
   ],
   "source": [
    "#Example\n",
    "a=5\n",
    "b=2\n",
    "c=a/b\n",
    "print(c)  #Output 2.5"
   ]
  },
  {
   "cell_type": "markdown",
   "id": "cc3486cf-df96-4153-8a4f-6e53540f088e",
   "metadata": {},
   "source": [
    "'%' (Modulus Operator): Is used to find the remainder of the division operation.It returns\n",
    "the remainder as an Integer value."
   ]
  },
  {
   "cell_type": "code",
   "execution_count": 23,
   "id": "7cae05d5-fe72-49d2-bc1c-a978953ef419",
   "metadata": {},
   "outputs": [
    {
     "name": "stdout",
     "output_type": "stream",
     "text": [
      "1\n"
     ]
    }
   ],
   "source": [
    "#Example\n",
    "x=5\n",
    "y=2\n",
    "z=x%y\n",
    "print(z)  #Output 1"
   ]
  },
  {
   "cell_type": "markdown",
   "id": "465036fb-10d8-497c-893c-53df55121d6d",
   "metadata": {},
   "source": [
    "'//' (Floor Division Operator) : The floor division operator '//' is used to divide one number by another\n",
    "and return the integer value of the quotient, rounded down to nearest integer (Floor value)"
   ]
  },
  {
   "cell_type": "code",
   "execution_count": 27,
   "id": "93c77c95-21a8-4407-a6a3-09a936e11c82",
   "metadata": {},
   "outputs": [
    {
     "name": "stdout",
     "output_type": "stream",
     "text": [
      "2\n"
     ]
    }
   ],
   "source": [
    "# Example \n",
    "a=26\n",
    "b=9\n",
    "c=a//b #Ouput 2\n",
    "print(c)"
   ]
  },
  {
   "cell_type": "code",
   "execution_count": 28,
   "id": "a62c425b-85b8-495a-a203-09ce5ed3fbab",
   "metadata": {},
   "outputs": [],
   "source": [
    "# '**' (Exponentiation Operator): The exponentiation operator '**' is used to raise a number to a power."
   ]
  },
  {
   "cell_type": "code",
   "execution_count": 29,
   "id": "383aa721-c1a3-4e36-9ed3-9e4cdd216679",
   "metadata": {},
   "outputs": [
    {
     "name": "stdout",
     "output_type": "stream",
     "text": [
      "8\n"
     ]
    }
   ],
   "source": [
    "#Example\n",
    "a=2\n",
    "b=3\n",
    "c=a**b  #Output 8\n",
    "print(c)"
   ]
  },
  {
   "cell_type": "code",
   "execution_count": 30,
   "id": "2ef9d8d1-e2f9-4fc1-b95c-2e00b23affa0",
   "metadata": {},
   "outputs": [],
   "source": [
    "#Question 4"
   ]
  },
  {
   "cell_type": "code",
   "execution_count": 36,
   "id": "62187996-1721-4a06-aba9-9cdb2c8dcdb1",
   "metadata": {},
   "outputs": [],
   "source": [
    "l=[1,True,3,1.34,\"PW Skills\",(\"Hello\",\"World\",\"Learning Python\"),[1,2,3],\"Data Science\",10.3,10.4]"
   ]
  },
  {
   "cell_type": "code",
   "execution_count": 37,
   "id": "27e8ee7e-3ecf-492f-b9ff-e5e0710afe89",
   "metadata": {},
   "outputs": [
    {
     "data": {
      "text/plain": [
       "10"
      ]
     },
     "execution_count": 37,
     "metadata": {},
     "output_type": "execute_result"
    }
   ],
   "source": [
    "len(l)"
   ]
  },
  {
   "cell_type": "code",
   "execution_count": 48,
   "id": "56f9098d-744e-450d-abb4-e810cd8e39a4",
   "metadata": {},
   "outputs": [
    {
     "name": "stdout",
     "output_type": "stream",
     "text": [
      "The element '1' is of type '<class 'int'>'\n",
      "The element 'True' is of type '<class 'bool'>'\n",
      "The element '3' is of type '<class 'int'>'\n",
      "The element '1.34' is of type '<class 'float'>'\n",
      "The element 'PW Skills' is of type '<class 'str'>'\n",
      "The element '('Hello', 'World', 'Learning Python')' is of type '<class 'tuple'>'\n",
      "The element '[1, 2, 3]' is of type '<class 'list'>'\n",
      "The element 'Data Science' is of type '<class 'str'>'\n",
      "The element '10.3' is of type '<class 'float'>'\n",
      "The element '10.4' is of type '<class 'float'>'\n"
     ]
    }
   ],
   "source": [
    "for i in l:\n",
    "    print(f\"The element '{i}' is of type '{type(i)}'\")\n",
    "    "
   ]
  },
  {
   "cell_type": "code",
   "execution_count": 1,
   "id": "76d38190-8848-4111-b866-cb6915ab8c68",
   "metadata": {},
   "outputs": [],
   "source": [
    "#Question 5"
   ]
  },
  {
   "cell_type": "code",
   "execution_count": 15,
   "id": "7bd107cd-0755-4278-b8b0-cf31e9ef6643",
   "metadata": {},
   "outputs": [
    {
     "name": "stdout",
     "output_type": "stream",
     "text": [
      "4.0 is divisible by 5  2 times\n"
     ]
    }
   ],
   "source": [
    "a=100\n",
    "b=5\n",
    "count=0\n",
    "\n",
    "while a%b==0:\n",
    "    a/=b\n",
    "    count+=1\n",
    "    \n",
    "if count==0:\n",
    "    print(f\"{a} is not divisible by {b}\")\n",
    "else:\n",
    "    print(f\"{a} is divisible by {b}  {count} times\")"
   ]
  },
  {
   "cell_type": "code",
   "execution_count": 16,
   "id": "51acd881-4b95-47e0-9881-5464f953368b",
   "metadata": {},
   "outputs": [],
   "source": [
    "#Question 6"
   ]
  },
  {
   "cell_type": "code",
   "execution_count": 17,
   "id": "743a7bd6-1635-4ee4-912d-f575a2a8aa0e",
   "metadata": {},
   "outputs": [],
   "source": [
    "l=[1,2,3,4,5,6,7,8,9,10,11,12,13,14,15,16,17,18,19,20,21,22,23,24,25]"
   ]
  },
  {
   "cell_type": "code",
   "execution_count": 19,
   "id": "314c68f4-cb8d-4a6a-83c5-dcabccbdc91f",
   "metadata": {},
   "outputs": [
    {
     "name": "stdout",
     "output_type": "stream",
     "text": [
      "1 is not divisible by 3\n",
      "2 is not divisible by 3\n",
      "3 is divisble by 3\n",
      "4 is not divisible by 3\n",
      "5 is not divisible by 3\n",
      "6 is divisble by 3\n",
      "7 is not divisible by 3\n",
      "8 is not divisible by 3\n",
      "9 is divisble by 3\n",
      "10 is not divisible by 3\n",
      "11 is not divisible by 3\n",
      "12 is divisble by 3\n",
      "13 is not divisible by 3\n",
      "14 is not divisible by 3\n",
      "15 is divisble by 3\n",
      "16 is not divisible by 3\n",
      "17 is not divisible by 3\n",
      "18 is divisble by 3\n",
      "19 is not divisible by 3\n",
      "20 is not divisible by 3\n",
      "21 is divisble by 3\n",
      "22 is not divisible by 3\n",
      "23 is not divisible by 3\n",
      "24 is divisble by 3\n",
      "25 is not divisible by 3\n"
     ]
    }
   ],
   "source": [
    "for i in l:\n",
    "    if i%3==0:\n",
    "        print(f\"{i} is divisble by 3\")\n",
    "    else:\n",
    "        print(f\"{i} is not divisible by 3\")"
   ]
  },
  {
   "cell_type": "code",
   "execution_count": 20,
   "id": "0260d88c-27a2-4d71-b7aa-e7045afa7e08",
   "metadata": {},
   "outputs": [],
   "source": [
    "#Question7"
   ]
  },
  {
   "cell_type": "markdown",
   "id": "67df6206-6e52-455b-9f01-24de62e254a4",
   "metadata": {},
   "source": [
    "Immutable data types : These data types are the ones whose value cannot be changed once it is created. In other words,\n",
    "any operation on an immutable objects creates a new object rather than modifying the existing one .\n",
    "Example of immutable data types in Python include int, float, bool, str, and tuple.\n",
    "\n",
    "Mutable data types : These data types on the other hand , is one whose \n",
    "value can be changed after it is created. This mean that operations on a mutable \n",
    "object modify the object itself rather than creating a new one .Examples of mutable data types\n",
    "in Pyhton include list, dict, and set.\n",
    "\n",
    "#In simple terms those data types which allow us to change data at any index position \n",
    "they are mutable and those who doesn't allow they are immutable."
   ]
  },
  {
   "cell_type": "code",
   "execution_count": 22,
   "id": "5ce231f1-bf63-49aa-b2cc-79014ab0c0b3",
   "metadata": {},
   "outputs": [
    {
     "name": "stdout",
     "output_type": "stream",
     "text": [
      "Ankit\n"
     ]
    },
    {
     "ename": "TypeError",
     "evalue": "'str' object does not support item assignment",
     "output_type": "error",
     "traceback": [
      "\u001b[0;31m---------------------------------------------------------------------------\u001b[0m",
      "\u001b[0;31mTypeError\u001b[0m                                 Traceback (most recent call last)",
      "Cell \u001b[0;32mIn[22], line 5\u001b[0m\n\u001b[1;32m      2\u001b[0m name\u001b[38;5;241m=\u001b[39m\u001b[38;5;124m\"\u001b[39m\u001b[38;5;124mAnkit\u001b[39m\u001b[38;5;124m\"\u001b[39m\n\u001b[1;32m      3\u001b[0m \u001b[38;5;28mprint\u001b[39m(name) \u001b[38;5;66;03m#Output Ankit\u001b[39;00m\n\u001b[0;32m----> 5\u001b[0m \u001b[43mname\u001b[49m\u001b[43m[\u001b[49m\u001b[38;5;241;43m0\u001b[39;49m\u001b[43m]\u001b[49m\u001b[38;5;241m=\u001b[39m\u001b[38;5;124m'\u001b[39m\u001b[38;5;124mB\u001b[39m\u001b[38;5;124m'\u001b[39m  \u001b[38;5;66;03m#Output Error\u001b[39;00m\n\u001b[1;32m      6\u001b[0m \u001b[38;5;28mprint\u001b[39m(name)\n",
      "\u001b[0;31mTypeError\u001b[0m: 'str' object does not support item assignment"
     ]
    }
   ],
   "source": [
    "#Example of Immutable Data Type:\n",
    "name=\"Ankit\"\n",
    "print(name) #Output Ankit\n",
    "\n",
    "name[0]='B'  #Output Error\n",
    "print(name)"
   ]
  },
  {
   "cell_type": "code",
   "execution_count": 23,
   "id": "0e280771-ee8c-43e6-9463-771b8c677ce3",
   "metadata": {},
   "outputs": [],
   "source": [
    "#As we can see it gives us this error thus we can say str is a immutable data type"
   ]
  },
  {
   "cell_type": "code",
   "execution_count": 24,
   "id": "5dc8d265-2e6c-414b-9901-c82b7efd2f57",
   "metadata": {},
   "outputs": [
    {
     "name": "stdout",
     "output_type": "stream",
     "text": [
      "[1, 2, 3, 4, 5]\n",
      "[10, 2, 3, 4, 5]\n"
     ]
    }
   ],
   "source": [
    "# Example of Mutable Data Type:\n",
    "l=[1,2,3,4,5]  #List \n",
    "print(l)  #output 1,2,3,4,5\n",
    "\n",
    "l[0]=10  #Trying to modify the data\n",
    "\n",
    "print(l)  #output 10,2,3,4,5\n"
   ]
  },
  {
   "cell_type": "code",
   "execution_count": null,
   "id": "8944fd76-bab3-4e23-a468-a86523433053",
   "metadata": {},
   "outputs": [],
   "source": [
    "#As we can see at zero index the list data got changed which shows list is a mutable data type."
   ]
  }
 ],
 "metadata": {
  "kernelspec": {
   "display_name": "Python 3 (ipykernel)",
   "language": "python",
   "name": "python3"
  },
  "language_info": {
   "codemirror_mode": {
    "name": "ipython",
    "version": 3
   },
   "file_extension": ".py",
   "mimetype": "text/x-python",
   "name": "python",
   "nbconvert_exporter": "python",
   "pygments_lexer": "ipython3",
   "version": "3.10.8"
  }
 },
 "nbformat": 4,
 "nbformat_minor": 5
}
