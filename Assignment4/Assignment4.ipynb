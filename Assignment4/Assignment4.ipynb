{
 "cells": [
  {
   "cell_type": "code",
   "execution_count": 1,
   "id": "ba1dc87e-5b31-49fa-bfd5-636b23a75406",
   "metadata": {},
   "outputs": [],
   "source": [
    "#Question 1"
   ]
  },
  {
   "cell_type": "code",
   "execution_count": 2,
   "id": "17dc391a-5e68-4668-b1f7-a9a67be2b408",
   "metadata": {},
   "outputs": [],
   "source": [
    "#Answer"
   ]
  },
  {
   "cell_type": "code",
   "execution_count": 5,
   "id": "f55d7397-dfa9-44c2-9487-eeabe588d5ad",
   "metadata": {},
   "outputs": [
    {
     "name": "stdout",
     "output_type": "stream",
     "text": [
      "[('Virat Kohli', 24936), ('Jack Kallis', 25534), ('Ricky Ponting', 27483), ('Sachin Tendulkar', 34357)]\n"
     ]
    }
   ],
   "source": [
    "my_list=[('Sachin Tendulkar', 34357), ('Ricky Ponting', 27483), ('Jack Kallis', 25534), ('Virat Kohli', 24936)]\n",
    "sorted_list=sorted(my_list,key=lambda x:x[1])\n",
    "print(sorted_list)"
   ]
  },
  {
   "cell_type": "code",
   "execution_count": 6,
   "id": "27da17e3-6a5c-421a-9bc2-7dfc2ebb3145",
   "metadata": {},
   "outputs": [],
   "source": [
    "#Question2"
   ]
  },
  {
   "cell_type": "code",
   "execution_count": 8,
   "id": "88e25229-9c85-46ff-8770-7a482121905f",
   "metadata": {},
   "outputs": [
    {
     "data": {
      "text/plain": [
       "[1, 4, 9, 16, 25, 36, 49, 64, 81, 100]"
      ]
     },
     "execution_count": 8,
     "metadata": {},
     "output_type": "execute_result"
    }
   ],
   "source": [
    "#Answer  Squares of given numbers\n",
    "my_list=[1, 2, 3, 4, 5, 6, 7, 8, 9, 10]\n",
    "list(map(lambda x:x*x,my_list))"
   ]
  },
  {
   "cell_type": "code",
   "execution_count": 9,
   "id": "ae934a7a-ea92-4e21-bebe-bc7b9cf3271a",
   "metadata": {},
   "outputs": [],
   "source": [
    "#Question 3"
   ]
  },
  {
   "cell_type": "code",
   "execution_count": 10,
   "id": "eff3cb26-c792-4fc6-80be-c5b573440b12",
   "metadata": {},
   "outputs": [
    {
     "data": {
      "text/plain": [
       "('1', '2', '3', '4', '5', '6', '7', '8', '9', '10')"
      ]
     },
     "execution_count": 10,
     "metadata": {},
     "output_type": "execute_result"
    }
   ],
   "source": [
    "#Answer\n",
    "my_list=[1, 2, 3, 4, 5, 6, 7, 8, 9, 10]\n",
    "tuple(map(lambda x:str(x),my_list))"
   ]
  },
  {
   "cell_type": "code",
   "execution_count": 11,
   "id": "b2e033c7-8957-412f-87fb-7a25aa8f86b3",
   "metadata": {},
   "outputs": [],
   "source": [
    "#Question 4"
   ]
  },
  {
   "cell_type": "code",
   "execution_count": 12,
   "id": "529886c4-8000-40d3-b1e9-2588de79270b",
   "metadata": {},
   "outputs": [
    {
     "data": {
      "text/plain": [
       "15511210043330985984000000"
      ]
     },
     "execution_count": 12,
     "metadata": {},
     "output_type": "execute_result"
    }
   ],
   "source": [
    "#Answer\n",
    "my_list=[x for x in range(1,26)]\n",
    "from functools import reduce\n",
    "reduce(lambda x,y:x*y,my_list)"
   ]
  },
  {
   "cell_type": "code",
   "execution_count": 13,
   "id": "d64e2676-4d2f-46fe-9bba-8839f125699a",
   "metadata": {},
   "outputs": [],
   "source": [
    "#Question 5"
   ]
  },
  {
   "cell_type": "code",
   "execution_count": 16,
   "id": "ae55bc70-2a0a-4db9-9a5b-64647f51b7da",
   "metadata": {},
   "outputs": [
    {
     "data": {
      "text/plain": [
       "[6, 60, 90, 120]"
      ]
     },
     "execution_count": 16,
     "metadata": {},
     "output_type": "execute_result"
    }
   ],
   "source": [
    "#Answer\n",
    "my_list=[2, 3, 6, 9, 27, 60, 90, 120, 55, 46]\n",
    "list(filter(lambda x:x%2==0 and x%3==0,my_list))"
   ]
  },
  {
   "cell_type": "code",
   "execution_count": 17,
   "id": "9c9b7247-b91d-4117-9c59-c89674088ec5",
   "metadata": {},
   "outputs": [],
   "source": [
    "#Question 6\n"
   ]
  },
  {
   "cell_type": "code",
   "execution_count": 3,
   "id": "63ed0d44-9838-4cc1-b3fc-da7099a8fefa",
   "metadata": {},
   "outputs": [
    {
     "name": "stdout",
     "output_type": "stream",
     "text": [
      "['php', 'aba', 'radar', 'level']\n"
     ]
    }
   ],
   "source": [
    "#Answer\n",
    "my_list=['python', 'php', 'aba', 'radar', 'level']\n",
    "palindrome_list=list(filter(lambda x:x==x[::-1],my_list))\n",
    "print(palindrome_list)"
   ]
  },
  {
   "cell_type": "code",
   "execution_count": null,
   "id": "42e008d7-2c08-432a-af5f-d8e6bad55f51",
   "metadata": {},
   "outputs": [],
   "source": []
  }
 ],
 "metadata": {
  "kernelspec": {
   "display_name": "Python 3 (ipykernel)",
   "language": "python",
   "name": "python3"
  },
  "language_info": {
   "codemirror_mode": {
    "name": "ipython",
    "version": 3
   },
   "file_extension": ".py",
   "mimetype": "text/x-python",
   "name": "python",
   "nbconvert_exporter": "python",
   "pygments_lexer": "ipython3",
   "version": "3.10.8"
  }
 },
 "nbformat": 4,
 "nbformat_minor": 5
}
