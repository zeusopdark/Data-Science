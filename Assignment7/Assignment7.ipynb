{
 "cells": [
  {
   "cell_type": "code",
   "execution_count": 1,
   "id": "ae47ec22-431f-4179-b40b-60d9e8007922",
   "metadata": {},
   "outputs": [],
   "source": [
    "#Question 1"
   ]
  },
  {
   "cell_type": "code",
   "execution_count": 2,
   "id": "0ba6e67d-7ff9-4e6a-a411-e18d1d5156e9",
   "metadata": {},
   "outputs": [],
   "source": [
    "#Answer 1"
   ]
  },
  {
   "cell_type": "markdown",
   "id": "fdd6243f-edc1-4e24-ad91-eb8e422dcb3b",
   "metadata": {},
   "source": [
    "In object-oriented programming (OOP), an abstraction is a fundamental concept that allows you to model real-world objects or systems in a simplified and organized manner. It involves the process of identifying the essential features and behaviors of an object or system while ignoring irrelevant details.\n",
    "\n",
    "Abstraction provides a way to create classes or interfaces that define a set of methods and properties, hiding the implementation details from the outside world. It allows you to focus on what an object does rather than how it does it.\n",
    "\n",
    "In Python, you can create abstractions using classes and interfaces. Here's an example of abstraction in Python:"
   ]
  },
  {
   "cell_type": "code",
   "execution_count": 4,
   "id": "2699dbdc-6994-40c6-9e6f-20bdf1db9684",
   "metadata": {},
   "outputs": [],
   "source": [
    "import abc\n",
    "class demo:\n",
    "    @abc.abstractmethod\n",
    "    def student_name(self):\n",
    "        pass\n",
    "    @abc.abstractmethod\n",
    "    def student_email(self):\n",
    "        pass\n",
    "    @abc.abstractmethod\n",
    "    def student_phone_no(self):\n",
    "        pass  "
   ]
  },
  {
   "cell_type": "code",
   "execution_count": 5,
   "id": "9bac3678-8f7e-4386-ad16-95c005fba015",
   "metadata": {},
   "outputs": [],
   "source": [
    "class Student(demo):\n",
    "    def student_name(self):\n",
    "        return \"This is Ankit Nishad\"\n",
    "    def student_email(self):\n",
    "        return \"ankit@400gmail.com\"\n",
    "    def student_phone_no(self):\n",
    "        return 4567362723"
   ]
  },
  {
   "cell_type": "code",
   "execution_count": 7,
   "id": "6c463107-7b2f-4071-a630-58d443a406c0",
   "metadata": {},
   "outputs": [
    {
     "name": "stdout",
     "output_type": "stream",
     "text": [
      "This is Ankit Nishad\n",
      "ankit@400gmail.com\n",
      "4567362723\n"
     ]
    }
   ],
   "source": [
    "student=Student()  #creating object of the implemented abstract method class that is Student\n",
    "print(student.student_name())\n",
    "print(student.student_email())\n",
    "print(student.student_phone_no())"
   ]
  },
  {
   "cell_type": "code",
   "execution_count": 8,
   "id": "a6dc3242-a98d-49cc-9d30-ac82e10119c1",
   "metadata": {},
   "outputs": [],
   "source": [
    "#Question 2"
   ]
  },
  {
   "cell_type": "code",
   "execution_count": 9,
   "id": "7f493229-79b2-4b9a-9549-11f90aff0560",
   "metadata": {},
   "outputs": [],
   "source": [
    "#Answer 2"
   ]
  },
  {
   "cell_type": "markdown",
   "id": "4abcfb1f-15e8-49b3-ad1e-d1c41408a37a",
   "metadata": {},
   "source": [
    "Abstraction and encapsulation are two important concepts in object-oriented programming (OOP) but serve different purposes.\n",
    "\n",
    "Abstraction focuses on hiding unnecessary details and exposing only the essential features and behaviors of an object or system. It allows you to create classes or interfaces that define a clear contract for the functionality they provide, without revealing the internal implementation details. Abstraction is achieved through abstract classes, interfaces, and the concept of inheritance.\n",
    "\n",
    "Encapsulation, on the other hand, is about bundling data and methods together into a single unit, called a class. It involves the idea of encapsulating data within an object and providing access to that data only through well-defined methods or properties. Encapsulation helps in achieving data integrity and protecting the internal state of an object from external interference."
   ]
  },
  {
   "cell_type": "code",
   "execution_count": 10,
   "id": "00302788-e2a2-4855-8317-15149c3a5424",
   "metadata": {},
   "outputs": [],
   "source": [
    "#Question 3"
   ]
  },
  {
   "cell_type": "code",
   "execution_count": 11,
   "id": "ac9ddb88-a2d2-4724-a2a6-d28298fdcb08",
   "metadata": {},
   "outputs": [],
   "source": [
    "#Answer 3"
   ]
  },
  {
   "cell_type": "markdown",
   "id": "6805ac10-4ee7-4e94-90f8-163621ff92e9",
   "metadata": {},
   "source": [
    "The abc module in Python is used to create abstract base classes (ABCs). ABCs define a common interface that subclasses must adhere to. It provides the ABC class and abstractmethod decorator to define abstract methods and enforce method implementation in subclasses. The abc module helps in creating structured and reusable code by promoting consistent behavior and type checking."
   ]
  },
  {
   "cell_type": "code",
   "execution_count": 12,
   "id": "c4332805-5838-4d68-9290-5c100c6e800e",
   "metadata": {},
   "outputs": [],
   "source": [
    "#Question 4"
   ]
  },
  {
   "cell_type": "code",
   "execution_count": 13,
   "id": "555b2361-eb01-4aaa-a627-52185da422ba",
   "metadata": {},
   "outputs": [],
   "source": [
    "#Answer 4"
   ]
  },
  {
   "cell_type": "markdown",
   "id": "2c910f59-9758-44c5-b911-6e7befaa41a2",
   "metadata": {},
   "source": [
    "Data abstraction can be achieved in Python through the use of classes and access modifiers.\n",
    "\n",
    "Classes: Define classes that encapsulate the data and provide methods for accessing and manipulating that data. By organizing related data and behavior into classes, you create an abstraction layer that hides the implementation details from the outside world.\n",
    "\n",
    "Access Modifiers: Python does not have built-in access modifiers like private, protected, or public, as in some other programming languages. However, you can achieve a form of data abstraction by convention using naming conventions and underscores.\n",
    "\n",
    "Single Underscore _: By convention, a single underscore prefix indicates that an attribute or method is intended for internal use within the class. It signals that it is not part of the public API and should be treated as implementation details.\n",
    "\n",
    "Double Underscore __: A double underscore prefix causes name mangling, which means the attribute or method name is modified to include the class name. It helps to avoid naming conflicts in subclasses, but it doesn't provide strict data encapsulation.\n",
    "\n",
    "No Underscore: Attributes and methods without any underscore prefix are considered public and can be accessed directly by instances of the class.\n",
    "\n",
    "Here's an example that demonstrates data abstraction:"
   ]
  },
  {
   "cell_type": "code",
   "execution_count": 16,
   "id": "708fff00-310b-4467-a5e7-c2d9e13e8a9e",
   "metadata": {},
   "outputs": [
    {
     "name": "stdout",
     "output_type": "stream",
     "text": [
      "Account Number: 123456789\n",
      "Balance: 1000\n",
      "Updated Balance: 1300\n"
     ]
    }
   ],
   "source": [
    "class BankAccount:\n",
    "    def __init__(self, account_number, balance):\n",
    "        self._account_number = account_number  # Encapsulation with a single underscore\n",
    "        self.__balance = balance  # Encapsulation with a double underscore\n",
    "\n",
    "    def deposit(self, amount):\n",
    "        self.__balance += amount\n",
    "\n",
    "    def withdraw(self, amount):\n",
    "        if self.__balance >= amount:\n",
    "            self.__balance -= amount\n",
    "        else:\n",
    "            print(\"Insufficient balance\")\n",
    "\n",
    "    def get_account_number(self):\n",
    "        return self._account_number\n",
    "\n",
    "    def get_balance(self):\n",
    "        return self.__balance\n",
    "\n",
    "# Create an instance of BankAccount\n",
    "account = BankAccount(\"123456789\", 1000)\n",
    "\n",
    "# Accessing attributes through methods\n",
    "print(\"Account Number:\", account.get_account_number())\n",
    "print(\"Balance:\", account.get_balance())\n",
    "\n",
    "# Modifying the balance using deposit and withdraw methods\n",
    "account.deposit(500)\n",
    "account.withdraw(200)\n",
    "\n",
    "print(\"Updated Balance:\", account.get_balance())"
   ]
  },
  {
   "cell_type": "code",
   "execution_count": 17,
   "id": "864eebbe-45ca-4a94-8678-1727af5e3988",
   "metadata": {},
   "outputs": [],
   "source": [
    "#Question 5"
   ]
  },
  {
   "cell_type": "code",
   "execution_count": 18,
   "id": "cda8314d-c558-4dbd-9bea-0bf024778661",
   "metadata": {},
   "outputs": [],
   "source": [
    "#Answer 5"
   ]
  },
  {
   "cell_type": "markdown",
   "id": "8e590ed2-a295-4184-ab6e-cd0152be2426",
   "metadata": {},
   "source": [
    "No, we cannot create an instance of an abstract class in Python. An abstract class is a class that is meant to be subclassed but not instantiated directly. It is designed to provide a common interface or contract for its subclasses.\n",
    "Attempting to create an instance of an abstract class will result in a TypeError. This is because abstract classes are incomplete by design, and they lack the necessary implementations for their abstract methods. They serve as templates or blueprints for subclasses to inherit from and provide the missing implementations."
   ]
  },
  {
   "cell_type": "code",
   "execution_count": null,
   "id": "4ff39ff0-5ec5-4d5c-94d9-9e3a128d3feb",
   "metadata": {},
   "outputs": [],
   "source": []
  }
 ],
 "metadata": {
  "kernelspec": {
   "display_name": "Python 3 (ipykernel)",
   "language": "python",
   "name": "python3"
  },
  "language_info": {
   "codemirror_mode": {
    "name": "ipython",
    "version": 3
   },
   "file_extension": ".py",
   "mimetype": "text/x-python",
   "name": "python",
   "nbconvert_exporter": "python",
   "pygments_lexer": "ipython3",
   "version": "3.10.8"
  }
 },
 "nbformat": 4,
 "nbformat_minor": 5
}
