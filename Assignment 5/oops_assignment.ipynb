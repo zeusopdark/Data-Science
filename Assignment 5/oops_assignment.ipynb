{
 "cells": [
  {
   "cell_type": "code",
   "execution_count": 1,
   "id": "507e332f-38e6-45f4-853f-7498fc783292",
   "metadata": {},
   "outputs": [],
   "source": [
    "#Question 1"
   ]
  },
  {
   "cell_type": "code",
   "execution_count": 2,
   "id": "d917b879-4931-4637-8c45-137d87f2a9ba",
   "metadata": {},
   "outputs": [],
   "source": [
    "#Answer 1"
   ]
  },
  {
   "cell_type": "code",
   "execution_count": 5,
   "id": "883c3c86-15a3-42b1-bd83-9568980538ee",
   "metadata": {},
   "outputs": [],
   "source": [
    "class Vehicle:\n",
    "    \n",
    "    def __init__(self,name_of_vehicle,max_speed,average_of_vehicle):\n",
    "        self.name_of_vehicle=name_of_vehicle\n",
    "        self.max_speed=max_speed\n",
    "        self.average_of_vehicle=average_of_vehicle"
   ]
  },
  {
   "cell_type": "code",
   "execution_count": 8,
   "id": "85ed7a53-53bb-4403-ac41-d56f6ff60ad5",
   "metadata": {},
   "outputs": [],
   "source": [
    "#Question 2"
   ]
  },
  {
   "cell_type": "code",
   "execution_count": 9,
   "id": "4ba651b1-25c3-4d21-aaec-398933b544db",
   "metadata": {},
   "outputs": [],
   "source": [
    "#Answer 2"
   ]
  },
  {
   "cell_type": "code",
   "execution_count": 10,
   "id": "a09a0e6b-9d91-4636-895f-0b8553d4e834",
   "metadata": {},
   "outputs": [],
   "source": [
    "class Car(Vehicle):\n",
    "    def seating_capacity(self,capacity):\n",
    "        self.capacity=capacity\n",
    "        return self.name_of_vehicle,self.capacity"
   ]
  },
  {
   "cell_type": "code",
   "execution_count": 12,
   "id": "338659d4-dd6b-4c9d-ac4c-e1374ef10b95",
   "metadata": {},
   "outputs": [
    {
     "name": "stdout",
     "output_type": "stream",
     "text": [
      "('Maruti', 4)\n"
     ]
    }
   ],
   "source": [
    "vehicle=Car(\"Maruti\",200,50)\n",
    "print(vehicle.seating_capacity(4))"
   ]
  },
  {
   "cell_type": "code",
   "execution_count": 13,
   "id": "52478847-5608-4e02-9dab-226aa07f95d1",
   "metadata": {},
   "outputs": [],
   "source": [
    "#Question 3"
   ]
  },
  {
   "cell_type": "code",
   "execution_count": 14,
   "id": "3414c22a-b215-4cfc-99f7-59e812d2c62d",
   "metadata": {},
   "outputs": [],
   "source": [
    "#Answer"
   ]
  },
  {
   "cell_type": "markdown",
   "id": "cacd0c28-edbf-4b0c-b861-09e3af1f716a",
   "metadata": {},
   "source": [
    "Multiple inheritance is a feature in object-oriented programming where a class can inherit attributes and methods \n",
    "from multiple base classes. This means that a class can inherit characteristics from more than one parent class.\n",
    "\n",
    "Here's an example of a Python code that demonstrates multiple inheritance:"
   ]
  },
  {
   "cell_type": "code",
   "execution_count": 17,
   "id": "5c0f375d-6b84-4ad9-974d-48b91b42f6df",
   "metadata": {},
   "outputs": [],
   "source": [
    "class A:\n",
    "    def method_a(self):\n",
    "        print(\"Method A from Class A\")\n",
    "        \n",
    "class B:\n",
    "    def method_b(self):\n",
    "        print(\"Mehtod B from Class B\")\n",
    "              \n",
    "class C(A, B):\n",
    "    def method_c(self):\n",
    "        print(\"Method C from Class C\")\n",
    "              \n",
    "demo=C()   #Cewating the object of class C which is inheriting the properties of both class A as well as class B"
   ]
  },
  {
   "cell_type": "code",
   "execution_count": 18,
   "id": "d0d570a3-4f52-404e-a3c1-8ec7109dfe63",
   "metadata": {},
   "outputs": [
    {
     "name": "stdout",
     "output_type": "stream",
     "text": [
      "Method A from Class A\n",
      "Mehtod B from Class B\n",
      "Method C from Class C\n"
     ]
    }
   ],
   "source": [
    "demo.method_a()\n",
    "demo.method_b()\n",
    "demo.method_c()"
   ]
  },
  {
   "cell_type": "code",
   "execution_count": 19,
   "id": "b6cbca48-69ea-49dc-b255-1d290150458d",
   "metadata": {},
   "outputs": [],
   "source": [
    "#Question 4"
   ]
  },
  {
   "cell_type": "code",
   "execution_count": 20,
   "id": "f33ebcbf-dd26-4c2c-ade7-d846366dbcf9",
   "metadata": {},
   "outputs": [],
   "source": [
    "#Answer 4"
   ]
  },
  {
   "cell_type": "markdown",
   "id": "b37f7d51-078b-4ce3-aa08-ede91a93db15",
   "metadata": {},
   "source": [
    "In Python, getters and setters are methods used to get and set the values of class attributes respectively. \n",
    "They provide a way to access and modify the attribute values of an object while encapsulating the implementation details.\n",
    "\n",
    "Here's an example of a class with getter and setter methods for an attribute:"
   ]
  },
  {
   "cell_type": "code",
   "execution_count": 27,
   "id": "f74fa64a-f1f2-450d-bd5f-5f47d9b535f9",
   "metadata": {},
   "outputs": [],
   "source": [
    "class MyClass:\n",
    "    def __init__(self):\n",
    "        self._my_attribute=None\n",
    "        \n",
    "    def set_my_attribute(self,value):\n",
    "        self._my_attribute=value         \n",
    "        \n",
    "    def get_my_attribute(self):\n",
    "        return self._my_attribute\n",
    "        "
   ]
  },
  {
   "cell_type": "code",
   "execution_count": 28,
   "id": "b5df2d49-7734-4a31-878c-69626ed84671",
   "metadata": {},
   "outputs": [
    {
     "name": "stdout",
     "output_type": "stream",
     "text": [
      "42\n",
      "Hello\n"
     ]
    }
   ],
   "source": [
    "obj = MyClass()\n",
    "\n",
    "obj.set_my_attribute(42)\n",
    "print(obj.get_my_attribute())  # Output: 42\n",
    "\n",
    "obj.set_my_attribute(\"Hello\")\n",
    "print(obj.get_my_attribute())  # Output: Hello"
   ]
  },
  {
   "cell_type": "code",
   "execution_count": 29,
   "id": "2b798a65-dc22-423d-8090-4ce548c13e2c",
   "metadata": {},
   "outputs": [],
   "source": [
    "#Question 5"
   ]
  },
  {
   "cell_type": "code",
   "execution_count": 30,
   "id": "d324b0c0-4b01-47f7-a3a0-4c95edea08be",
   "metadata": {},
   "outputs": [],
   "source": [
    "#Answer 5"
   ]
  },
  {
   "cell_type": "markdown",
   "id": "9e7da4cd-b4f5-43bd-b6ea-6ff10da01b1d",
   "metadata": {},
   "source": [
    "Method overriding is a concept in object-oriented programming where a subclass provides its own implementation\n",
    "of a method that is already defined in its superclass. This allows the subclass to customize or extend the behavior\n",
    "of the inherited method.\n",
    "\n",
    "Here's an example of method overriding in Python:"
   ]
  },
  {
   "cell_type": "code",
   "execution_count": 39,
   "id": "ae0de985-791b-4660-9b3f-1e2539f833c2",
   "metadata": {},
   "outputs": [],
   "source": [
    "class Animals:\n",
    "    def make_sounds(self):\n",
    "        print(\"Animal makes a generic sounds\")\n",
    "        \n",
    "class Dogs(Animal):\n",
    "    def make_sounds(self):\n",
    "        print(\"The sound of the dogs is Barks Barks\")\n",
    "        \n",
    "class Cats(Animal):\n",
    "    def make_sounds(self):\n",
    "        print(\"The sound made by the cat is Meoww Meoww\")"
   ]
  },
  {
   "cell_type": "code",
   "execution_count": 40,
   "id": "3eab2c59-76f2-46cb-9fca-144065d9a3e0",
   "metadata": {},
   "outputs": [],
   "source": [
    "animal=Animals()\n",
    "dogs=Dogs()\n",
    "cat=Cats()"
   ]
  },
  {
   "cell_type": "code",
   "execution_count": 41,
   "id": "fb66425f-42c7-4a6a-bb6c-5e2b31bbcb97",
   "metadata": {},
   "outputs": [
    {
     "name": "stdout",
     "output_type": "stream",
     "text": [
      "Animal makes a generic sounds\n"
     ]
    }
   ],
   "source": [
    "animal.make_sounds()"
   ]
  },
  {
   "cell_type": "code",
   "execution_count": 42,
   "id": "7b14863c-fe1f-4c38-8d88-2005721490e4",
   "metadata": {},
   "outputs": [
    {
     "name": "stdout",
     "output_type": "stream",
     "text": [
      "The sound of the dogs is Barks Barks\n"
     ]
    }
   ],
   "source": [
    "dogs.make_sounds()"
   ]
  },
  {
   "cell_type": "code",
   "execution_count": 43,
   "id": "24c9feae-ea85-46de-a029-0cd664851696",
   "metadata": {},
   "outputs": [
    {
     "name": "stdout",
     "output_type": "stream",
     "text": [
      "The sound made by the cat is Meoww Meoww\n"
     ]
    }
   ],
   "source": [
    "cat.make_sounds()"
   ]
  },
  {
   "cell_type": "markdown",
   "id": "503328bf-a011-45c0-9b50-d5b916ad7521",
   "metadata": {},
   "source": [
    "In this example, we have three classes: Animal, Dog, and Cat. \n",
    "The Animal class has a method called make_sound that prints a generic sound.\n",
    "\n",
    "Both the Dog and Cat classes inherit from the Animal class. \n",
    "However, they override the make_sound method with their own implementations.\n",
    "\n",
    "When we create instances of the Dog and Cat classes and call the make_sound method,\n",
    "the respective overridden implementations in each subclass are executed.\n",
    "This allows each subclass to define its own unique behavior for the make_sound method.\n",
    "\n",
    "Method overriding is a powerful mechanism that enables polymorphism in object-oriented programming,\n",
    "where different objects of related classes can be treated interchangeably by calling \n",
    "the same method but with different behaviors based on the specific class implementation."
   ]
  },
  {
   "cell_type": "code",
   "execution_count": null,
   "id": "8af14442-995b-4d6b-9c74-17ad27092cfe",
   "metadata": {},
   "outputs": [],
   "source": []
  }
 ],
 "metadata": {
  "kernelspec": {
   "display_name": "Python 3 (ipykernel)",
   "language": "python",
   "name": "python3"
  },
  "language_info": {
   "codemirror_mode": {
    "name": "ipython",
    "version": 3
   },
   "file_extension": ".py",
   "mimetype": "text/x-python",
   "name": "python",
   "nbconvert_exporter": "python",
   "pygments_lexer": "ipython3",
   "version": "3.10.8"
  }
 },
 "nbformat": 4,
 "nbformat_minor": 5
}
