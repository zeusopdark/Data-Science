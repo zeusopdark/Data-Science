{
 "cells": [
  {
   "cell_type": "code",
   "execution_count": 1,
   "id": "b19a23c1-252f-4bb7-ac5e-bb9fca33cd61",
   "metadata": {},
   "outputs": [],
   "source": [
    "#Question 1"
   ]
  },
  {
   "cell_type": "code",
   "execution_count": 2,
   "id": "a611a03b-65c2-4ea1-900e-7f7af6c13b3d",
   "metadata": {},
   "outputs": [],
   "source": [
    "#Answer"
   ]
  },
  {
   "cell_type": "markdown",
   "id": "c518e593-228d-4994-8f50-2ed228da54d2",
   "metadata": {},
   "source": [
    "There are 2 types of comments in python:-\n",
    "1-> Single-Line Comments\n",
    "2-> Multi-Line Comments\n",
    "\n",
    "Single-Line Comments:- Single-line comments are used to comment on a single line of code.\n",
    "In Python, we can use the '#' character to start a single-line comment.\n",
    "Anything after the '#' character on the same line is considered a comment.\n",
    "\n",
    "Example:- # This is a single-line comment\n",
    "x = 10  # Assigning a value to variable x\n",
    "\n",
    "Multi-Line Comments:- Multi-line comments are used to comment on multiple lines of code. \n",
    "In Python, there is no built-in syntax specifically for multi-line comments. \n",
    "However, we can use a multi-line string (also known as a docstring) as a comment block. \n",
    "The string is not assigned to any variable and is ignored by the interpreter.\n",
    "\n",
    "Example :- \"\"\"\n",
    "This is a multi-line comment.\n",
    "It can span across multiple lines.\n",
    "It is often used as a docstring to provide documentation for functions, classes, or modules.\n",
    "\"\"\""
   ]
  },
  {
   "cell_type": "code",
   "execution_count": 3,
   "id": "bbc54244-90e3-4bdb-b357-56a460b7fb10",
   "metadata": {},
   "outputs": [],
   "source": [
    "#Question 2"
   ]
  },
  {
   "cell_type": "code",
   "execution_count": 4,
   "id": "02d44880-4782-488b-816a-74956e00a5ef",
   "metadata": {},
   "outputs": [],
   "source": [
    "#Answer"
   ]
  },
  {
   "cell_type": "markdown",
   "id": "75322be7-3dff-4f1d-84b0-55f96191aa45",
   "metadata": {},
   "source": [
    "In Python, variables are used to store data values.\n",
    "A variable is like a container that holds a value which can be of various types,\n",
    "such as numbers, strings, lists, or even more complex objects.\n",
    "Variables allow you to store and manipulate data throughout your program.\n",
    "\n",
    "To declare and assign a value to a variable in Python, we simply use the assignment operator '='.\n",
    "\n",
    "Here's an example: # Variable declaration and assignment\n",
    "x = 10\n",
    "\n",
    "#Variable assignment with an expression\n",
    "y = x + 5\n",
    "\n",
    "#Variable assignment with a string\n",
    "name = \"John\"\n",
    "\n",
    "#Variable assignment with a list\n",
    "my_list = [1, 2, 3, 4, 5]"
   ]
  },
  {
   "cell_type": "code",
   "execution_count": 5,
   "id": "31e53b23-69ad-4de2-8337-2659b1c03d2b",
   "metadata": {},
   "outputs": [],
   "source": [
    "#Question 3\n",
    "#Answer"
   ]
  },
  {
   "cell_type": "markdown",
   "id": "88b39058-1a33-4789-8496-efed3ab5d6d5",
   "metadata": {},
   "source": [
    "In Python, we can convert one data type to another using type conversion functions or constructors.\n",
    "Here are some commonly used methods for type conversion:\n",
    "    \n",
    "1-> Integer Conversion: To convert a value to an integer, we can use the int() function.\n",
    "It will remove any fractional part and return the integer value.\n",
    "\n",
    "For example: x = int(3.14)  # x will be 3\n",
    "y = int(\"10\")  # y will be 10\n",
    "\n",
    "2-> Floating-Point Conversion: To convert a value to a floating-point number, we can use the float() function.\n",
    "It will add a fractional part if necessary. \n",
    "\n",
    "For example: x = float(5)     # x will be 5.0\n",
    "y = float(\"3.14\")  # y will be 3.14\n",
    "\n",
    "3->String Conversion: To convert a value to a string, we can use the str() function.\n",
    "It will create a string representation of the value.\n",
    "\n",
    "For example: x = str(10)     # x will be the string \"10\"\n",
    "y = str(3.14)   # y will be the string \"3.14\"\n",
    "\n",
    "4-> List Conversion: To convert a sequence (such as a string or a tuple) to a list, we can use the list() function.\n",
    "It will create a new list with the elements from the sequence.\n",
    "\n",
    "For example: x = list(\"hello\")         # x will be ['h', 'e', 'l', 'l', 'o']\n",
    "y = list((1, 2, 3, 4))    # y will be [1, 2, 3, 4]\n",
    "\n",
    "5-> Tuple Conversion: To convert a sequence (such as a string or a list) to a tuple, we can use the tuple() function. \n",
    "It will create a new tuple with the elements from the sequence. \n",
    "\n",
    "For example: x = tuple(\"hello\")         # x will be ('h', 'e', 'l', 'l', 'o')\n",
    "y = tuple([1, 2, 3, 4])    # y will be (1, 2, 3, 4)\n"
   ]
  },
  {
   "cell_type": "code",
   "execution_count": 7,
   "id": "6dc27c85-5afd-448f-bd16-35fe492da182",
   "metadata": {},
   "outputs": [],
   "source": [
    "#Question 4\n",
    "#Answer\n"
   ]
  },
  {
   "cell_type": "markdown",
   "id": "297a6998-b2cb-45cb-b786-db7039d2064c",
   "metadata": {},
   "source": [
    "To write and execute a Python script from the command line, we can follow these steps:\n",
    "\n",
    "1->Open a text editor and write  Python code. For example, create a file named 'script.py' and add the following code:\n",
    "print(\"Hello, World!\")\n",
    "\n",
    "2-> Save the file with a .py extension. In this case, the file would be saved as script.py.\n",
    "\n",
    "3-> Open a command prompt or terminal.\n",
    "\n",
    "4-> Navigate to the directory where  Python script is located using the cd command.\n",
    "For example, if your script is located in the Documents directory, we would use:\n",
    "'cd Documents'\n",
    "\n",
    "5-> Once you're in the correct directory, you can execute the script by typing python followed by the script's filename. \n",
    "python script.py\n",
    "\n",
    "This will execute the Python script, and we should see the output in the command prompt or terminal:\n",
    " \"Hello, World!\""
   ]
  },
  {
   "cell_type": "code",
   "execution_count": 8,
   "id": "8e99c4d7-7980-4ea9-a649-50bc7554c7b0",
   "metadata": {},
   "outputs": [],
   "source": [
    "#Question 5\n",
    "#Answer"
   ]
  },
  {
   "cell_type": "code",
   "execution_count": 11,
   "id": "fc35e009-4730-413f-b51e-98d67598f994",
   "metadata": {},
   "outputs": [
    {
     "name": "stdout",
     "output_type": "stream",
     "text": [
      "[2, 3]\n"
     ]
    }
   ],
   "source": [
    "my_list=[1,2,3,4,5]\n",
    "\n",
    "sub_list=my_list[1:3]\n",
    "print(sub_list)"
   ]
  },
  {
   "cell_type": "code",
   "execution_count": 12,
   "id": "49dc683c-5aad-4364-b355-0bf9e9bc08a4",
   "metadata": {},
   "outputs": [],
   "source": [
    "#Question 6\n",
    "#Answer"
   ]
  },
  {
   "cell_type": "markdown",
   "id": "784a0cb2-7447-47a6-bdd8-ed60ee3b6ae3",
   "metadata": {},
   "source": [
    "In mathematics, a complex number is a number that can be expressed in the form a + bi, \n",
    "where a and b are real numbers, and i is the imaginary unit defined as the square root of -1.\n",
    "The real part a represents the real number component, and the imaginary part b represents the imaginary number component.\n",
    "\n",
    "In Python, complex numbers are a built-in data type and can be represented using the complex class.\n",
    "They are written in the form a + bj, where a and b are real numbers,\n",
    "and j is used instead of i to denote the imaginary unit. The j can be either lowercase or uppercase.\n",
    "\n",
    "Here are a few examples of representing complex numbers in Python:\n",
    "z1 = 2 + 3j\n",
    "z2 = 4 - 1j\n",
    "z3 = -1.5 + 0.5j\n",
    "z4 = complex(1, -2)"
   ]
  },
  {
   "cell_type": "code",
   "execution_count": 13,
   "id": "898aeb24-d209-4c38-b49f-7bca4da5081e",
   "metadata": {},
   "outputs": [],
   "source": [
    "#Question 7\n",
    "#Answer"
   ]
  },
  {
   "cell_type": "markdown",
   "id": "b92d707c-f636-401f-bbc4-e7c6930b1af9",
   "metadata": {},
   "source": [
    "The correct way to declare a variable named age and assign the value 25 to it in Python is as follows:\n",
    "    'age = 25'\n",
    "    \n",
    "In the code above, the variable age is declared and assigned the value 25 using the assignment operator =. \n",
    "This line of code creates a variable named age and assigns it the integer value 25.\n",
    "After this declaration and assignment, we can use the variable age throughout our program \n",
    "to access and manipulate the value 25."
   ]
  },
  {
   "cell_type": "code",
   "execution_count": 14,
   "id": "9528e858-7273-4377-a0db-35ee4a18988a",
   "metadata": {},
   "outputs": [],
   "source": [
    "#Question 8\n",
    "#Answer"
   ]
  },
  {
   "cell_type": "markdown",
   "id": "1e1ea8ba-5305-4f81-a662-d060cf6a47b4",
   "metadata": {},
   "source": [
    "The variable named price assigned the value 9.99 belongs to the data type called \"float\" in Python.\n",
    "\n",
    "A float data type represents a decimal number with fractional parts. \n",
    "In this case, 9.99 is a decimal value, and assigning it to the variable price makes price a float variable.\n",
    "Floats are used to represent real numbers in Python that can have both integer and fractional parts.\n",
    "\n",
    "Here's an example of declaring the price variable and assigning it the value 9.99:\n",
    "'price = 9.99'\n",
    "\n",
    "After this declaration, the variable price will be of type float, \n",
    "allowing you to perform operations that are applicable to decimal numbers, \n",
    "such as arithmetic calculations involving fractional values."
   ]
  },
  {
   "cell_type": "code",
   "execution_count": 15,
   "id": "42f333b0-67b9-45af-b99e-cf163f0cf395",
   "metadata": {},
   "outputs": [],
   "source": [
    "#Question 9\n",
    "#Answer"
   ]
  },
  {
   "cell_type": "markdown",
   "id": "34cdcc6f-e243-4815-8494-f4a3fa2d9b8a",
   "metadata": {},
   "source": [
    "To create a variable named name and assign  full name to it as a string, we can follow like this :\n",
    "\n",
    "    name='Ankit Nishad'\n",
    "    \n",
    "To print the above we have to use the print() method which is there in python we can do it like this\n",
    "\n",
    "print(name)  # This will give the output as Ankit Nishad."
   ]
  },
  {
   "cell_type": "code",
   "execution_count": 16,
   "id": "9995bf1d-cf74-4d5a-af97-1781d707d22f",
   "metadata": {},
   "outputs": [],
   "source": [
    "#Question 10\n",
    "#Answer"
   ]
  },
  {
   "cell_type": "code",
   "execution_count": 17,
   "id": "ccf26c92-9ba2-423b-b53c-2b7e864f2676",
   "metadata": {},
   "outputs": [
    {
     "name": "stdout",
     "output_type": "stream",
     "text": [
      "World\n"
     ]
    }
   ],
   "source": [
    "my_string=\"Hello, World!\"\n",
    "\n",
    "my_substring=my_string[7:12]\n",
    "print(my_substring)"
   ]
  },
  {
   "cell_type": "code",
   "execution_count": null,
   "id": "67061501-c0d4-4ccc-8d50-9923efceceb8",
   "metadata": {},
   "outputs": [],
   "source": []
  }
 ],
 "metadata": {
  "kernelspec": {
   "display_name": "Python 3 (ipykernel)",
   "language": "python",
   "name": "python3"
  },
  "language_info": {
   "codemirror_mode": {
    "name": "ipython",
    "version": 3
   },
   "file_extension": ".py",
   "mimetype": "text/x-python",
   "name": "python",
   "nbconvert_exporter": "python",
   "pygments_lexer": "ipython3",
   "version": "3.10.8"
  }
 },
 "nbformat": 4,
 "nbformat_minor": 5
}
