{
 "cells": [
  {
   "cell_type": "code",
   "execution_count": 1,
   "id": "b99fb8d3-2c30-4393-9313-7f9ff0e1ac2d",
   "metadata": {},
   "outputs": [
    {
     "ename": "ZeroDivisionError",
     "evalue": "division by zero",
     "output_type": "error",
     "traceback": [
      "\u001b[0;31m---------------------------------------------------------------------------\u001b[0m",
      "\u001b[0;31mZeroDivisionError\u001b[0m                         Traceback (most recent call last)",
      "Cell \u001b[0;32mIn[1], line 2\u001b[0m\n\u001b[1;32m      1\u001b[0m a\u001b[38;5;241m=\u001b[39m\u001b[38;5;241m10\u001b[39m\n\u001b[0;32m----> 2\u001b[0m a\u001b[38;5;241m/\u001b[39m\u001b[38;5;241m=\u001b[39m\u001b[38;5;241m0\u001b[39m\n",
      "\u001b[0;31mZeroDivisionError\u001b[0m: division by zero"
     ]
    }
   ],
   "source": [
    "a=10\n",
    "a/=0"
   ]
  },
  {
   "cell_type": "code",
   "execution_count": 2,
   "id": "54b71539-920f-4f47-afe0-8af1152551e0",
   "metadata": {},
   "outputs": [],
   "source": [
    "#Exception occurs"
   ]
  },
  {
   "cell_type": "code",
   "execution_count": 7,
   "id": "091b70e9-8efb-40fa-af78-db05a7ae6c3e",
   "metadata": {},
   "outputs": [
    {
     "name": "stdout",
     "output_type": "stream",
     "text": [
      "This will beexecuted once your try will execute without error\n"
     ]
    }
   ],
   "source": [
    "try :\n",
    "    f=open(\"exc\",'w')\n",
    "    f.write(\"Write into my file\")\n",
    "except Exception as e:\n",
    "    print(\"This is my except block \", e)\n",
    "else:\n",
    "    f.close()\n",
    "    print(\"This will beexecuted once your try will execute without error\")\n",
    "    "
   ]
  },
  {
   "cell_type": "code",
   "execution_count": 9,
   "id": "d7562c74-a30e-4b57-9355-6cb97a15cc73",
   "metadata": {},
   "outputs": [
    {
     "name": "stdout",
     "output_type": "stream",
     "text": [
      "This is my except block  [Errno 2] No such file or directory: 'exc1'\n"
     ]
    }
   ],
   "source": [
    "try :\n",
    "    f=open(\"exc1\",'r')\n",
    "    f.write(\"Write into my file\")\n",
    "except Exception as e:\n",
    "    print(\"This is my except block \", e)\n",
    "else:\n",
    "    f.close()\n",
    "    print(\"This will be executed once your try will execute without error\")\n",
    "    "
   ]
  },
  {
   "cell_type": "code",
   "execution_count": 10,
   "id": "0aae0ea1-b731-46f7-9a4c-e8efd4aac7c7",
   "metadata": {},
   "outputs": [
    {
     "name": "stdout",
     "output_type": "stream",
     "text": [
      "Finally will be executed itself in any situation\n"
     ]
    }
   ],
   "source": [
    "try:\n",
    "    f=open(\"exec2\",'w')\n",
    "    f.write(\"Write something\")\n",
    "finally:\n",
    "    print(\"Finally will be executed itself in any situation\")"
   ]
  },
  {
   "cell_type": "code",
   "execution_count": 11,
   "id": "0b8a038b-4722-4395-9172-17b730156c69",
   "metadata": {},
   "outputs": [],
   "source": [
    "#Creation of ccustom exception"
   ]
  },
  {
   "cell_type": "code",
   "execution_count": 1,
   "id": "51bea19f-4bcf-4ece-b5f1-54c6642ad796",
   "metadata": {},
   "outputs": [
    {
     "name": "stdin",
     "output_type": "stream",
     "text": [
      "Enter your age: -125\n"
     ]
    }
   ],
   "source": [
    "age=int(input(\"Enter your age:\"))"
   ]
  },
  {
   "cell_type": "code",
   "execution_count": 3,
   "id": "ac5a91af-20b5-4e17-a0fb-13bc2fa3968b",
   "metadata": {},
   "outputs": [],
   "source": [
    "class Validate(Exception):\n",
    "    def __init__(self,msg):\n",
    "        self.msg=msg"
   ]
  },
  {
   "cell_type": "code",
   "execution_count": 4,
   "id": "6911a92d-c7d6-4bac-8602-ebd0154575b9",
   "metadata": {},
   "outputs": [],
   "source": [
    "def validateage(age):\n",
    "    if age < 0 :\n",
    "        raise Validate(\"Entered age is negative\")\n",
    "    elif age > 200:\n",
    "        raise Validate(\"Entered age is very very high\")\n",
    "    else:\n",
    "        print(\"Age is valid\")"
   ]
  },
  {
   "cell_type": "code",
   "execution_count": 5,
   "id": "8472e7bc-7875-4e04-a39e-58598a08d39f",
   "metadata": {},
   "outputs": [
    {
     "name": "stdin",
     "output_type": "stream",
     "text": [
      "Enter your age :  -100\n"
     ]
    },
    {
     "name": "stdout",
     "output_type": "stream",
     "text": [
      "Entered age is negative\n"
     ]
    }
   ],
   "source": [
    "try :\n",
    "    age = int(input(\"Enter your age : \"))\n",
    "    validateage(age)\n",
    "except Validate as e:\n",
    "    print(e)"
   ]
  },
  {
   "cell_type": "code",
   "execution_count": 1,
   "id": "a02fe8e0-7bbc-4f00-ae6b-091ba01c3eba",
   "metadata": {},
   "outputs": [],
   "source": [
    "#List of general use exceptions"
   ]
  },
  {
   "cell_type": "code",
   "execution_count": 3,
   "id": "dd1b5869-a67a-4179-9ffc-308104ae0b0e",
   "metadata": {},
   "outputs": [
    {
     "name": "stdout",
     "output_type": "stream",
     "text": [
      "division by zero\n"
     ]
    }
   ],
   "source": [
    "try :\n",
    "    a=10/0\n",
    "except ZeroDivisionError as e:\n",
    "    print(e)"
   ]
  },
  {
   "cell_type": "code",
   "execution_count": 4,
   "id": "9ccd4619-628d-4049-b7dd-3dd4b32bc93f",
   "metadata": {},
   "outputs": [
    {
     "name": "stdout",
     "output_type": "stream",
     "text": [
      "invalid literal for int() with base 10: 'ankit'\n"
     ]
    }
   ],
   "source": [
    "try :\n",
    "    int(\"ankit\")\n",
    "except (ValueError, TypeError) as e:\n",
    "    print(e)"
   ]
  },
  {
   "cell_type": "code",
   "execution_count": 7,
   "id": "82345e3a-34a3-4e46-a39c-5d5cbb661c6b",
   "metadata": {},
   "outputs": [
    {
     "name": "stdout",
     "output_type": "stream",
     "text": [
      "this will catch an error\n"
     ]
    }
   ],
   "source": [
    "try :\n",
    "    int(\"ank\")\n",
    "except:\n",
    "    print(\"this will catch an error\")"
   ]
  },
  {
   "cell_type": "code",
   "execution_count": 8,
   "id": "aa9964ab-69cd-47c7-89fe-9946b3b62e3a",
   "metadata": {},
   "outputs": [
    {
     "name": "stdout",
     "output_type": "stream",
     "text": [
      "No module named 'ank'\n"
     ]
    }
   ],
   "source": [
    "try :\n",
    "    import ank\n",
    "except ImportError as e:\n",
    "    print(e)"
   ]
  },
  {
   "cell_type": "code",
   "execution_count": 10,
   "id": "5c253bd8-6841-4fb1-89a1-b98f3073f429",
   "metadata": {},
   "outputs": [
    {
     "name": "stdout",
     "output_type": "stream",
     "text": [
      "'key2'\n"
     ]
    }
   ],
   "source": [
    "try :\n",
    "    d={\"key\":\"ank\",1:[1,2,3,4]}\n",
    "    print(d[\"key2\"])\n",
    "except KeyError as e:\n",
    "    print(e)"
   ]
  },
  {
   "cell_type": "code",
   "execution_count": 15,
   "id": "0749630c-a8ed-4932-8ebc-2610b0d355af",
   "metadata": {},
   "outputs": [
    {
     "ename": "NameError",
     "evalue": "name 'ank' is not defined",
     "output_type": "error",
     "traceback": [
      "\u001b[0;31m---------------------------------------------------------------------------\u001b[0m",
      "\u001b[0;31mNameError\u001b[0m                                 Traceback (most recent call last)",
      "Cell \u001b[0;32mIn[15], line 2\u001b[0m\n\u001b[1;32m      1\u001b[0m \u001b[38;5;28;01mtry\u001b[39;00m :\n\u001b[0;32m----> 2\u001b[0m     \u001b[43mank\u001b[49m\u001b[38;5;241m.\u001b[39mtest()\n\u001b[1;32m      3\u001b[0m \u001b[38;5;28;01mexcept\u001b[39;00m \u001b[38;5;167;01mAttributeError\u001b[39;00m \u001b[38;5;28;01mas\u001b[39;00m e:\n\u001b[1;32m      4\u001b[0m     \u001b[38;5;28mprint\u001b[39m(e)\n",
      "\u001b[0;31mNameError\u001b[0m: name 'ank' is not defined"
     ]
    }
   ],
   "source": [
    "try :\n",
    "    ank.test()\n",
    "except AttributeError as e:\n",
    "    print(e)"
   ]
  },
  {
   "cell_type": "code",
   "execution_count": 17,
   "id": "5ea25ff6-5ddb-455e-8968-5671289a01a4",
   "metadata": {},
   "outputs": [
    {
     "name": "stdout",
     "output_type": "stream",
     "text": [
      "list index out of range\n"
     ]
    }
   ],
   "source": [
    "try :\n",
    "    l=[1,2,3,4]\n",
    "    l[6]\n",
    "except IndexError as e:\n",
    "    print(e)"
   ]
  },
  {
   "cell_type": "code",
   "execution_count": 2,
   "id": "ad9477e0-e341-4739-b422-6ef946e14fe8",
   "metadata": {},
   "outputs": [],
   "source": [
    "#always try to log your error\n",
    "import logging\n",
    "logging.basicConfig(filename=\"error.log\",level=logging.DEBUG)\n",
    "try:\n",
    "    10/0\n",
    "except ZeroDivisionError as e :\n",
    "    logging.error(\"I am trying to handle a zerodivision error {}\".format(e))"
   ]
  },
  {
   "cell_type": "code",
   "execution_count": 3,
   "id": "67af4814-fc8e-487f-bc14-270ef2db3cca",
   "metadata": {},
   "outputs": [],
   "source": [
    "#always avoid to write a multiple exception handling"
   ]
  },
  {
   "cell_type": "code",
   "execution_count": 4,
   "id": "f65c2bd4-f7b5-443e-a0cd-4aae15578a97",
   "metadata": {},
   "outputs": [],
   "source": [
    "try:\n",
    "    10/0\n",
    "except FileNotFoundError as e:\n",
    "    logging.error(\"I am handling file not found error {}\".format(e))\n",
    "except ZeroDivisionError as e :\n",
    "    logging.error(\"I am trying to handle a zerodivision error {}\".format(e))"
   ]
  },
  {
   "cell_type": "code",
   "execution_count": 5,
   "id": "9018a2ee-8710-419b-938d-de0df7122d9e",
   "metadata": {},
   "outputs": [],
   "source": [
    "#This is not a good practice avoid multiple exception handling at once"
   ]
  },
  {
   "cell_type": "code",
   "execution_count": null,
   "id": "47adec0f-2b1b-4ca6-87ba-c8447d69b819",
   "metadata": {},
   "outputs": [],
   "source": []
  }
 ],
 "metadata": {
  "kernelspec": {
   "display_name": "Python 3 (ipykernel)",
   "language": "python",
   "name": "python3"
  },
  "language_info": {
   "codemirror_mode": {
    "name": "ipython",
    "version": 3
   },
   "file_extension": ".py",
   "mimetype": "text/x-python",
   "name": "python",
   "nbconvert_exporter": "python",
   "pygments_lexer": "ipython3",
   "version": "3.10.8"
  }
 },
 "nbformat": 4,
 "nbformat_minor": 5
}
