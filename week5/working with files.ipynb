{
 "cells": [
  {
   "cell_type": "code",
   "execution_count": 41,
   "id": "1e18a54c-d7a2-4f84-9089-47622e987a0e",
   "metadata": {},
   "outputs": [],
   "source": [
    "f=open(\"test.txt\",'w')"
   ]
  },
  {
   "cell_type": "code",
   "execution_count": 42,
   "id": "f2fbcbd6-3d21-4e7d-8e37-af2b482a453d",
   "metadata": {},
   "outputs": [
    {
     "data": {
      "text/plain": [
       "21"
      ]
     },
     "execution_count": 42,
     "metadata": {},
     "output_type": "execute_result"
    }
   ],
   "source": [
    "f.write(\"This is my first file\")"
   ]
  },
  {
   "cell_type": "code",
   "execution_count": 43,
   "id": "b3ac094b-0f93-4390-a1f3-a0bd7901f2c7",
   "metadata": {},
   "outputs": [],
   "source": [
    "f.close()"
   ]
  },
  {
   "cell_type": "code",
   "execution_count": 44,
   "id": "872910e2-8361-4c99-9dd4-37b683bdeace",
   "metadata": {},
   "outputs": [],
   "source": [
    "f=open(\"test.txt\",'w')"
   ]
  },
  {
   "cell_type": "code",
   "execution_count": 45,
   "id": "0dff19bb-2d22-424a-8713-d74393a1e39f",
   "metadata": {},
   "outputs": [
    {
     "data": {
      "text/plain": [
       "28"
      ]
     },
     "execution_count": 45,
     "metadata": {},
     "output_type": "execute_result"
    }
   ],
   "source": [
    "f.write(\"The data will be changed now\")"
   ]
  },
  {
   "cell_type": "code",
   "execution_count": 46,
   "id": "8b059102-5204-4c08-9787-8e181fc7f2ee",
   "metadata": {},
   "outputs": [],
   "source": [
    "#when we write above statement the first thing that is going to happen is that it will truncate previous data and as soon as we close the file whatever data we will write it willl append in that file"
   ]
  },
  {
   "cell_type": "code",
   "execution_count": 47,
   "id": "747e08a8-6fc1-4969-a967-eb5a5ecd8e5b",
   "metadata": {},
   "outputs": [],
   "source": [
    "f.close()"
   ]
  },
  {
   "cell_type": "code",
   "execution_count": 48,
   "id": "d94c6e1a-57b9-4b4a-8a07-056a9532fd9d",
   "metadata": {},
   "outputs": [],
   "source": [
    "f=open(\"test.txt\",'a')  #will not truncate the previous data"
   ]
  },
  {
   "cell_type": "code",
   "execution_count": 49,
   "id": "64dacf55-d307-45a0-be0b-1b7b01b8b950",
   "metadata": {},
   "outputs": [
    {
     "data": {
      "text/plain": [
       "59"
      ]
     },
     "execution_count": 49,
     "metadata": {},
     "output_type": "execute_result"
    }
   ],
   "source": [
    "f.write(\"This is a very important method please understand carefully\")"
   ]
  },
  {
   "cell_type": "code",
   "execution_count": 50,
   "id": "4391a310-3921-4e40-89c9-757713def806",
   "metadata": {},
   "outputs": [],
   "source": [
    "f.close()"
   ]
  },
  {
   "cell_type": "code",
   "execution_count": 53,
   "id": "ece43aa1-a839-4ade-a6cf-b0ecafa18f34",
   "metadata": {},
   "outputs": [],
   "source": [
    "f=open(\"test.txt\",'r')  #Read mode"
   ]
  },
  {
   "cell_type": "code",
   "execution_count": 54,
   "id": "a030dacf-40b3-42d7-ab88-ef9f307e7051",
   "metadata": {},
   "outputs": [
    {
     "data": {
      "text/plain": [
       "'The data will be changed nowThis is a very important method please understand carefully'"
      ]
     },
     "execution_count": 54,
     "metadata": {},
     "output_type": "execute_result"
    }
   ],
   "source": [
    "f.read()"
   ]
  },
  {
   "cell_type": "code",
   "execution_count": 59,
   "id": "cf0a35e2-7661-4a6c-8643-eae63d61c8d0",
   "metadata": {},
   "outputs": [
    {
     "data": {
      "text/plain": [
       "''"
      ]
     },
     "execution_count": 59,
     "metadata": {},
     "output_type": "execute_result"
    }
   ],
   "source": [
    "f.readline()  #Since pointer is at last letter after reading the complete text it returns blank"
   ]
  },
  {
   "cell_type": "code",
   "execution_count": 64,
   "id": "e738b65d-3ea9-4b22-a7a7-52a99d77ad07",
   "metadata": {},
   "outputs": [
    {
     "data": {
      "text/plain": [
       "0"
      ]
     },
     "execution_count": 64,
     "metadata": {},
     "output_type": "execute_result"
    }
   ],
   "source": [
    "f.seek(0)  #set the pointer at 0th position "
   ]
  },
  {
   "cell_type": "code",
   "execution_count": 65,
   "id": "6d89a1d8-85c5-4993-8b62-a7731195c810",
   "metadata": {},
   "outputs": [
    {
     "data": {
      "text/plain": [
       "'The data will be changed nowThis is a very important method please understand carefully'"
      ]
     },
     "execution_count": 65,
     "metadata": {},
     "output_type": "execute_result"
    }
   ],
   "source": [
    "f.readline()"
   ]
  },
  {
   "cell_type": "code",
   "execution_count": 66,
   "id": "46878500-2b12-410a-9211-c385abb55385",
   "metadata": {},
   "outputs": [
    {
     "data": {
      "text/plain": [
       "10"
      ]
     },
     "execution_count": 66,
     "metadata": {},
     "output_type": "execute_result"
    }
   ],
   "source": [
    "f.seek(10)"
   ]
  },
  {
   "cell_type": "code",
   "execution_count": 67,
   "id": "7d4aadb8-ba8f-4ded-b3de-47d4e9ee2f79",
   "metadata": {},
   "outputs": [
    {
     "data": {
      "text/plain": [
       "'ill be changed nowThis is a very important method please understand carefully'"
      ]
     },
     "execution_count": 67,
     "metadata": {},
     "output_type": "execute_result"
    }
   ],
   "source": [
    "f.readline()"
   ]
  },
  {
   "cell_type": "code",
   "execution_count": 68,
   "id": "abbb0a4b-4afb-4043-95c4-b75ad45e125c",
   "metadata": {},
   "outputs": [],
   "source": [
    "data=open(\"test.txt\",'r')"
   ]
  },
  {
   "cell_type": "code",
   "execution_count": 69,
   "id": "4dda09ba-b50b-4591-9e60-318d4f0339bd",
   "metadata": {},
   "outputs": [
    {
     "name": "stdout",
     "output_type": "stream",
     "text": [
      "The data will be changed nowThis is a very important method please understand carefully\n"
     ]
    }
   ],
   "source": [
    "for i in data:\n",
    "    print(i)"
   ]
  },
  {
   "cell_type": "code",
   "execution_count": 70,
   "id": "95846184-f25a-4f88-82e9-293a778c8515",
   "metadata": {},
   "outputs": [],
   "source": [
    "import os    #its a module we can check size as well of our file"
   ]
  },
  {
   "cell_type": "code",
   "execution_count": 71,
   "id": "6b2ad204-aea1-4ebd-8d91-debd457ed055",
   "metadata": {},
   "outputs": [
    {
     "data": {
      "text/plain": [
       "87"
      ]
     },
     "execution_count": 71,
     "metadata": {},
     "output_type": "execute_result"
    }
   ],
   "source": [
    "os.path.getsize('test.txt')"
   ]
  },
  {
   "cell_type": "code",
   "execution_count": 72,
   "id": "4059f5e1-b0be-4455-97ed-53d3c1187083",
   "metadata": {},
   "outputs": [],
   "source": [
    "os.remove('test.txt')"
   ]
  },
  {
   "cell_type": "code",
   "execution_count": 73,
   "id": "1f89b66c-5b31-40f8-b381-2ef1d64e3ba2",
   "metadata": {},
   "outputs": [],
   "source": [
    "f=open('test1.txt','w')"
   ]
  },
  {
   "cell_type": "code",
   "execution_count": 74,
   "id": "9f1d79a3-6b28-449b-9959-6432651b0c68",
   "metadata": {},
   "outputs": [
    {
     "data": {
      "text/plain": [
       "24"
      ]
     },
     "execution_count": 74,
     "metadata": {},
     "output_type": "execute_result"
    }
   ],
   "source": [
    "f.write('abra ka dabra cho mantar')"
   ]
  },
  {
   "cell_type": "code",
   "execution_count": 75,
   "id": "cbe45e3c-da23-46fd-920e-2c3960c7c985",
   "metadata": {},
   "outputs": [],
   "source": [
    "f.close()"
   ]
  },
  {
   "cell_type": "code",
   "execution_count": 76,
   "id": "d60102ff-1460-4925-b6f1-4679fd99a944",
   "metadata": {},
   "outputs": [],
   "source": [
    "os.rename('test1.txt','newtest.txt')"
   ]
  },
  {
   "cell_type": "code",
   "execution_count": 79,
   "id": "14c09023-053c-4227-9a23-5279ff104d0a",
   "metadata": {},
   "outputs": [],
   "source": [
    "import shutil   #used to make a clone of first copy"
   ]
  },
  {
   "cell_type": "code",
   "execution_count": 80,
   "id": "f026c1a5-24bc-4f46-943e-3f3b2d892f83",
   "metadata": {},
   "outputs": [
    {
     "data": {
      "text/plain": [
       "'copy_new.txt'"
      ]
     },
     "execution_count": 80,
     "metadata": {},
     "output_type": "execute_result"
    }
   ],
   "source": [
    "shutil.copy('newtest.txt','copy_new.txt')"
   ]
  },
  {
   "cell_type": "code",
   "execution_count": 86,
   "id": "031a5f27-7efd-4738-bd1c-8e330c0ddff1",
   "metadata": {},
   "outputs": [],
   "source": [
    "#2nd way to read the data"
   ]
  },
  {
   "cell_type": "code",
   "execution_count": 87,
   "id": "a5917b6e-acfc-4f3d-9b3e-79c9a5b51803",
   "metadata": {},
   "outputs": [
    {
     "name": "stdout",
     "output_type": "stream",
     "text": [
      "abra ka dabra cho mantar\n"
     ]
    }
   ],
   "source": [
    "with open(\"newtest.txt\",'r')as f:   #this is an alias\n",
    "    print(f.read())"
   ]
  },
  {
   "cell_type": "code",
   "execution_count": 89,
   "id": "169c8534-a38e-4d81-b4d2-632c9baa0aae",
   "metadata": {},
   "outputs": [],
   "source": [
    "data={\n",
    "   \"name\":\"ankit\",\n",
    "   \"email\":\"ankit@1234\",\n",
    "   \"phone_number\":8938293728,\n",
    "    \"subject\":[\"data science\",\"bigdata\",\"data analytics\"]\n",
    "}"
   ]
  },
  {
   "cell_type": "code",
   "execution_count": 90,
   "id": "f74c7dee-0305-4a20-9b8f-ef36f330580a",
   "metadata": {},
   "outputs": [],
   "source": [
    "#this is  a jason file"
   ]
  },
  {
   "cell_type": "code",
   "execution_count": 91,
   "id": "a9ebe9c4-3c5a-4874-b64b-0ed951a58d83",
   "metadata": {},
   "outputs": [],
   "source": [
    "#how to write this kind of data in file"
   ]
  },
  {
   "cell_type": "code",
   "execution_count": 92,
   "id": "17f9a8e7-0291-4a18-b104-552c05e496bc",
   "metadata": {},
   "outputs": [],
   "source": [
    "import json"
   ]
  },
  {
   "cell_type": "code",
   "execution_count": 94,
   "id": "18dda037-4502-4401-8f90-7130b0fadcdd",
   "metadata": {},
   "outputs": [],
   "source": [
    "with open('data.json','w') as f:\n",
    "    json.dump(data,f)"
   ]
  },
  {
   "cell_type": "code",
   "execution_count": 95,
   "id": "f1a2e612-dafb-4a42-9e89-c0fb97f4270c",
   "metadata": {},
   "outputs": [],
   "source": [
    "with open('data.json','r')as f:\n",
    "    data1=json.load(f)"
   ]
  },
  {
   "cell_type": "code",
   "execution_count": 96,
   "id": "d73b164d-984c-4585-b38c-de52ed3579dd",
   "metadata": {},
   "outputs": [
    {
     "data": {
      "text/plain": [
       "{'name': 'ankit',\n",
       " 'email': 'ankit@1234',\n",
       " 'phone_number': 8938293728,\n",
       " 'subject': ['data science', 'bigdata', 'data analytics']}"
      ]
     },
     "execution_count": 96,
     "metadata": {},
     "output_type": "execute_result"
    }
   ],
   "source": [
    "data1"
   ]
  },
  {
   "cell_type": "code",
   "execution_count": 97,
   "id": "dc46b869-02b5-4f08-95b3-bb9ab9378a41",
   "metadata": {},
   "outputs": [
    {
     "data": {
      "text/plain": [
       "'bigdata'"
      ]
     },
     "execution_count": 97,
     "metadata": {},
     "output_type": "execute_result"
    }
   ],
   "source": [
    "data1['subject'][1]"
   ]
  },
  {
   "cell_type": "code",
   "execution_count": 98,
   "id": "473403dc-b293-46e0-9593-a41c1681a7b8",
   "metadata": {},
   "outputs": [],
   "source": [
    "import csv  #to write comma seperated file "
   ]
  },
  {
   "cell_type": "code",
   "execution_count": 100,
   "id": "538b48b5-22d7-4002-a198-315b14ab2ec5",
   "metadata": {},
   "outputs": [],
   "source": [
    "data=[[\"name\",\"email\",\"phoneno\"],[\"ankit\",'ankit@gmail.com',985397],[\"neetu\",'emial.com',43534534]]"
   ]
  },
  {
   "cell_type": "code",
   "execution_count": 101,
   "id": "b3cf94fa-4213-4f73-8aec-ac1e5d9944ea",
   "metadata": {},
   "outputs": [],
   "source": [
    "with open('data.csv','w')as f:\n",
    "    writer= csv.writer(f)\n",
    "    \n",
    "    for i in data:\n",
    "        writer.writerow(i)"
   ]
  },
  {
   "cell_type": "code",
   "execution_count": 102,
   "id": "24e8ea1d-3426-4b7f-90dd-e3671a51d4e6",
   "metadata": {},
   "outputs": [
    {
     "name": "stdout",
     "output_type": "stream",
     "text": [
      "['name', 'email', 'phoneno']\n",
      "['ankit', 'ankit@gmail.com', '985397']\n",
      "['neetu', 'emial.com', '43534534']\n"
     ]
    }
   ],
   "source": [
    "with open('data.csv','r')as f:\n",
    "    read_data=csv.reader(f)\n",
    "    \n",
    "    for i in read_data:\n",
    "        print(i)"
   ]
  },
  {
   "cell_type": "code",
   "execution_count": 103,
   "id": "22621e39-7402-4540-8d06-e1cdfccd8e49",
   "metadata": {},
   "outputs": [],
   "source": [
    "#to read and write data in binary format"
   ]
  },
  {
   "cell_type": "code",
   "execution_count": 108,
   "id": "9e43fb4c-3bf1-48cd-bb37-76f01d15794a",
   "metadata": {},
   "outputs": [],
   "source": [
    "with open('binary.bin','wb')as f:\n",
    "    f.write(b'\\x01\\x02\\x03\\x2322')  # wb means write in binary and the way to give the data is b\"\\data\\data\\data\""
   ]
  },
  {
   "cell_type": "code",
   "execution_count": 109,
   "id": "5d17b393-b566-40ba-aed5-e61646a457aa",
   "metadata": {},
   "outputs": [
    {
     "name": "stdout",
     "output_type": "stream",
     "text": [
      "b'\\x01\\x02\\x03#22'\n"
     ]
    }
   ],
   "source": [
    "with open('binary.bin','rb')as f:\n",
    "    print(f.read())"
   ]
  },
  {
   "cell_type": "code",
   "execution_count": 1,
   "id": "e9bf5aa5-6cd1-4f68-9aa8-cc517dc17c26",
   "metadata": {},
   "outputs": [],
   "source": [
    "#Buffered read and write the big file will be divided in chunks and than it will be written\n",
    "import io"
   ]
  },
  {
   "cell_type": "code",
   "execution_count": 7,
   "id": "0d41b2eb-c5de-48a5-a96b-3d83aa339c17",
   "metadata": {},
   "outputs": [],
   "source": [
    "with open(\"buffer.txt\",\"wb\") as f:\n",
    "    file=io.BufferedWriter(f)\n",
    "    \n",
    "    file.write(b\"This is my first line\\n\")\n",
    "    file.write(b\"this is my second line\")\n",
    "    file.flush()"
   ]
  },
  {
   "cell_type": "code",
   "execution_count": 8,
   "id": "79356ca0-7fa3-4940-9db1-448e980605f3",
   "metadata": {},
   "outputs": [
    {
     "name": "stdout",
     "output_type": "stream",
     "text": [
      "b'This is my first line\\nthis is my second line'\n"
     ]
    }
   ],
   "source": [
    "with open (\"buffer.txt\",'rb')as f:\n",
    "    file=io.BufferedReader(f)\n",
    "    \n",
    "    print(file.read())"
   ]
  },
  {
   "cell_type": "code",
   "execution_count": 9,
   "id": "abd90bd7-ffbd-43d9-b7f8-79abe41ef2c1",
   "metadata": {},
   "outputs": [
    {
     "name": "stdout",
     "output_type": "stream",
     "text": [
      "This is my print\n"
     ]
    }
   ],
   "source": [
    "print(\"This is my print\")"
   ]
  },
  {
   "cell_type": "code",
   "execution_count": 10,
   "id": "420eafe0-e79b-419f-bf3a-d9f7552072c5",
   "metadata": {},
   "outputs": [],
   "source": [
    "#Logging make a file which can be used in future as print will provide output in console which later will be removed "
   ]
  },
  {
   "cell_type": "code",
   "execution_count": 1,
   "id": "14bc0126-a214-4679-a435-a9776425f1ab",
   "metadata": {},
   "outputs": [],
   "source": [
    "import logging"
   ]
  },
  {
   "cell_type": "code",
   "execution_count": 2,
   "id": "d156cc3a-ccd3-4968-8233-2f67cf24c36a",
   "metadata": {},
   "outputs": [],
   "source": [
    "logging.basicConfig(filename=\"logging.log\",level=logging.DEBUG)"
   ]
  },
  {
   "cell_type": "code",
   "execution_count": 3,
   "id": "586de919-e313-4bd9-bfd2-63757bb9ba6c",
   "metadata": {},
   "outputs": [],
   "source": [
    "logging.debug(\"This is my debugger\")\n",
    "logging.shutdown()"
   ]
  },
  {
   "cell_type": "markdown",
   "id": "b46d9889-6d2b-44fa-8771-8a82a8aa0b5e",
   "metadata": {},
   "source": [
    "NOTSET  DEBUG  INFO  WARNING  ERROR  CRITICAL"
   ]
  },
  {
   "cell_type": "code",
   "execution_count": 4,
   "id": "1939efc6-4d59-4c3a-8128-cce76bc56fc5",
   "metadata": {},
   "outputs": [],
   "source": [
    "logging.error(\"This is error\")"
   ]
  },
  {
   "cell_type": "code",
   "execution_count": 1,
   "id": "fa11793c-571a-47ff-b81a-2ce74662b1d2",
   "metadata": {},
   "outputs": [],
   "source": [
    "import logging"
   ]
  },
  {
   "cell_type": "code",
   "execution_count": 6,
   "id": "a9d94cf3-fd93-4e7b-a515-33217089276d",
   "metadata": {},
   "outputs": [],
   "source": [
    "logging.basicConfig(filename=\"logg.log\",level=logging.DEBUG,format='%(asctime)s %(message)s')\n",
    "#format will be like time and than message"
   ]
  },
  {
   "cell_type": "code",
   "execution_count": 11,
   "id": "c26af886-8849-48e4-9c60-9d7bc3550a35",
   "metadata": {},
   "outputs": [],
   "source": [
    "#level is something that will provide kaha tak ke level ka data ham show kar sakte hain"
   ]
  },
  {
   "cell_type": "code",
   "execution_count": 3,
   "id": "0724ee02-1da0-45a1-b3e3-c4c823584125",
   "metadata": {},
   "outputs": [],
   "source": [
    "logging.info(\"This is my information\")"
   ]
  },
  {
   "cell_type": "code",
   "execution_count": 4,
   "id": "352d691f-cc0c-48b9-b046-bcee105861b6",
   "metadata": {},
   "outputs": [],
   "source": [
    "logging.error(\"This is my error\")"
   ]
  },
  {
   "cell_type": "code",
   "execution_count": 5,
   "id": "a660d95f-f27e-42fb-b3d4-228910fa68cd",
   "metadata": {},
   "outputs": [],
   "source": [
    "logging.critical(\"this is my critical section\")"
   ]
  },
  {
   "cell_type": "code",
   "execution_count": 7,
   "id": "8d57c5ec-64a8-40e5-b86a-87d8d378a196",
   "metadata": {},
   "outputs": [],
   "source": [
    "logging.shutdown()"
   ]
  },
  {
   "cell_type": "code",
   "execution_count": 2,
   "id": "a765e063-0774-4920-a2b9-86bb4d6cf9d3",
   "metadata": {},
   "outputs": [],
   "source": [
    "logging.basicConfig(filename=\"test3.log\",level=logging.DEBUG,format='%(asctime)s %(name)s %(levelname)s %(message)s')"
   ]
  },
  {
   "cell_type": "code",
   "execution_count": 3,
   "id": "6fc7e301-6c0c-47be-b2ed-6bd24eb1c73b",
   "metadata": {},
   "outputs": [],
   "source": [
    "logging.info(\"This is information\")\n",
    "logging.debug(\"This is my debugger\")\n",
    "logging.critical(\"This is my critical section\")"
   ]
  },
  {
   "cell_type": "code",
   "execution_count": 4,
   "id": "838612a5-2eb2-4e37-9855-c6a4bfad83f1",
   "metadata": {},
   "outputs": [],
   "source": [
    "l=[1,2,3,4,5,6,[1,22,33],\"sudh\",\"ankit\"]"
   ]
  },
  {
   "cell_type": "code",
   "execution_count": 18,
   "id": "f12df17e-4974-4238-a0a1-42dea91ffa8e",
   "metadata": {},
   "outputs": [],
   "source": [
    "l1=[]\n",
    "l2=[]\n",
    "\n",
    "for i in l:\n",
    "    logging.info(\"We are iterating through our list and our local variable is i\")\n",
    "    if type(i)==list:\n",
    "        logging.info(\"I ma inside if statement and i am trying to check list type\")\n",
    "        for j in i:\n",
    "            logging.info(\"I am in another for loop for list inside list element\")\n",
    "            if type(i)==int:\n",
    "                logging.log(\"I am inside if statement\")\n",
    "                l1.append(j)\n",
    "    elif type(i)==int:\n",
    "        l1.append(i)\n",
    "        \n",
    "    else:\n",
    "        l2.append(i)"
   ]
  },
  {
   "cell_type": "code",
   "execution_count": null,
   "id": "9d1ba159-4559-4e26-89f0-40294176cc6d",
   "metadata": {},
   "outputs": [],
   "source": []
  }
 ],
 "metadata": {
  "kernelspec": {
   "display_name": "Python 3 (ipykernel)",
   "language": "python",
   "name": "python3"
  },
  "language_info": {
   "codemirror_mode": {
    "name": "ipython",
    "version": 3
   },
   "file_extension": ".py",
   "mimetype": "text/x-python",
   "name": "python",
   "nbconvert_exporter": "python",
   "pygments_lexer": "ipython3",
   "version": "3.10.8"
  }
 },
 "nbformat": 4,
 "nbformat_minor": 5
}
