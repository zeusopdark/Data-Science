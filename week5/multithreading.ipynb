{
 "cells": [
  {
   "cell_type": "code",
   "execution_count": 1,
   "id": "323dc035-41bf-4d4e-9e0b-6f4f99cc08e8",
   "metadata": {},
   "outputs": [],
   "source": [
    "#mutiple process ko run karna ek saat "
   ]
  },
  {
   "cell_type": "code",
   "execution_count": 2,
   "id": "e030eaa5-8d2f-4886-beae-9e2d937a7880",
   "metadata": {},
   "outputs": [],
   "source": [
    "import threading"
   ]
  },
  {
   "cell_type": "code",
   "execution_count": 5,
   "id": "590dddab-bb8f-4ae7-9cbd-4d1771af890c",
   "metadata": {},
   "outputs": [],
   "source": [
    "def test(id):\n",
    "    print(\"Program start %d \"%id)"
   ]
  },
  {
   "cell_type": "code",
   "execution_count": 6,
   "id": "0ee754cb-0a9f-43c4-9805-c8fda11650f6",
   "metadata": {},
   "outputs": [
    {
     "name": "stdout",
     "output_type": "stream",
     "text": [
      "Program start 45 \n"
     ]
    }
   ],
   "source": [
    "test(45)"
   ]
  },
  {
   "cell_type": "code",
   "execution_count": 25,
   "id": "b0f8dfba-9056-4d5e-8c7e-3cf72e5f23af",
   "metadata": {},
   "outputs": [],
   "source": [
    "thread=[threading.Thread(target=test,args=(i,)) for i in range(10)]"
   ]
  },
  {
   "cell_type": "code",
   "execution_count": 26,
   "id": "e0157120-82ce-4ff0-a41a-602f33c93ab1",
   "metadata": {},
   "outputs": [
    {
     "name": "stdout",
     "output_type": "stream",
     "text": [
      "Program start 0 \n",
      "Program start 1 \n",
      "Program start 2 \n",
      "Program start 3 \n",
      "Program start 4 \n",
      "Program start 5 \n",
      "Program start 6 \n",
      "Program start 7 \n",
      "Program start 8 \n",
      "Program start 9 \n"
     ]
    }
   ],
   "source": [
    "for t in thread:\n",
    "    t.start()"
   ]
  },
  {
   "cell_type": "code",
   "execution_count": 9,
   "id": "18d6c01b-240c-4d55-a2b1-6aa7bcc7f62b",
   "metadata": {},
   "outputs": [
    {
     "data": {
      "text/plain": [
       "[<Thread(Thread-5 (test), stopped 140367231964736)>,\n",
       " <Thread(Thread-6 (test), stopped 140367231964736)>,\n",
       " <Thread(Thread-7 (test), stopped 140367231964736)>,\n",
       " <Thread(Thread-8 (test), stopped 140367231964736)>,\n",
       " <Thread(Thread-9 (test), stopped 140367223572032)>,\n",
       " <Thread(Thread-10 (test), stopped 140367223572032)>,\n",
       " <Thread(Thread-11 (test), stopped 140367223572032)>,\n",
       " <Thread(Thread-12 (test), stopped 140367223572032)>,\n",
       " <Thread(Thread-13 (test), stopped 140367223572032)>,\n",
       " <Thread(Thread-14 (test), stopped 140367223572032)>]"
      ]
     },
     "execution_count": 9,
     "metadata": {},
     "output_type": "execute_result"
    }
   ],
   "source": [
    "thread"
   ]
  },
  {
   "cell_type": "code",
   "execution_count": 11,
   "id": "ff60ff3c-01d8-4237-a12a-55dda0514d50",
   "metadata": {},
   "outputs": [],
   "source": [
    "import threading\n",
    "import urllib.request\n",
    "\n",
    "def file_download(url,filename):\n",
    "    urllib.request.urlretrieve(url,filename)"
   ]
  },
  {
   "cell_type": "code",
   "execution_count": 12,
   "id": "9546c69d-b461-4bb9-8558-01e3670a9cf8",
   "metadata": {},
   "outputs": [],
   "source": [
    "file_download('https://raw.githubusercontent.com/itsfoss/text-files/master/agatha.txt',\"test.txt\")"
   ]
  },
  {
   "cell_type": "code",
   "execution_count": 18,
   "id": "f7419697-6643-4edd-aea2-25d04f45e02d",
   "metadata": {},
   "outputs": [],
   "source": [
    "url_list=['https://raw.githubusercontent.com/itsfoss/text-files/master/agatha.txt',\n",
    "         'https://raw.githubusercontent.com/itsfoss/text-files/master/sherlock.txt',\n",
    "         'https://raw.githubusercontent.com/itsfoss/text-files/master/sample_log_file.txt']"
   ]
  },
  {
   "cell_type": "code",
   "execution_count": 19,
   "id": "311f937d-512d-4e99-a746-6241926c85e2",
   "metadata": {},
   "outputs": [],
   "source": [
    "file_name_list=['data1.txt','data2.txt','data3.txt']"
   ]
  },
  {
   "cell_type": "code",
   "execution_count": 20,
   "id": "7728095f-3194-499e-a7e0-a652c4efac36",
   "metadata": {},
   "outputs": [],
   "source": [
    "ther=[threading.Thread(target=file_download, args=(url_list[i],file_name_list[i])) for i in range (len(url_list))]"
   ]
  },
  {
   "cell_type": "code",
   "execution_count": 21,
   "id": "65faae26-171e-4d21-aafb-e7e616d0c66c",
   "metadata": {},
   "outputs": [
    {
     "data": {
      "text/plain": [
       "[<Thread(Thread-16 (file_download), initial)>,\n",
       " <Thread(Thread-17 (file_download), initial)>,\n",
       " <Thread(Thread-18 (file_download), initial)>]"
      ]
     },
     "execution_count": 21,
     "metadata": {},
     "output_type": "execute_result"
    }
   ],
   "source": [
    "ther"
   ]
  },
  {
   "cell_type": "code",
   "execution_count": 22,
   "id": "7b8aab18-ba43-420a-bf01-87a232b4dd64",
   "metadata": {},
   "outputs": [],
   "source": [
    "for t in ther:\n",
    "    t.start()"
   ]
  },
  {
   "cell_type": "code",
   "execution_count": 1,
   "id": "c8590710-e20c-483c-8de5-5525aaa2ff01",
   "metadata": {},
   "outputs": [],
   "source": [
    "import time\n",
    "import threading\n",
    "def test(id):\n",
    "    for i in range(10):\n",
    "        print(f\"test {id} printing {i}\")\n",
    "        time.sleep(1)"
   ]
  },
  {
   "cell_type": "code",
   "execution_count": 2,
   "id": "9a51d8e6-e6e1-4c6a-9a88-ea772022187a",
   "metadata": {},
   "outputs": [
    {
     "name": "stdout",
     "output_type": "stream",
     "text": [
      "test 1 printing 0\n",
      "test 1 printing 1\n",
      "test 1 printing 2\n",
      "test 1 printing 3\n",
      "test 1 printing 4\n",
      "test 1 printing 5\n",
      "test 1 printing 6\n",
      "test 1 printing 7\n",
      "test 1 printing 8\n",
      "test 1 printing 9\n"
     ]
    }
   ],
   "source": [
    "test(1)"
   ]
  },
  {
   "cell_type": "code",
   "execution_count": 10,
   "id": "2633730d-f634-450a-acb2-324f9d2687cb",
   "metadata": {},
   "outputs": [],
   "source": [
    "th=[threading.Thread(target=test,args=(i,))for i in range(3)]"
   ]
  },
  {
   "cell_type": "code",
   "execution_count": 11,
   "id": "4e2ffe92-c592-4cd0-b7cc-763f02686f0e",
   "metadata": {},
   "outputs": [
    {
     "data": {
      "text/plain": [
       "[<Thread(Thread-8 (test), initial)>,\n",
       " <Thread(Thread-9 (test), initial)>,\n",
       " <Thread(Thread-10 (test), initial)>]"
      ]
     },
     "execution_count": 11,
     "metadata": {},
     "output_type": "execute_result"
    }
   ],
   "source": [
    "th"
   ]
  },
  {
   "cell_type": "code",
   "execution_count": 12,
   "id": "2b0bce36-8ed6-4d3a-ac1b-62c8d9fc9bb0",
   "metadata": {},
   "outputs": [
    {
     "name": "stdout",
     "output_type": "stream",
     "text": [
      "test 0 printing 0\n",
      "test 1 printing 0\n",
      "test 2 printing 0\n",
      "test 0 printing 1\n",
      "test 1 printing 1\n",
      "test 2 printing 1\n",
      "test 0 printing 2\n",
      "test 1 printing 2\n",
      "test 2 printing 2\n",
      "test 0 printing 3\n",
      "test 1 printing 3\n",
      "test 2 printing 3\n",
      "test 0 printing 4\n",
      "test 1 printing 4\n",
      "test 2 printing 4\n",
      "test 0 printing 5\n",
      "test 1 printing 5\n",
      "test 2 printing 5\n",
      "test 0 printing 6\n",
      "test 2 printing 6\n",
      "test 1 printing 6\n",
      "test 0 printing 7\n",
      "test 1 printing 7\n",
      "test 2 printing 7\n",
      "test 0 printing 8\n",
      "test 1 printing 8\n",
      "test 2 printing 8\n",
      "test 0 printing 9\n",
      "test 1 printing 9\n",
      "test 2 printing 9\n"
     ]
    }
   ],
   "source": [
    "for i in th:\n",
    "    i.start()"
   ]
  },
  {
   "cell_type": "code",
   "execution_count": 30,
   "id": "c8344a93-2bd3-4463-8700-2b92bd7520b2",
   "metadata": {},
   "outputs": [
    {
     "name": "stdout",
     "output_type": "stream",
     "text": [
      "test2 id is 0 has increased the shared variable by 1\n",
      "test2 id is 1 has increased the shared variable by 2\n",
      "test2 id is 2 has increased the shared variable by 3\n"
     ]
    }
   ],
   "source": [
    "shared_variable=0\n",
    "lock_var=threading.Lock()\n",
    "def test2(id):\n",
    "    global shared_variable\n",
    "    with lock_var:\n",
    "        shared_variable+=1\n",
    "        print(f\"test2 id is {id} has increased the shared variable by {shared_variable}\")\n",
    "        time.sleep(1)\n",
    "ther=[threading.Thread(target=test2,args=(i,))for i in range(3)]\n",
    "        \n",
    "for t in ther:\n",
    "    t.start()"
   ]
  },
  {
   "cell_type": "code",
   "execution_count": 1,
   "id": "28aae24e-80d9-482e-abae-81fbfa7326f5",
   "metadata": {},
   "outputs": [],
   "source": [
    "#Multiprocessing"
   ]
  },
  {
   "cell_type": "code",
   "execution_count": 2,
   "id": "9535fb44-8492-4db7-a8de-3841625d3bd2",
   "metadata": {},
   "outputs": [
    {
     "name": "stdout",
     "output_type": "stream",
     "text": [
      "This is my main program\n",
      "This is my multiprocessing program\n"
     ]
    }
   ],
   "source": [
    "import multiprocessing\n",
    "def test():\n",
    "    print(\"This is my multiprocessing program\")\n",
    "if __name__=='__main__':\n",
    "        m=multiprocessing.Process(target=test)\n",
    "        print(\"This is my main program\")\n",
    "        m.start()\n",
    "        m.join()"
   ]
  },
  {
   "cell_type": "code",
   "execution_count": 4,
   "id": "cf649855-487b-4d5a-a174-a42b1b0f2650",
   "metadata": {},
   "outputs": [
    {
     "name": "stdout",
     "output_type": "stream",
     "text": [
      "[1, 4, 9, 16, 25, 36, 49, 64, 81]\n"
     ]
    }
   ],
   "source": [
    "def square(n):\n",
    "    return n**2\n",
    "\n",
    "if __name__=='__main__':\n",
    "    with multiprocessing.Pool(processes=4)as pool:\n",
    "        out=pool.map(square,[1,2,3,4,5,6,7,8,9])\n",
    "        print(out)"
   ]
  },
  {
   "cell_type": "code",
   "execution_count": null,
   "id": "8ca80675-56f3-4874-baf3-9b4b7caad849",
   "metadata": {},
   "outputs": [
    {
     "name": "stdout",
     "output_type": "stream",
     "text": [
      "0\n",
      "1\n",
      "2\n",
      "3\n",
      "4\n",
      "5\n",
      "6\n",
      "7\n",
      "8\n",
      "9\n",
      "ankit\n"
     ]
    }
   ],
   "source": [
    "def producer(q):\n",
    "    for i in range(10):\n",
    "        q.put(i)\n",
    "        \n",
    "def consumer(q):\n",
    "    while True:\n",
    "        item=q.get()\n",
    "        if item is None:\n",
    "            break;\n",
    "        print(item)    \n",
    "        \n",
    "if __name__=='__main__':\n",
    "    queue=multiprocessing.Queue()\n",
    "    m1=multiprocessing.Process(target=producer,args=(queue,))\n",
    "    m2=multiprocessing.Process(target=consumer,args=(queue,))\n",
    "    m1.start()\n",
    "    m2.start()\n",
    "    queue.put(\"ankit\")\n",
    "    m1.join()\n",
    "    m2.join()"
   ]
  },
  {
   "cell_type": "code",
   "execution_count": null,
   "id": "c022bab3-c7a5-4b05-8723-97d2290a57ab",
   "metadata": {},
   "outputs": [],
   "source": [
    "print(ank)"
   ]
  },
  {
   "cell_type": "code",
   "execution_count": 4,
   "id": "8a1a7c26-4431-4d45-8ace-e5095118c4ce",
   "metadata": {},
   "outputs": [
    {
     "name": "stdout",
     "output_type": "stream",
     "text": [
      "[4, 9, 16, 25, 36, 49, 64]\n"
     ]
    }
   ],
   "source": [
    "import multiprocessing\n",
    "def square(index,value):\n",
    "    value[index]=value[index]**2\n",
    "    \n",
    "if __name__=='__main__':\n",
    "    arr=multiprocessing.Array('i',[2,3,4,5,6,7,8])\n",
    "    process=[]\n",
    "    for i in range(7):\n",
    "        m=multiprocessing.Process(target=square,args=(i,arr))\n",
    "        process.append(m)\n",
    "        m.start()\n",
    "        # m.join()\n",
    "    for m in process:\n",
    "        m.join()\n",
    "    print(list(arr))    "
   ]
  },
  {
   "cell_type": "code",
   "execution_count": null,
   "id": "4d2ba5d0-e6c8-492c-926c-066c69cba0fb",
   "metadata": {},
   "outputs": [
    {
     "name": "stdout",
     "output_type": "stream",
     "text": [
      "Hello my name is ankit nishad\n",
      "I live in fatehpur\n",
      "I am learning data science\n"
     ]
    }
   ],
   "source": [
    "import multiprocessing\n",
    "def sender(conn,msg):\n",
    "    for i in msg:\n",
    "        conn.send(i)\n",
    "    conn.close()\n",
    "    \n",
    "def receive(conn):\n",
    "    while True:\n",
    "        try:\n",
    "            msg=conn.recv()\n",
    "        except Exception as e:\n",
    "            print(e)\n",
    "            break;\n",
    "        print(msg)\n",
    "        \n",
    "if __name__=='__main__':\n",
    "    msg=['Hello my name is ankit nishad','I live in fatehpur','I am learning data science']\n",
    "    parent_con,child_con=multiprocessing.Pipe()\n",
    "    m1=multiprocessing.Process(target=sender,args=(child_con,msg))\n",
    "    m2=multiprocessing.Process(target=receive,args=(parent_con,))\n",
    "    m1.start()\n",
    "    m2.start()\n",
    "    m1.join()\n",
    "    child_con.close()\n",
    "    m2.join()\n",
    "    parent_con.close()"
   ]
  },
  {
   "cell_type": "code",
   "execution_count": null,
   "id": "6d5d60cc-54c3-421e-89f6-e45d3a9a3a42",
   "metadata": {},
   "outputs": [],
   "source": []
  }
 ],
 "metadata": {
  "kernelspec": {
   "display_name": "Python 3 (ipykernel)",
   "language": "python",
   "name": "python3"
  },
  "language_info": {
   "codemirror_mode": {
    "name": "ipython",
    "version": 3
   },
   "file_extension": ".py",
   "mimetype": "text/x-python",
   "name": "python",
   "nbconvert_exporter": "python",
   "pygments_lexer": "ipython3",
   "version": "3.10.8"
  }
 },
 "nbformat": 4,
 "nbformat_minor": 5
}
