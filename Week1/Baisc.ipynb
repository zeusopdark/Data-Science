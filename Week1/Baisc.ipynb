{
 "cells": [
  {
   "cell_type": "code",
   "execution_count": 1,
   "id": "6bc51a71-3758-4368-9bc0-1838b2184b69",
   "metadata": {},
   "outputs": [
    {
     "name": "stdout",
     "output_type": "stream",
     "text": [
      "I am new to Python\n"
     ]
    }
   ],
   "source": [
    "print(\"I am new to Python\")"
   ]
  },
  {
   "cell_type": "code",
   "execution_count": 2,
   "id": "9b7a00a0-c1d6-4a0f-8d35-529105031195",
   "metadata": {},
   "outputs": [
    {
     "data": {
      "text/plain": [
       "3"
      ]
     },
     "execution_count": 2,
     "metadata": {},
     "output_type": "execute_result"
    }
   ],
   "source": [
    "1+2"
   ]
  },
  {
   "cell_type": "code",
   "execution_count": 3,
   "id": "116f7968-fb46-48d7-9927-177cbd8c513b",
   "metadata": {},
   "outputs": [],
   "source": [
    "a=1   #this means value 1 is stored in variable a"
   ]
  },
  {
   "cell_type": "code",
   "execution_count": 4,
   "id": "50a6d028-0249-4fcb-97d0-9af2e7788e68",
   "metadata": {},
   "outputs": [],
   "source": [
    "# It's not necessary to give the type of data as we do most of the other programming languages"
   ]
  },
  {
   "cell_type": "code",
   "execution_count": 5,
   "id": "eb5db5de-cd0e-4924-80eb-5063136782cd",
   "metadata": {},
   "outputs": [
    {
     "data": {
      "text/plain": [
       "int"
      ]
     },
     "execution_count": 5,
     "metadata": {},
     "output_type": "execute_result"
    }
   ],
   "source": [
    "type(a)  #this will provide what type of value does variable store"
   ]
  },
  {
   "cell_type": "code",
   "execution_count": 6,
   "id": "1b20e0fc-4cb5-4442-8071-642fe48be20b",
   "metadata": {},
   "outputs": [],
   "source": [
    "b=\"Something\"  #b is a string type of vairable we can also represent this as b='something' both are same."
   ]
  },
  {
   "cell_type": "code",
   "execution_count": 7,
   "id": "a634b6a0-a04c-4589-96b9-7b3212ab71a1",
   "metadata": {},
   "outputs": [],
   "source": [
    "d=True"
   ]
  },
  {
   "cell_type": "code",
   "execution_count": 8,
   "id": "f89fc80d-9401-4060-953b-aed5f34e3bfa",
   "metadata": {},
   "outputs": [
    {
     "data": {
      "text/plain": [
       "bool"
      ]
     },
     "execution_count": 8,
     "metadata": {},
     "output_type": "execute_result"
    }
   ],
   "source": [
    "type(d) # boolean variable either it is true or false  "
   ]
  },
  {
   "cell_type": "code",
   "execution_count": 9,
   "id": "26c8712e-7028-49cc-8b35-9fb73fce0e56",
   "metadata": {},
   "outputs": [],
   "source": [
    "#In python true =1 and false=0"
   ]
  },
  {
   "cell_type": "code",
   "execution_count": 10,
   "id": "8fdb51f9-c2d2-4514-9394-7ece1f269f77",
   "metadata": {},
   "outputs": [
    {
     "data": {
      "text/plain": [
       "0"
      ]
     },
     "execution_count": 10,
     "metadata": {},
     "output_type": "execute_result"
    }
   ],
   "source": [
    "True*False  #1*0=0"
   ]
  },
  {
   "cell_type": "code",
   "execution_count": 11,
   "id": "5e1cab32-95b8-4bcf-81c1-674b115ab860",
   "metadata": {},
   "outputs": [
    {
     "data": {
      "text/plain": [
       "1"
      ]
     },
     "execution_count": 11,
     "metadata": {},
     "output_type": "execute_result"
    }
   ],
   "source": [
    "True-False  # 1-0=1"
   ]
  },
  {
   "cell_type": "code",
   "execution_count": 12,
   "id": "6804361e-47f0-41b9-8cf3-df21fa7b29cf",
   "metadata": {},
   "outputs": [
    {
     "ename": "ZeroDivisionError",
     "evalue": "division by zero",
     "output_type": "error",
     "traceback": [
      "\u001b[0;31m---------------------------------------------------------------------------\u001b[0m",
      "\u001b[0;31mZeroDivisionError\u001b[0m                         Traceback (most recent call last)",
      "Cell \u001b[0;32mIn[12], line 1\u001b[0m\n\u001b[0;32m----> 1\u001b[0m \u001b[38;5;28;43;01mTrue\u001b[39;49;00m\u001b[38;5;241;43m/\u001b[39;49m\u001b[38;5;28;43;01mFalse\u001b[39;49;00m  \u001b[38;5;66;03m# 1/0 indeterminate forms\u001b[39;00m\n",
      "\u001b[0;31mZeroDivisionError\u001b[0m: division by zero"
     ]
    }
   ],
   "source": [
    "True/False  # 1/0 indeterminate forms "
   ]
  },
  {
   "cell_type": "code",
   "execution_count": 13,
   "id": "5aa0f456-5c7e-4102-b6a9-da1de24d6d23",
   "metadata": {},
   "outputs": [],
   "source": [
    "f=4+5j   #here variable f is a complex number 4 is the real part and 5j is an imaginary part"
   ]
  },
  {
   "cell_type": "code",
   "execution_count": 14,
   "id": "54ef3b52-d131-4c0c-91ce-76363febf668",
   "metadata": {},
   "outputs": [
    {
     "data": {
      "text/plain": [
       "complex"
      ]
     },
     "execution_count": 14,
     "metadata": {},
     "output_type": "execute_result"
    }
   ],
   "source": [
    "type(f)"
   ]
  },
  {
   "cell_type": "code",
   "execution_count": 15,
   "id": "9306f514-e05e-4fab-b900-1845f7e3fab4",
   "metadata": {},
   "outputs": [],
   "source": [
    "#variable name can never be numeric also alphnumeric we cant make this variable name as well "
   ]
  },
  {
   "cell_type": "code",
   "execution_count": 27,
   "id": "682fa716-c263-4357-aba9-04f8b06d44de",
   "metadata": {},
   "outputs": [
    {
     "data": {
      "text/plain": [
       "4.0"
      ]
     },
     "execution_count": 27,
     "metadata": {},
     "output_type": "execute_result"
    }
   ],
   "source": [
    "f.real  #provide the real value."
   ]
  },
  {
   "cell_type": "code",
   "execution_count": 20,
   "id": "a80255d0-a42f-4605-aaed-a51081390614",
   "metadata": {},
   "outputs": [
    {
     "data": {
      "text/plain": [
       "5.0"
      ]
     },
     "execution_count": 20,
     "metadata": {},
     "output_type": "execute_result"
    }
   ],
   "source": [
    "f.imag  #gives the imaginary part"
   ]
  },
  {
   "cell_type": "code",
   "execution_count": 21,
   "id": "38a05b6a-ad94-4aee-97c3-b61e03367171",
   "metadata": {},
   "outputs": [],
   "source": [
    "#mutable and immutable objects"
   ]
  },
  {
   "cell_type": "code",
   "execution_count": 22,
   "id": "101efd98-d6f9-4237-9c4b-12920c067792",
   "metadata": {},
   "outputs": [],
   "source": [
    "a=\"Something\""
   ]
  },
  {
   "cell_type": "code",
   "execution_count": 23,
   "id": "d6746eab-a6a2-4fac-8ac8-43979ac27a5b",
   "metadata": {},
   "outputs": [
    {
     "data": {
      "text/plain": [
       "str"
      ]
     },
     "execution_count": 23,
     "metadata": {},
     "output_type": "execute_result"
    }
   ],
   "source": [
    "type(a)"
   ]
  },
  {
   "cell_type": "code",
   "execution_count": 31,
   "id": "82fe642c-89ee-407c-b702-bf8b22fa3710",
   "metadata": {},
   "outputs": [],
   "source": [
    "l=[1,2,3,4,5,6,True,\"Something\"]   #this is list (Collection of data any kind of data it can store )"
   ]
  },
  {
   "cell_type": "code",
   "execution_count": 26,
   "id": "d5235b8b-f640-4756-8ab1-6c13511dd879",
   "metadata": {},
   "outputs": [
    {
     "data": {
      "text/plain": [
       "'S'"
      ]
     },
     "execution_count": 26,
     "metadata": {},
     "output_type": "execute_result"
    }
   ],
   "source": [
    "a[0]  # Will give the zero indexed data (character)"
   ]
  },
  {
   "cell_type": "code",
   "execution_count": 28,
   "id": "4a05ea76-dba8-407a-a854-4e88fc7255b9",
   "metadata": {},
   "outputs": [
    {
     "data": {
      "text/plain": [
       "6"
      ]
     },
     "execution_count": 28,
     "metadata": {},
     "output_type": "execute_result"
    }
   ],
   "source": [
    "l[5]"
   ]
  },
  {
   "cell_type": "code",
   "execution_count": 32,
   "id": "23720d8e-a94b-40f1-87f7-c6815d059881",
   "metadata": {},
   "outputs": [],
   "source": [
    "l[1]=200"
   ]
  },
  {
   "cell_type": "code",
   "execution_count": 33,
   "id": "cf93f2d2-69cd-46b7-932f-66a69416885a",
   "metadata": {},
   "outputs": [
    {
     "data": {
      "text/plain": [
       "[1, 200, 3, 4, 5, 6, True, 'Something']"
      ]
     },
     "execution_count": 33,
     "metadata": {},
     "output_type": "execute_result"
    }
   ],
   "source": [
    "l"
   ]
  },
  {
   "cell_type": "code",
   "execution_count": 34,
   "id": "1870ea36-24ff-45e0-9f4f-61f43a9a6a61",
   "metadata": {},
   "outputs": [],
   "source": [
    "#As we can see we can modify the data hence list is a mutable objects"
   ]
  },
  {
   "cell_type": "code",
   "execution_count": 35,
   "id": "036187cd-7ed3-4090-beb4-c1c08c622877",
   "metadata": {},
   "outputs": [
    {
     "ename": "TypeError",
     "evalue": "'str' object does not support item assignment",
     "output_type": "error",
     "traceback": [
      "\u001b[0;31m---------------------------------------------------------------------------\u001b[0m",
      "\u001b[0;31mTypeError\u001b[0m                                 Traceback (most recent call last)",
      "Cell \u001b[0;32mIn[35], line 1\u001b[0m\n\u001b[0;32m----> 1\u001b[0m \u001b[43ma\u001b[49m\u001b[43m[\u001b[49m\u001b[38;5;241;43m0\u001b[39;49m\u001b[43m]\u001b[49m\u001b[38;5;241m=\u001b[39m\u001b[38;5;124m'\u001b[39m\u001b[38;5;124md\u001b[39m\u001b[38;5;124m'\u001b[39m\n",
      "\u001b[0;31mTypeError\u001b[0m: 'str' object does not support item assignment"
     ]
    }
   ],
   "source": [
    "a[0]='d'"
   ]
  },
  {
   "cell_type": "code",
   "execution_count": 36,
   "id": "242d524a-987e-4ac5-b4e4-c3b22e02c17d",
   "metadata": {},
   "outputs": [],
   "source": [
    "#Thus strings in python are immutable "
   ]
  },
  {
   "cell_type": "code",
   "execution_count": 37,
   "id": "66a125b9-2869-48d9-a243-4d5a224557c9",
   "metadata": {},
   "outputs": [],
   "source": [
    "#Operators"
   ]
  },
  {
   "cell_type": "code",
   "execution_count": 39,
   "id": "b2e1172d-7a45-4734-ba6f-5aef0371d5a5",
   "metadata": {},
   "outputs": [
    {
     "data": {
      "text/plain": [
       "1.25"
      ]
     },
     "execution_count": 39,
     "metadata": {},
     "output_type": "execute_result"
    }
   ],
   "source": [
    "5/4 #divisor operator "
   ]
  },
  {
   "cell_type": "code",
   "execution_count": 44,
   "id": "1ca7307a-a27a-477d-b848-89c85ade1499",
   "metadata": {},
   "outputs": [
    {
     "data": {
      "text/plain": [
       "1"
      ]
     },
     "execution_count": 44,
     "metadata": {},
     "output_type": "execute_result"
    }
   ],
   "source": [
    "5//4  #terminates the decimal part give the floor value"
   ]
  },
  {
   "cell_type": "code",
   "execution_count": 45,
   "id": "98d709c2-b927-459a-9965-b0e7138d381d",
   "metadata": {},
   "outputs": [
    {
     "data": {
      "text/plain": [
       "16"
      ]
     },
     "execution_count": 45,
     "metadata": {},
     "output_type": "execute_result"
    }
   ],
   "source": [
    "2**4   #its 2 to the power 4"
   ]
  },
  {
   "cell_type": "code",
   "execution_count": 46,
   "id": "6bc7a6b2-731f-4cdc-80b4-14b41c12e090",
   "metadata": {},
   "outputs": [],
   "source": [
    "# < (less than), >(Greater than), <=(Less than or equal to ), !=(Not equal to )"
   ]
  },
  {
   "cell_type": "code",
   "execution_count": 47,
   "id": "80a41e5f-c54b-47a9-a432-e143ce37aa19",
   "metadata": {},
   "outputs": [
    {
     "data": {
      "text/plain": [
       "False"
      ]
     },
     "execution_count": 47,
     "metadata": {},
     "output_type": "execute_result"
    }
   ],
   "source": [
    "1!=1"
   ]
  },
  {
   "cell_type": "code",
   "execution_count": 48,
   "id": "831af461-c8c4-499f-aa0b-35353795a49b",
   "metadata": {},
   "outputs": [
    {
     "data": {
      "text/plain": [
       "True"
      ]
     },
     "execution_count": 48,
     "metadata": {},
     "output_type": "execute_result"
    }
   ],
   "source": [
    "1!=2"
   ]
  },
  {
   "cell_type": "code",
   "execution_count": 49,
   "id": "015f40b0-2fe5-4124-9100-d3315685637c",
   "metadata": {},
   "outputs": [],
   "source": [
    "# and ( operator returns true only when both the condition is true it is used between two condition )"
   ]
  },
  {
   "cell_type": "code",
   "execution_count": 50,
   "id": "0341a6f7-986e-47dc-b934-88d42a3bd8e5",
   "metadata": {},
   "outputs": [
    {
     "data": {
      "text/plain": [
       "False"
      ]
     },
     "execution_count": 50,
     "metadata": {},
     "output_type": "execute_result"
    }
   ],
   "source": [
    "True and False   #return false as one condition is false"
   ]
  },
  {
   "cell_type": "code",
   "execution_count": 51,
   "id": "4a617a1d-ef2f-46e4-a08e-c6ff034845ea",
   "metadata": {},
   "outputs": [
    {
     "data": {
      "text/plain": [
       "True"
      ]
     },
     "execution_count": 51,
     "metadata": {},
     "output_type": "execute_result"
    }
   ],
   "source": [
    "True or False  #return true as one condtion is true"
   ]
  },
  {
   "cell_type": "code",
   "execution_count": 52,
   "id": "2c7599f8-82bd-4d20-a43b-572abecf58f6",
   "metadata": {},
   "outputs": [
    {
     "data": {
      "text/plain": [
       "False"
      ]
     },
     "execution_count": 52,
     "metadata": {},
     "output_type": "execute_result"
    }
   ],
   "source": [
    "not True"
   ]
  },
  {
   "cell_type": "code",
   "execution_count": 54,
   "id": "a38be077-d473-450b-a440-1487b3e53b99",
   "metadata": {},
   "outputs": [
    {
     "data": {
      "text/plain": [
       "1"
      ]
     },
     "execution_count": 54,
     "metadata": {},
     "output_type": "execute_result"
    }
   ],
   "source": [
    "1 or 0"
   ]
  },
  {
   "cell_type": "code",
   "execution_count": 56,
   "id": "07fadd9c-984d-4143-bebb-f27169561c7d",
   "metadata": {},
   "outputs": [
    {
     "data": {
      "text/plain": [
       "0"
      ]
     },
     "execution_count": 56,
     "metadata": {},
     "output_type": "execute_result"
    }
   ],
   "source": [
    "10 & 4  #returns 1010 & 0100 gives zero "
   ]
  },
  {
   "cell_type": "code",
   "execution_count": 58,
   "id": "c6a59085-41d1-4798-b83f-2462ee96aa90",
   "metadata": {},
   "outputs": [
    {
     "data": {
      "text/plain": [
       "'0b1010'"
      ]
     },
     "execution_count": 58,
     "metadata": {},
     "output_type": "execute_result"
    }
   ],
   "source": [
    "bin(10)  #converts the given decimal number in form of binary\n"
   ]
  },
  {
   "cell_type": "code",
   "execution_count": 59,
   "id": "1c9bda49-8015-458e-9a90-a90bfe38659e",
   "metadata": {},
   "outputs": [
    {
     "data": {
      "text/plain": [
       "-21"
      ]
     },
     "execution_count": 59,
     "metadata": {},
     "output_type": "execute_result"
    }
   ],
   "source": [
    "~20"
   ]
  },
  {
   "cell_type": "code",
   "execution_count": 60,
   "id": "58932f58-d78e-4c0d-a6a0-72149fef19bc",
   "metadata": {},
   "outputs": [
    {
     "data": {
      "text/plain": [
       "'0b10100'"
      ]
     },
     "execution_count": 60,
     "metadata": {},
     "output_type": "execute_result"
    }
   ],
   "source": [
    "bin(20)"
   ]
  },
  {
   "cell_type": "code",
   "execution_count": 61,
   "id": "9527c4e7-2d76-4967-80c8-1020b5774cc5",
   "metadata": {},
   "outputs": [
    {
     "data": {
      "text/plain": [
       "'-0b10101'"
      ]
     },
     "execution_count": 61,
     "metadata": {},
     "output_type": "execute_result"
    }
   ],
   "source": [
    "bin(-21)"
   ]
  },
  {
   "cell_type": "code",
   "execution_count": 64,
   "id": "104d6898-97a8-4c90-bcb2-4f21ab342ea8",
   "metadata": {},
   "outputs": [
    {
     "data": {
      "text/plain": [
       "1"
      ]
     },
     "execution_count": 64,
     "metadata": {},
     "output_type": "execute_result"
    }
   ],
   "source": [
    "a=4\n",
    "a>>2  #right shift divide by 2 each time."
   ]
  },
  {
   "cell_type": "code",
   "execution_count": 66,
   "id": "81db0680-368f-456e-99b0-a8bac2085716",
   "metadata": {},
   "outputs": [
    {
     "data": {
      "text/plain": [
       "16"
      ]
     },
     "execution_count": 66,
     "metadata": {},
     "output_type": "execute_result"
    }
   ],
   "source": [
    "a<<2   #multiply by 2 each time"
   ]
  },
  {
   "cell_type": "code",
   "execution_count": 1,
   "id": "468d0d9c-74cc-45b5-bbfe-b52caf3cf27b",
   "metadata": {},
   "outputs": [],
   "source": [
    "#Condtional Statements"
   ]
  },
  {
   "cell_type": "code",
   "execution_count": 2,
   "id": "d7881b45-13c9-47d6-acb1-514d14d981d3",
   "metadata": {},
   "outputs": [],
   "source": [
    "a=10"
   ]
  },
  {
   "cell_type": "code",
   "execution_count": 7,
   "id": "1cfde45e-54c4-4b28-a831-a403da75d512",
   "metadata": {},
   "outputs": [
    {
     "name": "stdout",
     "output_type": "stream",
     "text": [
      "Yes a equals to 10\n"
     ]
    }
   ],
   "source": [
    "if a==10:\n",
    "    print(\"Yes a equals to 10\")"
   ]
  },
  {
   "cell_type": "code",
   "execution_count": 10,
   "id": "a9af2166-f62d-47b0-b3e2-c8da7b8da442",
   "metadata": {},
   "outputs": [],
   "source": [
    "b=20\n",
    "if b>20:\n",
    "    print(\"Yes b is greater than 20\")  #since the codition is false and because of that it will not be printed"
   ]
  },
  {
   "cell_type": "code",
   "execution_count": 11,
   "id": "654a61c1-3df1-4db1-b5c3-151db4128077",
   "metadata": {},
   "outputs": [
    {
     "name": "stdout",
     "output_type": "stream",
     "text": [
      "B is less than or equal to 20\n"
     ]
    }
   ],
   "source": [
    "if b>20:\n",
    "    print(\"B is greater than 20\")\n",
    "else:\n",
    "    print(\"B is less than or equal to 20\")"
   ]
  },
  {
   "cell_type": "code",
   "execution_count": 12,
   "id": "05b2c280-3877-437c-9e63-f389a630a750",
   "metadata": {},
   "outputs": [
    {
     "name": "stdout",
     "output_type": "stream",
     "text": [
      "yes b is equal to 20\n"
     ]
    }
   ],
   "source": [
    "if b>20:\n",
    "    print(\"yes b is greater than 20\")\n",
    "elif b<20:\n",
    "    print(\"yes b is less than 20\")\n",
    "else:\n",
    "    print(\"yes b is equal to 20\")\n",
    "    "
   ]
  },
  {
   "cell_type": "code",
   "execution_count": 15,
   "id": "6b3caa17-2af6-4b16-94d2-9761ee905f3f",
   "metadata": {},
   "outputs": [
    {
     "name": "stdin",
     "output_type": "stream",
     "text": [
      "Enter your number: 40\n"
     ]
    }
   ],
   "source": [
    "b=int(input(\"Enter your number:\")) # Type casted in integer"
   ]
  },
  {
   "cell_type": "code",
   "execution_count": 14,
   "id": "81eacb8c-4c36-455f-8976-490d6937e6a1",
   "metadata": {},
   "outputs": [
    {
     "data": {
      "text/plain": [
       "int"
      ]
     },
     "execution_count": 14,
     "metadata": {},
     "output_type": "execute_result"
    }
   ],
   "source": [
    "type(b)"
   ]
  },
  {
   "cell_type": "code",
   "execution_count": 20,
   "id": "7adad982-9093-4761-9cfc-c23262cd638e",
   "metadata": {},
   "outputs": [
    {
     "name": "stdout",
     "output_type": "stream",
     "text": [
      "B is not equal to 40\n"
     ]
    }
   ],
   "source": [
    "if b!=30:\n",
    "    print(\"B is not equal to 40\")\n",
    "else:\n",
    "    print(\"B is equal to 40\")"
   ]
  },
  {
   "cell_type": "code",
   "execution_count": 17,
   "id": "1a0e673f-d0a3-42b2-8f5a-8b60c34cbe98",
   "metadata": {},
   "outputs": [],
   "source": [
    "#Looping\n"
   ]
  },
  {
   "cell_type": "code",
   "execution_count": 22,
   "id": "41e7d31a-d375-430f-a794-7e9f662995a8",
   "metadata": {},
   "outputs": [
    {
     "name": "stdout",
     "output_type": "stream",
     "text": [
      "1\n",
      "2\n",
      "3\n"
     ]
    }
   ],
   "source": [
    "n = 4\n",
    "i = 1\n",
    "while i<n:\n",
    "    print(i)\n",
    "    i=i+1"
   ]
  },
  {
   "cell_type": "code",
   "execution_count": 23,
   "id": "2e608cac-06d1-4176-b064-64c0c18d1c94",
   "metadata": {},
   "outputs": [
    {
     "name": "stdout",
     "output_type": "stream",
     "text": [
      "1\n",
      "2\n",
      "3\n",
      "While loop is sucessfully executed hence this else condtion run if we forcefully terminate the loop using break than this else condtion will not run \n"
     ]
    }
   ],
   "source": [
    "n = 4\n",
    "i = 1\n",
    "while i<n:\n",
    "    print(i)\n",
    "    i=i+1\n",
    "else:\n",
    "    print(\"While loop is sucessfully executed hence this else condtion run if we forcefully terminate the loop using break than this else condtion will not run \")"
   ]
  },
  {
   "cell_type": "code",
   "execution_count": 24,
   "id": "fa34605e-010d-4b61-b022-44f9d1c1c9b5",
   "metadata": {},
   "outputs": [
    {
     "name": "stdout",
     "output_type": "stream",
     "text": [
      "1\n",
      "2\n"
     ]
    }
   ],
   "source": [
    "n = 4\n",
    "i = 1\n",
    "while i<n:\n",
    "    print(i)\n",
    "    i=i+1\n",
    "    if(i==3):\n",
    "        break\n",
    "else:\n",
    "    print(\"This time else will not run\")"
   ]
  },
  {
   "cell_type": "code",
   "execution_count": 26,
   "id": "b4a934e6-b558-47d7-8ae7-716b7fd747aa",
   "metadata": {},
   "outputs": [
    {
     "name": "stdout",
     "output_type": "stream",
     "text": [
      "S\n",
      "o\n",
      "m\n",
      "e\n",
      "t\n",
      "h\n",
      "i\n",
      "n\n",
      "g\n"
     ]
    }
   ],
   "source": [
    "s=\"Something\"\n",
    "\n",
    "for i in s:   #enhanced for loop\n",
    "    print(i)"
   ]
  },
  {
   "cell_type": "code",
   "execution_count": null,
   "id": "1509a625-ef80-4f5d-9c4e-5eb580fb1c21",
   "metadata": {},
   "outputs": [],
   "source": []
  }
 ],
 "metadata": {
  "kernelspec": {
   "display_name": "Python 3 (ipykernel)",
   "language": "python",
   "name": "python3"
  },
  "language_info": {
   "codemirror_mode": {
    "name": "ipython",
    "version": 3
   },
   "file_extension": ".py",
   "mimetype": "text/x-python",
   "name": "python",
   "nbconvert_exporter": "python",
   "pygments_lexer": "ipython3",
   "version": "3.10.8"
  }
 },
 "nbformat": 4,
 "nbformat_minor": 5
}
