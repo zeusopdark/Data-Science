{
 "cells": [
  {
   "cell_type": "code",
   "execution_count": 1,
   "id": "2991b1fb-5483-4317-ba87-c48e883310b2",
   "metadata": {},
   "outputs": [],
   "source": [
    "a=1"
   ]
  },
  {
   "cell_type": "code",
   "execution_count": 2,
   "id": "be1ccc86-2f46-4f55-93f0-f51093eb7ea5",
   "metadata": {},
   "outputs": [
    {
     "name": "stdout",
     "output_type": "stream",
     "text": [
      "<class 'int'>\n"
     ]
    }
   ],
   "source": [
    "print(type(a))"
   ]
  },
  {
   "cell_type": "code",
   "execution_count": 3,
   "id": "3ca624cb-6946-48e5-9104-1804417874d1",
   "metadata": {},
   "outputs": [],
   "source": [
    "#class is a blueprint "
   ]
  },
  {
   "cell_type": "code",
   "execution_count": 4,
   "id": "cd6655c8-c5b5-40b1-b613-532a1be45236",
   "metadata": {},
   "outputs": [],
   "source": [
    "class test:\n",
    "    pass"
   ]
  },
  {
   "cell_type": "code",
   "execution_count": 5,
   "id": "e71d820d-d544-4cd0-af8a-47b3df63b947",
   "metadata": {},
   "outputs": [],
   "source": [
    "a=test()"
   ]
  },
  {
   "cell_type": "code",
   "execution_count": 6,
   "id": "57801778-efa2-4f89-a1a7-face8f0c791f",
   "metadata": {},
   "outputs": [
    {
     "data": {
      "text/plain": [
       "__main__.test"
      ]
     },
     "execution_count": 6,
     "metadata": {},
     "output_type": "execute_result"
    }
   ],
   "source": [
    "type(a)"
   ]
  },
  {
   "cell_type": "code",
   "execution_count": 12,
   "id": "3e6cba81-02ba-438a-8bba-f2cc118a3fb8",
   "metadata": {},
   "outputs": [],
   "source": [
    "class ankit:\n",
    "    def welcome_msg(self):\n",
    "        print(\"Welcome to ankit tutorials\")"
   ]
  },
  {
   "cell_type": "code",
   "execution_count": 16,
   "id": "7f604049-2d02-4b53-b39d-61be96b3295b",
   "metadata": {},
   "outputs": [],
   "source": [
    "rohan=ankit()"
   ]
  },
  {
   "cell_type": "code",
   "execution_count": 14,
   "id": "f743f19f-4bab-4e16-a8f6-50a76ded9798",
   "metadata": {},
   "outputs": [
    {
     "name": "stdout",
     "output_type": "stream",
     "text": [
      "Welcome to ankit tutorials\n"
     ]
    }
   ],
   "source": [
    "rohan.welcome_msg()"
   ]
  },
  {
   "cell_type": "code",
   "execution_count": 12,
   "id": "19857da9-3c2b-425d-91d1-ec989e4a9a07",
   "metadata": {},
   "outputs": [],
   "source": [
    "class something: \n",
    "    \n",
    "    def __init__(self,phone_number,email_id,student_id):\n",
    "        #this is constructor\n",
    "        self.phone_number=phone_number\n",
    "        self.email_id=email_id\n",
    "        self.student_id=student_id\n",
    "        \n",
    "        \n",
    "    def return_student_details(self):\n",
    "        return self.phone_number,self.email_id,self.student_id"
   ]
  },
  {
   "cell_type": "code",
   "execution_count": 8,
   "id": "53fc253b-1300-4c70-9669-c6b4dc3f0948",
   "metadata": {},
   "outputs": [
    {
     "ename": "TypeError",
     "evalue": "something.__init__() missing 3 required positional arguments: 'phone_number', 'email_id', and 'student_id'",
     "output_type": "error",
     "traceback": [
      "\u001b[0;31m---------------------------------------------------------------------------\u001b[0m",
      "\u001b[0;31mTypeError\u001b[0m                                 Traceback (most recent call last)",
      "Cell \u001b[0;32mIn[8], line 1\u001b[0m\n\u001b[0;32m----> 1\u001b[0m rohan\u001b[38;5;241m=\u001b[39m\u001b[43msomething\u001b[49m\u001b[43m(\u001b[49m\u001b[43m)\u001b[49m\n",
      "\u001b[0;31mTypeError\u001b[0m: something.__init__() missing 3 required positional arguments: 'phone_number', 'email_id', and 'student_id'"
     ]
    }
   ],
   "source": [
    "rohan=something()"
   ]
  },
  {
   "cell_type": "markdown",
   "id": "fa924539-a460-4026-8707-c410a2239da3",
   "metadata": {},
   "source": [
    "since we had made the constructor that's the reason it is giving error as in our constructor there are three parameters so we have to pass three arguments in it"
   ]
  },
  {
   "cell_type": "code",
   "execution_count": 14,
   "id": "b669fb2d-9d37-4d14-b284-54df4773bc5c",
   "metadata": {},
   "outputs": [],
   "source": [
    "rohan=something(9622651363,\"ankit@gmail.com\",101)"
   ]
  },
  {
   "cell_type": "code",
   "execution_count": 15,
   "id": "57555e8e-6cd6-4fb0-8667-f797c1dfb00e",
   "metadata": {},
   "outputs": [
    {
     "data": {
      "text/plain": [
       "(9622651363, 'ankit@gmail.com', 101)"
      ]
     },
     "execution_count": 15,
     "metadata": {},
     "output_type": "execute_result"
    }
   ],
   "source": [
    "rohan.return_student_details()"
   ]
  },
  {
   "cell_type": "code",
   "execution_count": 16,
   "id": "e86347bc-fbb8-4ac9-b0fb-ad6ec4ea0e38",
   "metadata": {},
   "outputs": [
    {
     "data": {
      "text/plain": [
       "'ankit@gmail.com'"
      ]
     },
     "execution_count": 16,
     "metadata": {},
     "output_type": "execute_result"
    }
   ],
   "source": [
    "rohan.email_id"
   ]
  },
  {
   "cell_type": "code",
   "execution_count": 17,
   "id": "8bd3d423-3227-49ba-a304-d1a656eec8d0",
   "metadata": {},
   "outputs": [],
   "source": [
    "#self is not any reserved keywords we can use any thing like we also can write ankit there anything."
   ]
  },
  {
   "cell_type": "code",
   "execution_count": 18,
   "id": "06eb6b24-a3bb-43ef-b8ac-d62edbd2b983",
   "metadata": {},
   "outputs": [],
   "source": [
    "def test(a,b):\n",
    "    return a+b"
   ]
  },
  {
   "cell_type": "code",
   "execution_count": 19,
   "id": "2ca0eb30-d2b0-4c2a-b432-dac44ef420cc",
   "metadata": {},
   "outputs": [
    {
     "data": {
      "text/plain": [
       "7"
      ]
     },
     "execution_count": 19,
     "metadata": {},
     "output_type": "execute_result"
    }
   ],
   "source": [
    "test(3,4)"
   ]
  },
  {
   "cell_type": "code",
   "execution_count": 1,
   "id": "14e00d29-99bd-44a6-81b4-5dc01bc4a644",
   "metadata": {},
   "outputs": [],
   "source": [
    "class data_science:\n",
    "    def syllabus(self):\n",
    "        print(\"This is my syllabus for data science \")"
   ]
  },
  {
   "cell_type": "code",
   "execution_count": 2,
   "id": "f5c56f97-1444-4895-a3f9-f59f05aaddd4",
   "metadata": {},
   "outputs": [],
   "source": [
    "class web_dev:\n",
    "    def syllabus(self):\n",
    "        print(\"This is my syllabus for web development\")"
   ]
  },
  {
   "cell_type": "code",
   "execution_count": 4,
   "id": "d7419fe1-8b6f-477f-a199-acb4fd64c1bd",
   "metadata": {},
   "outputs": [],
   "source": [
    "def class_parcel(class_object):\n",
    "    for i in class_object:\n",
    "        i.syllabus()"
   ]
  },
  {
   "cell_type": "code",
   "execution_count": 5,
   "id": "dfa93378-e79e-41b6-adb8-3a3d356d98f6",
   "metadata": {},
   "outputs": [],
   "source": [
    "dat_scie=data_science()"
   ]
  },
  {
   "cell_type": "code",
   "execution_count": 6,
   "id": "4474b06a-f019-48c8-9872-200798cbcce8",
   "metadata": {},
   "outputs": [],
   "source": [
    "wb_dev=web_dev()"
   ]
  },
  {
   "cell_type": "code",
   "execution_count": 7,
   "id": "89b205e9-2c53-462c-a949-495f9d1868af",
   "metadata": {},
   "outputs": [],
   "source": [
    "class_obj=[dat_scie,wb_dev]"
   ]
  },
  {
   "cell_type": "code",
   "execution_count": 8,
   "id": "c3f8adc7-eba0-4f4a-a580-acfd779a96a0",
   "metadata": {},
   "outputs": [
    {
     "name": "stdout",
     "output_type": "stream",
     "text": [
      "This is my syllabus for data science \n",
      "This is my syllabus for web development\n"
     ]
    }
   ],
   "source": [
    "class_parcel(class_obj)"
   ]
  },
  {
   "cell_type": "code",
   "execution_count": 1,
   "id": "b86ab407-22ad-42a9-8f3d-7246f6ad67d8",
   "metadata": {},
   "outputs": [],
   "source": [
    "#this is how we can achieve poly morphism ability to have more than one form is called as polymorphism"
   ]
  },
  {
   "cell_type": "code",
   "execution_count": 7,
   "id": "e8d2aea3-761b-41e5-a6fb-40545a6d08e0",
   "metadata": {},
   "outputs": [],
   "source": [
    "class Demo:\n",
    "    def sum(self):\n",
    "        print(\"This function will gice you sum\")    "
   ]
  },
  {
   "cell_type": "code",
   "execution_count": 8,
   "id": "5928cfae-21ec-46f3-bff2-833c0880a6e2",
   "metadata": {},
   "outputs": [],
   "source": [
    "class Mul(Demo):\n",
    "    def multiplication(self):\n",
    "        print(\"This function will give you multiplication\")"
   ]
  },
  {
   "cell_type": "code",
   "execution_count": 9,
   "id": "7766d98c-277d-4066-9abb-1fc1f2941968",
   "metadata": {},
   "outputs": [
    {
     "name": "stdout",
     "output_type": "stream",
     "text": [
      "This function will gice you sum\n",
      "This function will give you multiplication\n"
     ]
    }
   ],
   "source": [
    "demonstration=Mul()\n",
    "demonstration.sum()\n",
    "demonstration.multiplication()"
   ]
  },
  {
   "cell_type": "code",
   "execution_count": 20,
   "id": "98785200-09ed-461c-80b4-372f6ff4a3d7",
   "metadata": {},
   "outputs": [],
   "source": [
    "class ss:\n",
    "    def sum(self,a,b):\n",
    "        return a+b"
   ]
  },
  {
   "cell_type": "code",
   "execution_count": 21,
   "id": "8af46bb7-31d6-4931-b36c-c91a51f4b73e",
   "metadata": {},
   "outputs": [],
   "source": [
    "class pp(ss):\n",
    "    def mul(self,a,b):\n",
    "        return a*b"
   ]
  },
  {
   "cell_type": "code",
   "execution_count": 22,
   "id": "c92c4325-83fa-4dfe-96fd-7c1bb9e4cdce",
   "metadata": {},
   "outputs": [
    {
     "name": "stdout",
     "output_type": "stream",
     "text": [
      "7\n",
      "12\n"
     ]
    }
   ],
   "source": [
    "hh=pp()\n",
    "print(hh.sum(3,4))\n",
    "print(hh.mul(3,4))"
   ]
  },
  {
   "cell_type": "code",
   "execution_count": 23,
   "id": "b254f23f-439b-4a1d-a598-3f19fb4304b9",
   "metadata": {},
   "outputs": [],
   "source": [
    "#Above demonstration is all about inheritance"
   ]
  },
  {
   "cell_type": "code",
   "execution_count": 26,
   "id": "7f20535d-9cfb-4f6f-9f6b-238df7dd2f3d",
   "metadata": {},
   "outputs": [],
   "source": [
    "import abc\n",
    "class dee:\n",
    "    @abc.abstractmethod\n",
    "    def stduent_details(self):\n",
    "        pass\n",
    "    \n",
    "    @abc.abstractmethod\n",
    "    def student_assignment(self):\n",
    "        pass\n",
    "    \n",
    "    @abc.abstractmethod\n",
    "    def student_marks(self):\n",
    "        pass"
   ]
  },
  {
   "cell_type": "code",
   "execution_count": 32,
   "id": "3170999f-a701-4870-9428-4bd31f1406b9",
   "metadata": {},
   "outputs": [],
   "source": [
    "class student_details(dee):\n",
    "    def student_details(self):\n",
    "        return \"this is ankit\"\n",
    "    def student_assignment(self):\n",
    "        return \"this is the method for assignment details for a particular student\""
   ]
  },
  {
   "cell_type": "code",
   "execution_count": 34,
   "id": "5a90dbf8-bd6d-4271-b328-6b0baf97f20f",
   "metadata": {},
   "outputs": [
    {
     "name": "stdout",
     "output_type": "stream",
     "text": [
      "this is ankit\n"
     ]
    },
    {
     "data": {
      "text/plain": [
       "'this is the method for assignment details for a particular student'"
      ]
     },
     "execution_count": 34,
     "metadata": {},
     "output_type": "execute_result"
    }
   ],
   "source": [
    "hh=student_details()\n",
    "print(hh.student_details())\n",
    "hh.student_assignment()"
   ]
  },
  {
   "cell_type": "code",
   "execution_count": 1,
   "id": "9a10ffdf-f18e-4709-9b41-b7c382ab6e59",
   "metadata": {},
   "outputs": [],
   "source": [
    "#The above demonstration is all about abstraction"
   ]
  },
  {
   "cell_type": "code",
   "execution_count": 5,
   "id": "a8817ee4-6e40-49ca-99f8-775fed0f3bd8",
   "metadata": {},
   "outputs": [],
   "source": [
    "def test():\n",
    "    print(\"This is the start of my function\")\n",
    "    print(\"This is my function to test\")\n",
    "    print(4+5)\n",
    "    print(\"This is end of my function\")"
   ]
  },
  {
   "cell_type": "code",
   "execution_count": 6,
   "id": "781926b7-ca60-4a87-860f-d097075217fe",
   "metadata": {},
   "outputs": [
    {
     "name": "stdout",
     "output_type": "stream",
     "text": [
      "This is the start of my function\n",
      "This is my function to test\n",
      "9\n",
      "This is end of my function\n"
     ]
    }
   ],
   "source": [
    "test()"
   ]
  },
  {
   "cell_type": "code",
   "execution_count": 7,
   "id": "564da1af-18a8-4141-ba38-adcd5286b92a",
   "metadata": {},
   "outputs": [],
   "source": [
    "def dec(func):\n",
    "    def inner_dec():\n",
    "        print(\"This is the start of my function\")\n",
    "        func()\n",
    "        print(\"This is end of my function\")\n",
    "    return inner_dec    "
   ]
  },
  {
   "cell_type": "code",
   "execution_count": 12,
   "id": "b4ae9e59-4aad-4065-b486-7b6599f41e7c",
   "metadata": {},
   "outputs": [],
   "source": [
    "@dec\n",
    "def test1():\n",
    "    print(6+7)"
   ]
  },
  {
   "cell_type": "code",
   "execution_count": 13,
   "id": "2d5b19b5-5e60-42d1-96c4-8a36b6e7cb86",
   "metadata": {},
   "outputs": [
    {
     "name": "stdout",
     "output_type": "stream",
     "text": [
      "This is the start of my function\n",
      "13\n",
      "This is end of my function\n"
     ]
    }
   ],
   "source": [
    "test1()"
   ]
  },
  {
   "cell_type": "code",
   "execution_count": 14,
   "id": "2a6d0de4-7205-436d-9aac-107dd1138b34",
   "metadata": {},
   "outputs": [],
   "source": [
    "import time\n",
    "def timer_test(func):\n",
    "    def timer_test_inner():\n",
    "        start=time.time()\n",
    "        func()\n",
    "        end=time.time()\n",
    "        print(end-start)\n",
    "    return timer_test_inner   "
   ]
  },
  {
   "cell_type": "code",
   "execution_count": 15,
   "id": "5acd1ae2-743c-4b11-949a-9e5a61ddc87c",
   "metadata": {},
   "outputs": [],
   "source": [
    "def test2():\n",
    "    print(45+78)"
   ]
  },
  {
   "cell_type": "code",
   "execution_count": 16,
   "id": "3595c80b-995d-4c3c-860f-53c40ef1f8bd",
   "metadata": {},
   "outputs": [
    {
     "name": "stdout",
     "output_type": "stream",
     "text": [
      "123\n"
     ]
    }
   ],
   "source": [
    "test2()"
   ]
  },
  {
   "cell_type": "code",
   "execution_count": 17,
   "id": "7c7502c5-4625-481c-961e-e50a8f6e2588",
   "metadata": {},
   "outputs": [],
   "source": [
    "@timer_test\n",
    "def test2():\n",
    "    print(45+78)"
   ]
  },
  {
   "cell_type": "code",
   "execution_count": 18,
   "id": "08c22372-d015-4536-b5da-761f788f47f6",
   "metadata": {},
   "outputs": [
    {
     "name": "stdout",
     "output_type": "stream",
     "text": [
      "123\n",
      "4.839897155761719e-05\n"
     ]
    }
   ],
   "source": [
    "test2()"
   ]
  },
  {
   "cell_type": "code",
   "execution_count": 1,
   "id": "b27540f4-a795-4ce0-8ee4-70bebc62bd8b",
   "metadata": {},
   "outputs": [],
   "source": [
    "class demo:\n",
    "    \n",
    "    def __init__(self,name,email):\n",
    "        self.name=name\n",
    "        self.email=email\n",
    "    def students_details(self):\n",
    "        print(self.name,self.email)"
   ]
  },
  {
   "cell_type": "code",
   "execution_count": 2,
   "id": "81b57a47-ca6a-4330-9b7e-d391b7f7baf3",
   "metadata": {},
   "outputs": [],
   "source": [
    "dd=demo(\"Ankit\",\"ankit@gmail.com\")"
   ]
  },
  {
   "cell_type": "code",
   "execution_count": 3,
   "id": "077a8936-50c1-4626-b31d-b7fa56bdd630",
   "metadata": {},
   "outputs": [
    {
     "data": {
      "text/plain": [
       "'Ankit'"
      ]
     },
     "execution_count": 3,
     "metadata": {},
     "output_type": "execute_result"
    }
   ],
   "source": [
    "dd.name"
   ]
  },
  {
   "cell_type": "code",
   "execution_count": 4,
   "id": "9e519b18-3995-4cf7-9e76-b67df8b1acbb",
   "metadata": {},
   "outputs": [
    {
     "data": {
      "text/plain": [
       "'ankit@gmail.com'"
      ]
     },
     "execution_count": 4,
     "metadata": {},
     "output_type": "execute_result"
    }
   ],
   "source": [
    "dd.email"
   ]
  },
  {
   "cell_type": "code",
   "execution_count": 5,
   "id": "823e2c2a-7578-4845-91c1-30f58ff7890a",
   "metadata": {},
   "outputs": [
    {
     "name": "stdout",
     "output_type": "stream",
     "text": [
      "Ankit ankit@gmail.com\n"
     ]
    }
   ],
   "source": [
    "dd.students_details()"
   ]
  },
  {
   "cell_type": "code",
   "execution_count": 11,
   "id": "88604ee4-6a16-4ff1-a1a2-d6b48b9a0e85",
   "metadata": {},
   "outputs": [],
   "source": [
    "class demons:\n",
    "    \n",
    "    def __init__(self,name,email):\n",
    "        self.name=name\n",
    "        self.email=email\n",
    "    \n",
    "    @classmethod\n",
    "    def details(cls,name,email):\n",
    "        return cls(name,email)\n",
    "    \n",
    "    def students_details(self):\n",
    "        print(self.name,self.email)"
   ]
  },
  {
   "cell_type": "code",
   "execution_count": 12,
   "id": "79db8eff-074a-4b44-8519-015c38021ef6",
   "metadata": {},
   "outputs": [],
   "source": [
    "dd=demons.details(\"ank\",\"ankit@gmail.com\")"
   ]
  },
  {
   "cell_type": "code",
   "execution_count": 14,
   "id": "2a73bad3-1001-4030-8f56-422d86106c23",
   "metadata": {},
   "outputs": [
    {
     "data": {
      "text/plain": [
       "'ank'"
      ]
     },
     "execution_count": 14,
     "metadata": {},
     "output_type": "execute_result"
    }
   ],
   "source": [
    "dd.name   #even without creating a object we are able to access the data"
   ]
  },
  {
   "cell_type": "code",
   "execution_count": 18,
   "id": "48b4f1b0-8db5-498c-bb8d-c9377edf496b",
   "metadata": {},
   "outputs": [
    {
     "name": "stdout",
     "output_type": "stream",
     "text": [
      "ank ankit@gmail.com\n"
     ]
    }
   ],
   "source": [
    "dd.students_details()  #see we are able to access without creating the object using decorator"
   ]
  },
  {
   "cell_type": "code",
   "execution_count": 25,
   "id": "8ed064a6-e4be-44a4-8b81-8189e3cb8787",
   "metadata": {},
   "outputs": [],
   "source": [
    "class demons1:\n",
    "    mobno=917118211   #we can access this without creating the object of this class\n",
    "    \n",
    "    def __init__(self,name,email):\n",
    "        self.name=name\n",
    "        self.email=email\n",
    "    \n",
    "    @classmethod       #what this decorator do is that we without creating the object can access this method\n",
    "    def change_num(cls,mobile):\n",
    "        demons1.mobno=mobile\n",
    "    \n",
    "    @classmethod\n",
    "    def details(cls,name,email):\n",
    "        return cls(name,email)\n",
    "    \n",
    "    def students_details(self):\n",
    "        print(self.name,self.email)"
   ]
  },
  {
   "cell_type": "code",
   "execution_count": 26,
   "id": "5f8bb2c6-fb20-427e-a7cd-a9912f77dd7a",
   "metadata": {},
   "outputs": [
    {
     "data": {
      "text/plain": [
       "917118211"
      ]
     },
     "execution_count": 26,
     "metadata": {},
     "output_type": "execute_result"
    }
   ],
   "source": [
    "demons1.mobno"
   ]
  },
  {
   "cell_type": "code",
   "execution_count": 27,
   "id": "65a345e8-b3ef-47ad-b010-a75f0878944f",
   "metadata": {},
   "outputs": [],
   "source": [
    "demons1.change_num(213452121)"
   ]
  },
  {
   "cell_type": "code",
   "execution_count": 28,
   "id": "dbb62256-cc17-4893-85b5-8dd3246c3705",
   "metadata": {},
   "outputs": [
    {
     "data": {
      "text/plain": [
       "213452121"
      ]
     },
     "execution_count": 28,
     "metadata": {},
     "output_type": "execute_result"
    }
   ],
   "source": [
    "demons1.mobno"
   ]
  },
  {
   "cell_type": "code",
   "execution_count": 29,
   "id": "911525e1-2038-4e7a-aa06-756fc0c2ca87",
   "metadata": {},
   "outputs": [],
   "source": [
    "dx=demons1(\"arpit\",\"arpit@gmail.com\")"
   ]
  },
  {
   "cell_type": "code",
   "execution_count": 30,
   "id": "55413c89-916d-4203-8e3c-c696ab430d60",
   "metadata": {},
   "outputs": [],
   "source": [
    "dx.change_num(11111111)    #this way is still possible"
   ]
  },
  {
   "cell_type": "code",
   "execution_count": 31,
   "id": "21ee16f9-257f-443c-8d6d-4b1e59a83036",
   "metadata": {},
   "outputs": [
    {
     "data": {
      "text/plain": [
       "11111111"
      ]
     },
     "execution_count": 31,
     "metadata": {},
     "output_type": "execute_result"
    }
   ],
   "source": [
    "dx.mobno"
   ]
  },
  {
   "cell_type": "code",
   "execution_count": 32,
   "id": "0fc378b6-f876-4adf-9107-ec67aed17bb9",
   "metadata": {},
   "outputs": [],
   "source": [
    "def course_details(cls,course_name):\n",
    "    print(\"course name is\",course_name)   #now if i want to add this method inside demons 1 method than lets see how we can do that"
   ]
  },
  {
   "cell_type": "code",
   "execution_count": 33,
   "id": "a4dfa6ab-23e0-4604-887f-a1488567408f",
   "metadata": {},
   "outputs": [],
   "source": [
    "demons1.course_details=classmethod(course_details)  #this outer function will now also be added inside demons1 method"
   ]
  },
  {
   "cell_type": "code",
   "execution_count": 34,
   "id": "432d773c-6ea6-446c-970a-0203bad58479",
   "metadata": {},
   "outputs": [
    {
     "name": "stdout",
     "output_type": "stream",
     "text": [
      "course name is Data science\n"
     ]
    }
   ],
   "source": [
    "demons1.course_details(\"Data science\")"
   ]
  },
  {
   "cell_type": "code",
   "execution_count": 35,
   "id": "39fa64ac-7c48-4f31-a95b-b4885e1bb5f2",
   "metadata": {},
   "outputs": [],
   "source": [
    "#now how can we delete a method inside the class"
   ]
  },
  {
   "cell_type": "code",
   "execution_count": 36,
   "id": "729ba654-9cc2-4ed3-94b8-40394d7118f7",
   "metadata": {},
   "outputs": [],
   "source": [
    "del demons1.change_num"
   ]
  },
  {
   "cell_type": "code",
   "execution_count": 37,
   "id": "7c6f6233-f339-4614-bf4a-d3d61f7d248f",
   "metadata": {},
   "outputs": [],
   "source": [
    "delattr(demons1,\"students_details\")"
   ]
  },
  {
   "cell_type": "code",
   "execution_count": 38,
   "id": "2e7df003-8691-4789-8435-530431bfdf7e",
   "metadata": {},
   "outputs": [],
   "source": [
    "#we can also delete the course_details function as well"
   ]
  },
  {
   "cell_type": "code",
   "execution_count": 39,
   "id": "4ba1b142-6db7-4f58-9a55-f1a523c16221",
   "metadata": {},
   "outputs": [],
   "source": [
    "#let see static method in python now"
   ]
  },
  {
   "cell_type": "code",
   "execution_count": 40,
   "id": "cd31ae75-2abd-4c7b-a578-29c9852ed537",
   "metadata": {},
   "outputs": [],
   "source": [
    "class demo:\n",
    "    def student_details(self,name,email,number):\n",
    "        print(name,email,number)"
   ]
  },
  {
   "cell_type": "code",
   "execution_count": 41,
   "id": "74f4a494-ab14-4b56-be3c-ae5b0dfc2280",
   "metadata": {},
   "outputs": [],
   "source": [
    "dd=demo()"
   ]
  },
  {
   "cell_type": "code",
   "execution_count": 42,
   "id": "5f1d1d40-13c7-4aa7-8e7e-a5aa22987b6c",
   "metadata": {},
   "outputs": [
    {
     "name": "stdout",
     "output_type": "stream",
     "text": [
      "ank ankit@gmail.com 21312312\n"
     ]
    }
   ],
   "source": [
    "dd.student_details(\"ank\",\"ankit@gmail.com\",21312312)"
   ]
  },
  {
   "cell_type": "code",
   "execution_count": 1,
   "id": "7e207aa3-258a-45bb-9d5b-6dbcb9bcd52c",
   "metadata": {},
   "outputs": [],
   "source": [
    "class demo:\n",
    "    def student_details(self,name,email,number):\n",
    "        print(name,email,number)\n",
    "     \n",
    "    @staticmethod\n",
    "    def mentor_class(list_mentor):\n",
    "        print(list_mentor)\n",
    "        \n",
    "    @classmethod\n",
    "    def class_name(cls):\n",
    "         cls.mentor_class([1,5,3,4])  #calling static method from class method"
   ]
  },
  {
   "cell_type": "code",
   "execution_count": 2,
   "id": "720e969f-4e6a-4bd3-8ab4-e5cf9c5a886d",
   "metadata": {},
   "outputs": [
    {
     "name": "stdout",
     "output_type": "stream",
     "text": [
      "[1, 2, 3, 4]\n"
     ]
    }
   ],
   "source": [
    "demo.mentor_class([1,2,3,4])"
   ]
  },
  {
   "cell_type": "code",
   "execution_count": 3,
   "id": "81f27211-6453-4ea2-a716-5000db2f6f79",
   "metadata": {},
   "outputs": [
    {
     "name": "stdout",
     "output_type": "stream",
     "text": [
      "[1, 5, 3, 4]\n"
     ]
    }
   ],
   "source": [
    "demo.class_name()"
   ]
  },
  {
   "cell_type": "markdown",
   "id": "3eb7372b-071d-400d-b1ae-addb9e041da5",
   "metadata": {},
   "source": [
    "if we want to call a static method from a non static method from the same class than we have to use self.methodname  like this "
   ]
  },
  {
   "cell_type": "code",
   "execution_count": 1,
   "id": "5fc2a83e-2481-4fb5-b712-485e31a6dc36",
   "metadata": {},
   "outputs": [
    {
     "data": {
      "text/plain": [
       "['__abs__',\n",
       " '__add__',\n",
       " '__and__',\n",
       " '__bool__',\n",
       " '__ceil__',\n",
       " '__class__',\n",
       " '__delattr__',\n",
       " '__dir__',\n",
       " '__divmod__',\n",
       " '__doc__',\n",
       " '__eq__',\n",
       " '__float__',\n",
       " '__floor__',\n",
       " '__floordiv__',\n",
       " '__format__',\n",
       " '__ge__',\n",
       " '__getattribute__',\n",
       " '__getnewargs__',\n",
       " '__gt__',\n",
       " '__hash__',\n",
       " '__index__',\n",
       " '__init__',\n",
       " '__init_subclass__',\n",
       " '__int__',\n",
       " '__invert__',\n",
       " '__le__',\n",
       " '__lshift__',\n",
       " '__lt__',\n",
       " '__mod__',\n",
       " '__mul__',\n",
       " '__ne__',\n",
       " '__neg__',\n",
       " '__new__',\n",
       " '__or__',\n",
       " '__pos__',\n",
       " '__pow__',\n",
       " '__radd__',\n",
       " '__rand__',\n",
       " '__rdivmod__',\n",
       " '__reduce__',\n",
       " '__reduce_ex__',\n",
       " '__repr__',\n",
       " '__rfloordiv__',\n",
       " '__rlshift__',\n",
       " '__rmod__',\n",
       " '__rmul__',\n",
       " '__ror__',\n",
       " '__round__',\n",
       " '__rpow__',\n",
       " '__rrshift__',\n",
       " '__rshift__',\n",
       " '__rsub__',\n",
       " '__rtruediv__',\n",
       " '__rxor__',\n",
       " '__setattr__',\n",
       " '__sizeof__',\n",
       " '__str__',\n",
       " '__sub__',\n",
       " '__subclasshook__',\n",
       " '__truediv__',\n",
       " '__trunc__',\n",
       " '__xor__',\n",
       " 'as_integer_ratio',\n",
       " 'bit_count',\n",
       " 'bit_length',\n",
       " 'conjugate',\n",
       " 'denominator',\n",
       " 'from_bytes',\n",
       " 'imag',\n",
       " 'numerator',\n",
       " 'real',\n",
       " 'to_bytes']"
      ]
     },
     "execution_count": 1,
     "metadata": {},
     "output_type": "execute_result"
    }
   ],
   "source": [
    "dir(int)"
   ]
  },
  {
   "cell_type": "code",
   "execution_count": 2,
   "id": "fa3765b4-1956-4666-aac4-d8ea421e3e50",
   "metadata": {},
   "outputs": [
    {
     "data": {
      "text/plain": [
       "['__add__',\n",
       " '__class__',\n",
       " '__contains__',\n",
       " '__delattr__',\n",
       " '__dir__',\n",
       " '__doc__',\n",
       " '__eq__',\n",
       " '__format__',\n",
       " '__ge__',\n",
       " '__getattribute__',\n",
       " '__getitem__',\n",
       " '__getnewargs__',\n",
       " '__gt__',\n",
       " '__hash__',\n",
       " '__init__',\n",
       " '__init_subclass__',\n",
       " '__iter__',\n",
       " '__le__',\n",
       " '__len__',\n",
       " '__lt__',\n",
       " '__mod__',\n",
       " '__mul__',\n",
       " '__ne__',\n",
       " '__new__',\n",
       " '__reduce__',\n",
       " '__reduce_ex__',\n",
       " '__repr__',\n",
       " '__rmod__',\n",
       " '__rmul__',\n",
       " '__setattr__',\n",
       " '__sizeof__',\n",
       " '__str__',\n",
       " '__subclasshook__',\n",
       " 'capitalize',\n",
       " 'casefold',\n",
       " 'center',\n",
       " 'count',\n",
       " 'encode',\n",
       " 'endswith',\n",
       " 'expandtabs',\n",
       " 'find',\n",
       " 'format',\n",
       " 'format_map',\n",
       " 'index',\n",
       " 'isalnum',\n",
       " 'isalpha',\n",
       " 'isascii',\n",
       " 'isdecimal',\n",
       " 'isdigit',\n",
       " 'isidentifier',\n",
       " 'islower',\n",
       " 'isnumeric',\n",
       " 'isprintable',\n",
       " 'isspace',\n",
       " 'istitle',\n",
       " 'isupper',\n",
       " 'join',\n",
       " 'ljust',\n",
       " 'lower',\n",
       " 'lstrip',\n",
       " 'maketrans',\n",
       " 'partition',\n",
       " 'removeprefix',\n",
       " 'removesuffix',\n",
       " 'replace',\n",
       " 'rfind',\n",
       " 'rindex',\n",
       " 'rjust',\n",
       " 'rpartition',\n",
       " 'rsplit',\n",
       " 'rstrip',\n",
       " 'split',\n",
       " 'splitlines',\n",
       " 'startswith',\n",
       " 'strip',\n",
       " 'swapcase',\n",
       " 'title',\n",
       " 'translate',\n",
       " 'upper',\n",
       " 'zfill']"
      ]
     },
     "execution_count": 2,
     "metadata": {},
     "output_type": "execute_result"
    }
   ],
   "source": [
    "dir(str)"
   ]
  },
  {
   "cell_type": "code",
   "execution_count": 3,
   "id": "a381333a-6475-4f4f-98af-fe601f4ed2de",
   "metadata": {},
   "outputs": [],
   "source": [
    "a=100"
   ]
  },
  {
   "cell_type": "code",
   "execution_count": 4,
   "id": "6cc865a4-63c6-467f-b80b-376532056562",
   "metadata": {},
   "outputs": [
    {
     "data": {
      "text/plain": [
       "105"
      ]
     },
     "execution_count": 4,
     "metadata": {},
     "output_type": "execute_result"
    }
   ],
   "source": [
    "a+5"
   ]
  },
  {
   "cell_type": "code",
   "execution_count": 6,
   "id": "7e623483-e73e-4372-ad25-f4b8cc88a6d4",
   "metadata": {},
   "outputs": [
    {
     "data": {
      "text/plain": [
       "105"
      ]
     },
     "execution_count": 6,
     "metadata": {},
     "output_type": "execute_result"
    }
   ],
   "source": [
    "a.__add__(5)  #these are dunder functions "
   ]
  },
  {
   "cell_type": "code",
   "execution_count": 14,
   "id": "99702ec7-c4db-4db9-8ccc-1c0e626b1f1c",
   "metadata": {},
   "outputs": [],
   "source": [
    "class demo:\n",
    "    def __new__(cls):      #this will be called first\n",
    "        print(\"This is my new\")\n",
    "    \n",
    "    def __init__(self):  #if __new__ is not there than the below print func will print this value.\n",
    "        print(\"This is my init\")\n",
    "        self.mob_no=96685844"
   ]
  },
  {
   "cell_type": "code",
   "execution_count": 13,
   "id": "eda341d3-0bd4-4c70-bd84-9bac0eb49b67",
   "metadata": {},
   "outputs": [
    {
     "name": "stdout",
     "output_type": "stream",
     "text": [
      "This is my new\n"
     ]
    }
   ],
   "source": [
    "dd=demo()"
   ]
  },
  {
   "cell_type": "code",
   "execution_count": 9,
   "id": "8f499a68-4d6e-4cd8-8729-91e117846100",
   "metadata": {},
   "outputs": [
    {
     "data": {
      "text/plain": [
       "96685844"
      ]
     },
     "execution_count": 9,
     "metadata": {},
     "output_type": "execute_result"
    }
   ],
   "source": [
    "dd.mob_no"
   ]
  },
  {
   "cell_type": "code",
   "execution_count": 23,
   "id": "45cbf5d5-9730-4daf-972a-01806a449783",
   "metadata": {},
   "outputs": [],
   "source": [
    "class demo1:\n",
    "   \n",
    "    \n",
    "    def __init__(self): \n",
    "        self.mob_no=96685844\n",
    "        \n",
    "    def __str__(self):\n",
    "        return \"This is mymagic call of str\""
   ]
  },
  {
   "cell_type": "code",
   "execution_count": 24,
   "id": "b61965f2-d500-42ee-8da6-a29ed38469de",
   "metadata": {},
   "outputs": [],
   "source": [
    "ds=demo1()"
   ]
  },
  {
   "cell_type": "code",
   "execution_count": 26,
   "id": "ed3413f2-8573-4a54-a29b-9b7eccfe558b",
   "metadata": {},
   "outputs": [
    {
     "name": "stdout",
     "output_type": "stream",
     "text": [
      "This is mymagic call of str\n"
     ]
    }
   ],
   "source": [
    "print(ds)  #since __str__ dunder is there therfore whatever written there will be printed when we print 'ds'"
   ]
  },
  {
   "cell_type": "code",
   "execution_count": 78,
   "id": "2d4f639b-2bec-4103-8525-06e96c76621f",
   "metadata": {},
   "outputs": [],
   "source": [
    "class dd:\n",
    "    def __init__(self,course_price,course_name):\n",
    "        self.__course_price=course_price   #double underscore means private variable single underscore means protected\n",
    "        self.course_name=course_name\n",
    "        \n",
    "    @property  #Access\n",
    "    def course_price_access(self):   #we can access that private variable only with this decorator\n",
    "        return self.__course_price\n",
    "    \n",
    "    @course_price_access.setter\n",
    "    def course_price_set(self,price):\n",
    "        self.price=price\n",
    "        if price <15000:\n",
    "            pass\n",
    "        else:\n",
    "            self.__course_price=price\n",
    "            \n",
    "    @course_price_access.deleter\n",
    "    def delete_course_price(self):\n",
    "         del self.__course_price  "
   ]
  },
  {
   "cell_type": "code",
   "execution_count": 79,
   "id": "0551666c-cbb4-437d-b297-a919f2a1d08e",
   "metadata": {},
   "outputs": [],
   "source": [
    "demo=dd(17000,\"udemy\")"
   ]
  },
  {
   "cell_type": "code",
   "execution_count": 80,
   "id": "9edb9907-2734-47fc-8446-f9cf2b815ae5",
   "metadata": {},
   "outputs": [
    {
     "data": {
      "text/plain": [
       "17000"
      ]
     },
     "execution_count": 80,
     "metadata": {},
     "output_type": "execute_result"
    }
   ],
   "source": [
    "demo.course_price_access   #we cannot access this variable now"
   ]
  },
  {
   "cell_type": "code",
   "execution_count": 81,
   "id": "0ad2547a-2473-442f-b083-3b5dcb75e6b0",
   "metadata": {},
   "outputs": [],
   "source": [
    "demo.course_price_set=19000"
   ]
  },
  {
   "cell_type": "code",
   "execution_count": 82,
   "id": "fa832edd-bc92-440a-9917-97746613f08a",
   "metadata": {},
   "outputs": [
    {
     "data": {
      "text/plain": [
       "19000"
      ]
     },
     "execution_count": 82,
     "metadata": {},
     "output_type": "execute_result"
    }
   ],
   "source": [
    "demo.course_price_access "
   ]
  },
  {
   "cell_type": "code",
   "execution_count": 83,
   "id": "4ab2305b-d7c5-4ef6-9ef3-f1e93a6de475",
   "metadata": {},
   "outputs": [],
   "source": [
    "del demo.delete_course_price"
   ]
  },
  {
   "cell_type": "code",
   "execution_count": 84,
   "id": "7ba1d855-97a2-4d93-b191-089bd357e385",
   "metadata": {},
   "outputs": [
    {
     "ename": "AttributeError",
     "evalue": "'dd' object has no attribute '_dd__course_price'",
     "output_type": "error",
     "traceback": [
      "\u001b[0;31m---------------------------------------------------------------------------\u001b[0m",
      "\u001b[0;31mAttributeError\u001b[0m                            Traceback (most recent call last)",
      "Cell \u001b[0;32mIn[84], line 1\u001b[0m\n\u001b[0;32m----> 1\u001b[0m \u001b[43mdemo\u001b[49m\u001b[38;5;241;43m.\u001b[39;49m\u001b[43mcourse_price_access\u001b[49m \n",
      "Cell \u001b[0;32mIn[78], line 8\u001b[0m, in \u001b[0;36mdd.course_price_access\u001b[0;34m(self)\u001b[0m\n\u001b[1;32m      6\u001b[0m \u001b[38;5;129m@property\u001b[39m  \u001b[38;5;66;03m#Access\u001b[39;00m\n\u001b[1;32m      7\u001b[0m \u001b[38;5;28;01mdef\u001b[39;00m \u001b[38;5;21mcourse_price_access\u001b[39m(\u001b[38;5;28mself\u001b[39m):   \u001b[38;5;66;03m#we can access that private variable only with this decorator\u001b[39;00m\n\u001b[0;32m----> 8\u001b[0m     \u001b[38;5;28;01mreturn\u001b[39;00m \u001b[38;5;28;43mself\u001b[39;49m\u001b[38;5;241;43m.\u001b[39;49m\u001b[43m__course_price\u001b[49m\n",
      "\u001b[0;31mAttributeError\u001b[0m: 'dd' object has no attribute '_dd__course_price'"
     ]
    }
   ],
   "source": [
    "demo.course_price_access "
   ]
  },
  {
   "cell_type": "code",
   "execution_count": null,
   "id": "de840d88-2d86-47e9-9bdc-65521412e3fa",
   "metadata": {},
   "outputs": [],
   "source": [
    "#successfully deleted"
   ]
  }
 ],
 "metadata": {
  "kernelspec": {
   "display_name": "Python 3 (ipykernel)",
   "language": "python",
   "name": "python3"
  },
  "language_info": {
   "codemirror_mode": {
    "name": "ipython",
    "version": 3
   },
   "file_extension": ".py",
   "mimetype": "text/x-python",
   "name": "python",
   "nbconvert_exporter": "python",
   "pygments_lexer": "ipython3",
   "version": "3.10.8"
  }
 },
 "nbformat": 4,
 "nbformat_minor": 5
}
