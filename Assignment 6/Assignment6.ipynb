{
 "cells": [
  {
   "cell_type": "code",
   "execution_count": 1,
   "id": "d0785ac0-2ed8-4bbe-9fb4-bdd284025f9e",
   "metadata": {},
   "outputs": [],
   "source": [
    "#Question 1\n",
    "#Answer1"
   ]
  },
  {
   "cell_type": "markdown",
   "id": "b553187c-cdcc-4766-beaa-ea924d6bb438",
   "metadata": {},
   "source": [
    "In object-oriented programming (OOP), a class is a blueprint or a template for creating objects.\n",
    "It defines the properties (attributes) and behaviors (methods) that an object of that class will possess. Objects,\n",
    "on the other hand, are instances of a class. They are created from a class and represent \n",
    "specific entities or concepts in a program.\n",
    "\n",
    "Let's consider an example to illustrate the concept of classes and objects in Python:"
   ]
  },
  {
   "cell_type": "code",
   "execution_count": 3,
   "id": "1366f97e-1148-4cd8-a781-8f2cb0c75d92",
   "metadata": {},
   "outputs": [
    {
     "name": "stdout",
     "output_type": "stream",
     "text": [
      "Hello, my name is ankit and I'm 21 years old.\n"
     ]
    }
   ],
   "source": [
    "class Person:\n",
    "    def __init__(self,name, age):\n",
    "        self.name=name\n",
    "        self.age=age\n",
    "        \n",
    "    def greet(self):\n",
    "        print(f\"Hello, my name is {self.name} and I'm {self.age} years old.\")\n",
    "\n",
    "person=Person(\"ankit\",21) #creating object of the class 'Person'\n",
    "\n",
    "person.greet()  #using the method 'greet' "
   ]
  },
  {
   "cell_type": "code",
   "execution_count": 4,
   "id": "b8226301-ad7d-4f24-9e29-b9a0b71d0bd0",
   "metadata": {},
   "outputs": [],
   "source": [
    "#Question 2\n",
    "#Answer2"
   ]
  },
  {
   "cell_type": "markdown",
   "id": "dd87b7fe-3d54-4070-ad28-b41855dba805",
   "metadata": {},
   "source": [
    "The four pillars of object-oriented programming (OOP) are:\n",
    "\n",
    "Encapsulation: Encapsulation refers to the bundling of data and methods within a class,\n",
    "hiding the internal details and providing a public interface for interacting with the object. \n",
    "It allows for data abstraction and ensures that the internal state of an object can be accessed \n",
    "and modified only through well-defined methods, promoting data integrity and security.\n",
    "\n",
    "Inheritance : Inheritance enables the creation of new classes (derived classes) based on existing classes (base or parent classes), allowing the derived classes to inherit attributes and behaviors from their parent classes. It promotes code reuse, extensibility, and the concept of \"is-a\" relationship, where a derived class is a specialized version of its parent class.\n",
    "\n",
    "Polymorphism : Polymorphism allows objects of different classes to be treated as objects of a common base class. It involves the ability to use a single interface (method or function) to represent different forms or behaviors. Polymorphism can be achieved through method overriding (inherited methods with different implementations in derived classes) and method overloading (multiple methods with the same name but different parameters).\n",
    "\n",
    "Abstraction : Abstraction focuses on representing the essential features and behavior of an object while hiding the unnecessary details. It allows for creating abstract classes and interfaces that define common characteristics and methods that subclasses must implement. Abstraction helps in managing complexity, providing a clear separation between the interface and implementation, and facilitating code maintenance and extensibility.\n",
    "\n",
    "These four pillars of OOP provide principles and techniques for designing and organizing code in a modular, reusable, and efficient manner, promoting code readability, maintainability, and scalability.\n"
   ]
  },
  {
   "cell_type": "code",
   "execution_count": 5,
   "id": "e30f79a5-0155-4992-9fb9-af74a4bf128c",
   "metadata": {},
   "outputs": [],
   "source": [
    "#Question 3\n",
    "#Answer 3"
   ]
  },
  {
   "cell_type": "markdown",
   "id": "0b3ce3d0-707a-4c42-9ed5-2d4e11dddb0f",
   "metadata": {},
   "source": [
    "The __init__() function is a special method in Python that is automatically called when a new object (instance) of a class is created. It is used to initialize the attributes of the object and perform any necessary setup or operations.\n",
    "\n",
    "Here's an example to illustrate the purpose of the __init__() function:"
   ]
  },
  {
   "cell_type": "code",
   "execution_count": 6,
   "id": "a14fa2dc-ab1e-4fc5-bec0-2cf35ffaea8a",
   "metadata": {},
   "outputs": [],
   "source": [
    "class Person:\n",
    "    def __init__(self,name,age):\n",
    "        self.name=name\n",
    "        self.age=age\n",
    "        \n",
    "    def introduce(self):\n",
    "        print(f\"Hello my name is {self.name} and I'm {self.age} years old\")"
   ]
  },
  {
   "cell_type": "code",
   "execution_count": 7,
   "id": "3915c663-caab-405d-879d-8003fcc1f4b8",
   "metadata": {},
   "outputs": [],
   "source": [
    "person=Person(\"ankit\",21)"
   ]
  },
  {
   "cell_type": "code",
   "execution_count": 8,
   "id": "60dae78d-7531-46eb-88ab-e128a6742d73",
   "metadata": {},
   "outputs": [
    {
     "name": "stdout",
     "output_type": "stream",
     "text": [
      "Hello my name is ankit and I'm 21 years old\n"
     ]
    }
   ],
   "source": [
    "person.introduce()"
   ]
  },
  {
   "cell_type": "code",
   "execution_count": 9,
   "id": "67ca3d27-5871-4a86-8542-83e424ee2d94",
   "metadata": {},
   "outputs": [],
   "source": [
    "#Question 4\n",
    "#Answer 4"
   ]
  },
  {
   "cell_type": "markdown",
   "id": "3184337a-3b4a-4ad3-a3aa-cef7600f1824",
   "metadata": {},
   "source": [
    "In object-oriented programming, self is used as a reference to the instance of a class. It allows access to instance attributes, calling other methods within the class, and creating/modifying instance attributes. self helps differentiate between different instances of a class and ensures proper encapsulation and data integrity."
   ]
  },
  {
   "cell_type": "code",
   "execution_count": 10,
   "id": "64c01f2c-5fe7-4a50-a1a6-7f98b526bcbe",
   "metadata": {},
   "outputs": [],
   "source": [
    "#Question 5\n",
    "#Answer 5"
   ]
  },
  {
   "cell_type": "markdown",
   "id": "41240181-96cc-4d4f-b533-520ea2b2ea72",
   "metadata": {},
   "source": [
    "Inheritance is a fundamental concept in object-oriented programming (OOP) that allows a class to inherit properties and behaviors from another class. The class that is being inherited from is called the base class, parent class, or superclass, and the class that inherits from it is called the derived class, child class, or subclass. The derived class extends or specializes the functionality of the base class.\n",
    "\n",
    "Python supports multiple types of inheritance:\n",
    "\n",
    "Single Inheritance: In single inheritance, a derived class inherits from a single base class. It forms a simple one-to-one hierarchy."
   ]
  },
  {
   "cell_type": "code",
   "execution_count": 11,
   "id": "eb017ccd-faf8-467b-915f-9b35bbb01522",
   "metadata": {},
   "outputs": [
    {
     "name": "stdout",
     "output_type": "stream",
     "text": [
      "Woof!\n"
     ]
    }
   ],
   "source": [
    "class Animal:\n",
    "    def __init__(self, name):\n",
    "        self.name = name\n",
    "\n",
    "    def sound(self):\n",
    "        pass\n",
    "\n",
    "\n",
    "class Dog(Animal):\n",
    "    def sound(self):\n",
    "        return \"Woof!\"\n",
    "\n",
    "\n",
    "dog = Dog(\"Buddy\")\n",
    "print(dog.sound())  # Output: Woof!"
   ]
  },
  {
   "cell_type": "markdown",
   "id": "940bb9a4-6edd-4091-b207-6b34e07f93ea",
   "metadata": {},
   "source": [
    "Multiple Inheritance: Multiple inheritance allows a derived class to inherit from multiple base classes. It enables a class to inherit attributes and behaviors from more than one class."
   ]
  },
  {
   "cell_type": "code",
   "execution_count": 2,
   "id": "26b57ad2-56c3-42f0-80f8-f2ce9808f64e",
   "metadata": {},
   "outputs": [
    {
     "name": "stdout",
     "output_type": "stream",
     "text": [
      "Method A from Class A\n",
      "Mehtod B from Class B\n",
      "Method C from Class C\n"
     ]
    }
   ],
   "source": [
    "class A:\n",
    "    def method_a(self):\n",
    "        print(\"Method A from Class A\")\n",
    "        \n",
    "class B:\n",
    "    def method_b(self):\n",
    "        print(\"Mehtod B from Class B\")\n",
    "              \n",
    "class C(A, B):\n",
    "    def method_c(self):\n",
    "        print(\"Method C from Class C\")\n",
    "              \n",
    "demo=C()   #Creating the object of class C which is inheriting the properties of both class A as well as class B\n",
    "demo.method_a()\n",
    "demo.method_b()\n",
    "demo.method_c()"
   ]
  },
  {
   "cell_type": "markdown",
   "id": "fb23c79e-9282-4243-bcf9-3e397e2bc39c",
   "metadata": {},
   "source": [
    "Multilevel Inheritance: Multilevel inheritance involves a chain of inheritance, where a derived class inherits from another derived class. It forms a hierarchical inheritance structure."
   ]
  },
  {
   "cell_type": "code",
   "execution_count": 3,
   "id": "cdac205a-1203-4324-8dc2-57784c22a102",
   "metadata": {},
   "outputs": [
    {
     "name": "stdout",
     "output_type": "stream",
     "text": [
      "Toyota sedan is driving smoothly\n"
     ]
    }
   ],
   "source": [
    "class Vehicle:\n",
    "    def __init__(self, brand):\n",
    "        self.brand = brand\n",
    "\n",
    "class Car(Vehicle):\n",
    "    def drive(self):\n",
    "        return f\"{self.brand} car is driving\"\n",
    "\n",
    "\n",
    "class Sedan(Car):\n",
    "    def drive(self):\n",
    "        return f\"{self.brand} sedan is driving smoothly\"\n",
    "\n",
    "\n",
    "sedan = Sedan(\"Toyota\")\n",
    "print(sedan.drive())  # Output: Toyota sedan is driving smoothly"
   ]
  },
  {
   "cell_type": "code",
   "execution_count": null,
   "id": "9e56c286-d5d8-45fc-990f-b99dcade8a80",
   "metadata": {},
   "outputs": [],
   "source": []
  }
 ],
 "metadata": {
  "kernelspec": {
   "display_name": "Python 3 (ipykernel)",
   "language": "python",
   "name": "python3"
  },
  "language_info": {
   "codemirror_mode": {
    "name": "ipython",
    "version": 3
   },
   "file_extension": ".py",
   "mimetype": "text/x-python",
   "name": "python",
   "nbconvert_exporter": "python",
   "pygments_lexer": "ipython3",
   "version": "3.10.8"
  }
 },
 "nbformat": 4,
 "nbformat_minor": 5
}
