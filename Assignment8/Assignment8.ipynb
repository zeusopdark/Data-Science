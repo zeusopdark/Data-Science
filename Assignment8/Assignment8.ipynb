{
 "cells": [
  {
   "cell_type": "code",
   "execution_count": 1,
   "id": "cdbd9719-86e1-4ef1-911b-1653c219ba6d",
   "metadata": {},
   "outputs": [],
   "source": [
    "#Question 1\n",
    "#Answer 1"
   ]
  },
  {
   "cell_type": "markdown",
   "id": "c0b05e73-34d4-4175-9c13-7c3023c3e89b",
   "metadata": {},
   "source": [
    "In Python, an exception is an error that occurs during program execution and can be handled with try-except blocks. It is used to handle runtime errors and exceptional situations.   Difference between exception and syntax error are as follow:"
   ]
  },
  {
   "cell_type": "markdown",
   "id": "b5646c74-fa12-40fa-b900-8fe10d75795f",
   "metadata": {},
   "source": [
    "Cause: Syntax errors are caused by mistakes in the code's structure, such as missing colons, incorrect indentation, or mismatched parentheses. Exceptions, on the other hand, occur during program execution and are caused by runtime conditions, such as invalid input, division by zero, or accessing a non-existent file.\n",
    "\n",
    "Detection: Syntax errors are detected by the Python interpreter during the parsing stage, before the code is executed. They prevent the code from running and must be fixed before execution. Exceptions are detected during runtime, while the code is being executed.\n",
    "\n",
    "Handling: Syntax errors need to be fixed by correcting the code structure. Exceptions, however, can be caught and handled using try-except blocks. By handling exceptions, you can gracefully respond to errors, take alternative actions, or provide meaningful error messages to the user.\n",
    "\n",
    "Type: Python provides numerous built-in exception classes, such as ValueError, TypeError, FileNotFoundError, etc., to handle specific types of errors during runtime. Syntax errors do not have specific exception classes associated with them, as they are general mistakes in the code's syntax."
   ]
  },
  {
   "cell_type": "code",
   "execution_count": 2,
   "id": "8449d776-2b8f-4a71-a010-02b128acd1aa",
   "metadata": {},
   "outputs": [],
   "source": [
    "#Question 2\n",
    "#Answer 2"
   ]
  },
  {
   "cell_type": "markdown",
   "id": "62db857e-d6b2-4771-8069-51c76d438e55",
   "metadata": {},
   "source": [
    "When an exception is not handled, it propagates up the call stack until it reaches a suitable exception handler or, if no handler is found, it results in the termination of the program. This is known as an \"unhandled exception\" or \"exception propagation.\"\n",
    "\n",
    "Here's an example to illustrate this:"
   ]
  },
  {
   "cell_type": "code",
   "execution_count": 4,
   "id": "b2e090f4-a757-481b-9011-819f5d597294",
   "metadata": {},
   "outputs": [
    {
     "name": "stdout",
     "output_type": "stream",
     "text": [
      "Error occured : division by zero\n"
     ]
    }
   ],
   "source": [
    "def divide(a,b):\n",
    "    return a/b;\n",
    "\n",
    "def perform_calculations():\n",
    "    try:\n",
    "        divide(10,0)\n",
    "    except Exception as e:\n",
    "        print(\"Error occured :\",e)\n",
    "perform_calculations()        "
   ]
  },
  {
   "cell_type": "code",
   "execution_count": null,
   "id": "c1cc3e13-702d-48c0-92a1-541f00e5335d",
   "metadata": {},
   "outputs": [],
   "source": [
    "#Question 3\n",
    "#Answer 3"
   ]
  },
  {
   "cell_type": "markdown",
   "id": "4302010c-b3c9-40c0-99ed-759df0fa9ca8",
   "metadata": {},
   "source": [
    "\n",
    "In Python, the try and except statements are used to catch and handle exceptions. The try block contains the code that might raise an exception, and the except block specifies how to handle the exception if it occurs.\n",
    "\n",
    "Here's an example that demonstrates the usage of try and except statements:"
   ]
  },
  {
   "cell_type": "code",
   "execution_count": 6,
   "id": "66a55076-3a07-483b-9e34-6993dd62573f",
   "metadata": {},
   "outputs": [
    {
     "name": "stdout",
     "output_type": "stream",
     "text": [
      "Error occured : division by zero\n"
     ]
    }
   ],
   "source": [
    "def division(a,b):\n",
    "    return a/b\n",
    "\n",
    "try:\n",
    "    division(10,0)\n",
    "except Exception as e:\n",
    "    print(\"Error occured :\",e)"
   ]
  },
  {
   "cell_type": "code",
   "execution_count": 7,
   "id": "43cddb99-560c-4fcc-955b-8d43953322e6",
   "metadata": {},
   "outputs": [],
   "source": [
    "#Question 4\n",
    "#Answer 4\n"
   ]
  },
  {
   "cell_type": "code",
   "execution_count": 9,
   "id": "04e30d0e-dd49-474a-bd1f-947e511c26b6",
   "metadata": {},
   "outputs": [
    {
     "name": "stdout",
     "output_type": "stream",
     "text": [
      "Result of the divsion is : 5.0\n",
      "Division operation completed\n"
     ]
    }
   ],
   "source": [
    "def division(a,b):\n",
    "    return a/b\n",
    "\n",
    "try:\n",
    "    result=division(10,2)\n",
    "except Exception as e:\n",
    "    print(\"Error occured :\",e)\n",
    "else:\n",
    "    print(\"Result of the divsion is :\", result)\n",
    "finally:\n",
    "    print(\"Division operation completed\")"
   ]
  },
  {
   "cell_type": "markdown",
   "id": "67500285-d977-4eb4-8a24-d91b66e3c7fe",
   "metadata": {},
   "source": [
    "If the try block didn't got any exception in that case else and finally block will be executed as well just like here we can see .\n",
    "If the try block got an exception in that case except and finally statement will be executed ."
   ]
  },
  {
   "cell_type": "code",
   "execution_count": 11,
   "id": "03ac4faf-bb83-42a5-a957-feacc40b7770",
   "metadata": {},
   "outputs": [
    {
     "name": "stdout",
     "output_type": "stream",
     "text": [
      "Error occured : division by zero\n",
      "Division operation completed\n"
     ]
    }
   ],
   "source": [
    "def division(a,b):\n",
    "    return a/b\n",
    "\n",
    "try:\n",
    "    result=division(10,0)\n",
    "except Exception as e:\n",
    "    print(\"Error occured :\",e)\n",
    "else:\n",
    "    print(\"Result of the divsion is :\", result)\n",
    "finally:\n",
    "    print(\"Division operation completed\")"
   ]
  },
  {
   "cell_type": "code",
   "execution_count": 1,
   "id": "f0b1d92c-c670-4f9b-8355-effd79710ec1",
   "metadata": {},
   "outputs": [],
   "source": [
    "#Question 5\n",
    "#Answer 5"
   ]
  },
  {
   "cell_type": "markdown",
   "id": "880a145b-c287-405b-8644-3fe4fb08a5f9",
   "metadata": {},
   "source": [
    "Custom exceptions in Python are user-defined exception classes that inherit from the base Exception class or its subclasses. They are created to handle specific error conditions in code. Custom exceptions improve error handling by providing explicit and meaningful error messages, enhancing code clarity and organization. They allow developers to differentiate and handle specific errors more effectively, leading to more robust and maintainable code."
   ]
  },
  {
   "cell_type": "code",
   "execution_count": 2,
   "id": "90641d60-3702-4f53-b5e2-bbd9e11fe422",
   "metadata": {},
   "outputs": [],
   "source": [
    "class my_exception(Exception):\n",
    "    def __init__ (self,msg):\n",
    "        self.msg=msg"
   ]
  },
  {
   "cell_type": "code",
   "execution_count": 6,
   "id": "e9171276-e26e-4968-8c8d-31f64a85b460",
   "metadata": {},
   "outputs": [],
   "source": [
    "def validate_age(age):\n",
    "    if age<0:\n",
    "        raise my_exception(\"Age can't be negative\")\n",
    "    elif age>200:\n",
    "        raise my_exception(\"Age is too high\")\n",
    "    else:\n",
    "        print(\"Age is valid\")"
   ]
  },
  {
   "cell_type": "code",
   "execution_count": 7,
   "id": "f3873fee-800d-4a82-90c7-9c32de1d7447",
   "metadata": {},
   "outputs": [
    {
     "name": "stdin",
     "output_type": "stream",
     "text": [
      "Please enter your age : -120\n"
     ]
    },
    {
     "name": "stdout",
     "output_type": "stream",
     "text": [
      "Error occured : Age can't be negative\n"
     ]
    }
   ],
   "source": [
    "try:\n",
    "    age=int(input(\"Please enter your age :\"))\n",
    "    validate_age(age)\n",
    "except my_exception as e:\n",
    "    print(\"Error occured :\",e)"
   ]
  },
  {
   "cell_type": "code",
   "execution_count": 1,
   "id": "e6905b6c-f4e9-4683-887e-8c4b11b63d4a",
   "metadata": {},
   "outputs": [],
   "source": [
    "#Question 6\n",
    "#Answer 6"
   ]
  },
  {
   "cell_type": "code",
   "execution_count": 7,
   "id": "20b26dfb-f4e9-4d8b-b97f-dcdc41a5e0d3",
   "metadata": {},
   "outputs": [
    {
     "name": "stdout",
     "output_type": "stream",
     "text": [
      "Error Occured : Dividing number by zero is not allowed\n"
     ]
    }
   ],
   "source": [
    "class Custom_exception(Exception):\n",
    "    def __init__(self,message):\n",
    "        self.message=message\n",
    "def Division(a,b):\n",
    "    if b==0:\n",
    "        raise Custom_exception(\"Dividing number by zero is not allowed\")\n",
    "    return a/b\n",
    "\n",
    "try:\n",
    "    print(Division(10,0))\n",
    "except Exception as e:\n",
    "    print(\"Error Occured :\",e)"
   ]
  },
  {
   "cell_type": "code",
   "execution_count": null,
   "id": "804f640f-1480-4181-9604-2f23fc36cbb6",
   "metadata": {},
   "outputs": [],
   "source": []
  }
 ],
 "metadata": {
  "kernelspec": {
   "display_name": "Python 3 (ipykernel)",
   "language": "python",
   "name": "python3"
  },
  "language_info": {
   "codemirror_mode": {
    "name": "ipython",
    "version": 3
   },
   "file_extension": ".py",
   "mimetype": "text/x-python",
   "name": "python",
   "nbconvert_exporter": "python",
   "pygments_lexer": "ipython3",
   "version": "3.10.8"
  }
 },
 "nbformat": 4,
 "nbformat_minor": 5
}
