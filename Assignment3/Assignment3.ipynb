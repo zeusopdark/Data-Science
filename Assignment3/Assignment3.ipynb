{
 "cells": [
  {
   "cell_type": "code",
   "execution_count": 1,
   "id": "cff36b09-5c07-40bf-8bb6-55d63baf9e79",
   "metadata": {},
   "outputs": [],
   "source": [
    "#Question 1"
   ]
  },
  {
   "cell_type": "markdown",
   "id": "b08759db-d891-4501-a36f-beca9e2f11d4",
   "metadata": {},
   "source": [
    "#Answer\n",
    "\n",
    "The keyword used in python for creating a function is 'def' keyword "
   ]
  },
  {
   "cell_type": "code",
   "execution_count": 13,
   "id": "2ba01250-a2c1-4e28-88ba-3555561a8924",
   "metadata": {},
   "outputs": [],
   "source": [
    "def genearte_odd():\n",
    "    l=[]\n",
    "    for i in range(1,26):\n",
    "        if i%2!=0:\n",
    "            l.append(i)\n",
    "    return l        "
   ]
  },
  {
   "cell_type": "code",
   "execution_count": 14,
   "id": "022ab6ad-a9a3-4a8f-963b-7a0264f86575",
   "metadata": {},
   "outputs": [
    {
     "data": {
      "text/plain": [
       "[1, 3, 5, 7, 9, 11, 13, 15, 17, 19, 21, 23, 25]"
      ]
     },
     "execution_count": 14,
     "metadata": {},
     "output_type": "execute_result"
    }
   ],
   "source": [
    "genearte_odd()   #Calling the function"
   ]
  },
  {
   "cell_type": "code",
   "execution_count": 15,
   "id": "2e2f3b4c-7b3c-4e57-be75-4597c620eaa7",
   "metadata": {},
   "outputs": [],
   "source": [
    "#Question 2"
   ]
  },
  {
   "cell_type": "markdown",
   "id": "22a7ae62-e0cd-4457-8409-9ab04afb824a",
   "metadata": {},
   "source": [
    "#Answer\n",
    "\n",
    "In Python, *args and **kwargs are used as parameters in function definitions to handle variable-length arguments.\n",
    "*args receives arguments as a tuple.\n",
    "**kwargs receives arguments as a dictionary.\n",
    "\n",
    "The *args parameter allows a function to accept any number of positional arguments.\n",
    "It collects these arguments into a tuple within the function. \n",
    "The * before args unpacks the arguments passed to the function."
   ]
  },
  {
   "cell_type": "code",
   "execution_count": 16,
   "id": "78b365f4-2f5e-41da-9502-56dc327c1d25",
   "metadata": {},
   "outputs": [
    {
     "data": {
      "text/plain": [
       "15"
      ]
     },
     "execution_count": 16,
     "metadata": {},
     "output_type": "execute_result"
    }
   ],
   "source": [
    "#Example to demostrate the use of *args\n",
    "\n",
    "def sum_numbers(*args):\n",
    "    sum=0\n",
    "    for i in args:\n",
    "        sum+=i\n",
    "    return sum\n",
    "\n",
    "sum_numbers(1,2,3,4,5)\n",
    " #Ouptut 15       "
   ]
  },
  {
   "cell_type": "markdown",
   "id": "f98e250a-aae9-48be-ad40-175c4ee72a01",
   "metadata": {},
   "source": [
    "The **kwargs parameter allows a function to accept any number of keyword arguments, which are passed as key-value pairs. \n",
    "It collects these arguments into a dictionary within the function.\n",
    "The ** before kwargs unpacks the keyword arguments."
   ]
  },
  {
   "cell_type": "code",
   "execution_count": 17,
   "id": "7ec0ac77-b1d6-472a-8983-6eef9c6db204",
   "metadata": {},
   "outputs": [
    {
     "name": "stdout",
     "output_type": "stream",
     "text": [
      "name:Ankit\n",
      "age:20\n",
      "Country:India\n"
     ]
    }
   ],
   "source": [
    "#Example to demonstrate the use of **kwargs\n",
    "\n",
    "def print_details(**kwargs):\n",
    "    for key,value in kwargs.items():\n",
    "        print(f\"{key}:{value}\")\n",
    "        \n",
    "print_details(name=\"Ankit\",age=20,Country=\"India\")        "
   ]
  },
  {
   "cell_type": "code",
   "execution_count": 18,
   "id": "c90863dc-ade4-4730-a3ea-7bc2b83a65a1",
   "metadata": {},
   "outputs": [],
   "source": [
    "#Question 3"
   ]
  },
  {
   "cell_type": "markdown",
   "id": "a7c70c52-d56a-4ac7-a9f3-9ec6ca9a1a0f",
   "metadata": {},
   "source": [
    "#Answer\n",
    "In Python, an iterator is an object that implements the iterator protocol, which consists of two methods: __iter__() and __next__().\n",
    "\n",
    "The __iter__() method is used to initialize the iterator object.\n",
    "It is responsible for returning the iterator object itself. \n",
    "This method is called when the iterator is created or reset.\n",
    "\n",
    "The __next__() method is used for iteration. It retrieves the next item from the iterator.\n",
    "This method is called each time you want to access the next element in the iteration sequence.\n",
    "If there are no more elements, it should raise the StopIteration exception."
   ]
  },
  {
   "cell_type": "code",
   "execution_count": 19,
   "id": "5b1574ea-3cfd-437d-9ea5-69b44b7a2e99",
   "metadata": {},
   "outputs": [
    {
     "name": "stdout",
     "output_type": "stream",
     "text": [
      "2\n",
      "4\n",
      "6\n",
      "8\n",
      "10\n"
     ]
    }
   ],
   "source": [
    "#Example to print five elements from the list  [2, 4, 6, 8, 10, 12, 14, 16, 18, 20]\n",
    "\n",
    "l= [2, 4, 6, 8, 10, 12, 14, 16, 18, 20]\n",
    "my_list=iter(l)\n",
    "\n",
    "for _ in range (5):\n",
    "    print(next(my_list))"
   ]
  },
  {
   "cell_type": "code",
   "execution_count": 20,
   "id": "bda79b93-7c2e-4761-959c-962fdc68df23",
   "metadata": {},
   "outputs": [],
   "source": [
    "#Question 4"
   ]
  },
  {
   "cell_type": "markdown",
   "id": "3645405a-9640-4daf-9835-e411f8501695",
   "metadata": {},
   "source": [
    "#Answer\n",
    "In Python, a generator function is a special type of function that returns an iterator,\n",
    "which can be iterated over using a for loop or by calling the next() function. \n",
    "It allows you to generate a sequence of values on-the-fly, \n",
    "lazily generating values one at a time rather than generating the entire sequence at once.\n",
    "This makes generator functions memory-efficient and suitable for handling large datasets or infinite sequences.\n",
    "\n",
    "The yield keyword is used in generator functions to define the points at which the function should yield its value.\n",
    "When a generator function encounters a yield statement, it temporarily suspends its execution and returns the yielded value.\n",
    "The state of the function is saved, allowing it to resume from where it left off when the next value is requested.\n",
    "The yield statement can be used multiple times within a generator function,\n",
    "producing a sequence of values as the function is iterated over."
   ]
  },
  {
   "cell_type": "code",
   "execution_count": 21,
   "id": "1a26ccfb-99b4-46c8-82ea-442a159f7a50",
   "metadata": {},
   "outputs": [
    {
     "name": "stdout",
     "output_type": "stream",
     "text": [
      "0\n",
      "1\n",
      "1\n",
      "2\n",
      "3\n",
      "5\n",
      "8\n",
      "13\n",
      "21\n",
      "34\n"
     ]
    }
   ],
   "source": [
    "#Example for generator function printing first 10 fibonacci numbers\n",
    "\n",
    "def fibi(n):\n",
    "    a,b=0,1\n",
    "    for i in range(n):\n",
    "        yield(a)\n",
    "        a,b=b,a+b\n",
    "\n",
    "for i in fibi(10):\n",
    "    print(i)"
   ]
  },
  {
   "cell_type": "code",
   "execution_count": 22,
   "id": "6f8f322b-d522-44f5-83da-d01b1402aead",
   "metadata": {},
   "outputs": [],
   "source": [
    "#Question 5"
   ]
  },
  {
   "cell_type": "code",
   "execution_count": 23,
   "id": "b9b92dcd-c068-4295-9b7d-30704530f8f9",
   "metadata": {},
   "outputs": [
    {
     "name": "stdout",
     "output_type": "stream",
     "text": [
      "2\n",
      "3\n",
      "5\n",
      "7\n",
      "11\n",
      "13\n",
      "17\n",
      "19\n",
      "23\n",
      "29\n",
      "31\n",
      "37\n",
      "41\n",
      "43\n",
      "47\n",
      "53\n",
      "59\n",
      "61\n",
      "67\n",
      "71\n"
     ]
    }
   ],
   "source": [
    "#Answer\n",
    "\n",
    "def generate_primes():\n",
    "    yield 2\n",
    "    primes=[2]\n",
    "    num=3\n",
    "    \n",
    "    while num<1000:\n",
    "        is_prime=True\n",
    "        for prime in primes:\n",
    "            if num%prime==0:\n",
    "                is_prime=False\n",
    "                break\n",
    "            \n",
    "        if is_prime==True:\n",
    "            yield num\n",
    "            primes.append(num)\n",
    "            \n",
    "        num+=2\n",
    "\n",
    "generate=generate_primes()\n",
    "for _ in range(20):\n",
    "    print(next(generate))"
   ]
  },
  {
   "cell_type": "code",
   "execution_count": 24,
   "id": "5de22bdb-8331-4522-a9ff-0e1b9ac7fec8",
   "metadata": {},
   "outputs": [],
   "source": [
    "#Question 6"
   ]
  },
  {
   "cell_type": "code",
   "execution_count": 25,
   "id": "784a0a86-ded0-4546-b4e3-83833733d5d1",
   "metadata": {},
   "outputs": [
    {
     "name": "stdout",
     "output_type": "stream",
     "text": [
      "0\n",
      "1\n",
      "1\n",
      "2\n",
      "3\n",
      "5\n",
      "8\n",
      "13\n",
      "21\n",
      "34\n"
     ]
    }
   ],
   "source": [
    "#Answer\n",
    "def fibi():\n",
    "    a,b=0,1\n",
    "    while True:\n",
    "        yield(a)\n",
    "        a,b=b,a+b\n",
    "\n",
    "fib=fibi()\n",
    "\n",
    "for _ in range(10):\n",
    "    print(next(fib))"
   ]
  },
  {
   "cell_type": "code",
   "execution_count": 26,
   "id": "a812fa16-6100-47ba-9618-edac3413316f",
   "metadata": {},
   "outputs": [],
   "source": [
    "#Question 7"
   ]
  },
  {
   "cell_type": "code",
   "execution_count": 29,
   "id": "e28fde7e-6b87-4b6b-8a44-e3ab68644a27",
   "metadata": {},
   "outputs": [
    {
     "name": "stdout",
     "output_type": "stream",
     "text": [
      "['p', 'w', 's', 'k', 'i', 'l', 'l', 's']\n"
     ]
    }
   ],
   "source": [
    "#Answer\n",
    "s='pwskills'\n",
    "\n",
    "l=[i for i in s]\n",
    "print(l)"
   ]
  },
  {
   "cell_type": "code",
   "execution_count": 30,
   "id": "9a264ea5-aa66-495a-8775-c3274b84e1d0",
   "metadata": {},
   "outputs": [],
   "source": [
    "#Question 8"
   ]
  },
  {
   "cell_type": "code",
   "execution_count": 37,
   "id": "49cbdf91-7e80-42ad-835a-8775c5d04972",
   "metadata": {},
   "outputs": [
    {
     "name": "stdin",
     "output_type": "stream",
     "text": [
      "Enter the number : 121\n"
     ]
    },
    {
     "name": "stdout",
     "output_type": "stream",
     "text": [
      "121\n",
      "Palindrome Number\n"
     ]
    }
   ],
   "source": [
    "#Answer\n",
    "#Palindrome Number\n",
    "\n",
    "i=int(input(\"Enter the number :\" ))\n",
    "\n",
    "n=i\n",
    "\n",
    "rev=0\n",
    "while n>0:\n",
    "    rem=n%10\n",
    "    rev=rev*10+rem\n",
    "    n//=10\n",
    "\n",
    "print(rev)\n",
    "if i==rev:\n",
    "    print(\"Palindrome Number\")\n",
    "else:\n",
    "    print(\"Number is not a palindrome number\")"
   ]
  },
  {
   "cell_type": "code",
   "execution_count": 38,
   "id": "6b460120-f4ec-4b37-8959-e7689d02e34c",
   "metadata": {},
   "outputs": [],
   "source": [
    "#Question 10"
   ]
  },
  {
   "cell_type": "code",
   "execution_count": 46,
   "id": "8999e5ed-38dd-4c8f-9275-bdc1cb9fb43f",
   "metadata": {},
   "outputs": [
    {
     "name": "stdout",
     "output_type": "stream",
     "text": [
      "[1, 3, 5, 7, 9, 11, 13, 15, 17, 19, 21, 23, 25, 27, 29, 31, 33, 35, 37, 39, 41, 43, 45, 47, 49, 51, 53, 55, 57, 59, 61, 63, 65, 67, 69, 71, 73, 75, 77, 79, 81, 83, 85, 87, 89, 91, 93, 95, 97, 99]\n"
     ]
    }
   ],
   "source": [
    "#Answer\n",
    "my_list=[x for x in range (1,101)]\n",
    "l=list(filter(lambda x:  x%2==1,my_list))\n",
    "\n",
    "print(l)"
   ]
  },
  {
   "cell_type": "code",
   "execution_count": null,
   "id": "b1f8431e-62e1-4358-bb72-4d438ed52e59",
   "metadata": {},
   "outputs": [],
   "source": []
  }
 ],
 "metadata": {
  "kernelspec": {
   "display_name": "Python 3 (ipykernel)",
   "language": "python",
   "name": "python3"
  },
  "language_info": {
   "codemirror_mode": {
    "name": "ipython",
    "version": 3
   },
   "file_extension": ".py",
   "mimetype": "text/x-python",
   "name": "python",
   "nbconvert_exporter": "python",
   "pygments_lexer": "ipython3",
   "version": "3.10.8"
  }
 },
 "nbformat": 4,
 "nbformat_minor": 5
}
