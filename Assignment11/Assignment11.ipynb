{
 "cells": [
  {
   "cell_type": "code",
   "execution_count": 1,
   "id": "8fcd2bb5-7968-4257-b3c0-0dc3711d26a3",
   "metadata": {},
   "outputs": [],
   "source": [
    "#Question 1\n",
    "#Answer 1"
   ]
  },
  {
   "cell_type": "markdown",
   "id": "a45193cc-9596-488e-8c47-ea1f9fe79173",
   "metadata": {},
   "source": [
    "Multiprocessing in Python allows you to run multiple processes simultaneously, utilizing multiple CPU cores. It improves performance, enables concurrency and responsiveness, utilizes multiple resources, and provides isolation and fault tolerance. It is useful for speeding up CPU-intensive tasks, maintaining program responsiveness, and taking advantage of multi-core systems."
   ]
  },
  {
   "cell_type": "code",
   "execution_count": 2,
   "id": "33e371de-2833-44f2-9dc5-067d62ab70a8",
   "metadata": {},
   "outputs": [],
   "source": [
    "#Question 2\n",
    "#Answer 2"
   ]
  },
  {
   "cell_type": "markdown",
   "id": "7815986d-e149-4a80-be76-dabefd44ae1f",
   "metadata": {},
   "source": [
    "Multiprocessing involves running multiple processes simultaneously, utilizing separate memory spaces and enabling true parallelism on multiple CPU cores. Multithreading operates within a single process, sharing the same memory space and CPU core, providing concurrency but not true parallelism."
   ]
  },
  {
   "cell_type": "code",
   "execution_count": 4,
   "id": "48bf59d1-92ab-48a0-950e-a053b742d6cd",
   "metadata": {},
   "outputs": [],
   "source": [
    "#Question 3\n",
    "#Answer 3"
   ]
  },
  {
   "cell_type": "code",
   "execution_count": 6,
   "id": "aef97c60-76da-4092-8082-be4b9fd13d39",
   "metadata": {},
   "outputs": [
    {
     "name": "stdout",
     "output_type": "stream",
     "text": [
      "This is my main method\n",
      "This is my test method\n"
     ]
    }
   ],
   "source": [
    "import multiprocessing\n",
    "\n",
    "def test():\n",
    "    print(\"This is my test method\")\n",
    "    \n",
    "if __name__=='__main__':\n",
    "    m=multiprocessing.Process(target=test)\n",
    "    print(\"This is my main method\")\n",
    "    m.start()\n",
    "    m.join()"
   ]
  },
  {
   "cell_type": "code",
   "execution_count": 9,
   "id": "1ccd030d-d194-4eb8-90ec-c1229a500779",
   "metadata": {},
   "outputs": [],
   "source": [
    "#Question 4\n",
    "#Answer 4"
   ]
  },
  {
   "cell_type": "markdown",
   "id": "8e0f34b1-a9ef-4690-a278-8302af657d44",
   "metadata": {},
   "source": [
    "A multiprocessing pool in Python is used to distribute tasks among multiple worker processes for parallel execution, improving performance by leveraging multiple CPU cores. It simplifies process management and allows for concurrent processing, making it easier to implement efficient and parallel code."
   ]
  },
  {
   "cell_type": "code",
   "execution_count": null,
   "id": "2a901696-08c4-48b9-b1e7-b74bf0012eff",
   "metadata": {},
   "outputs": [],
   "source": [
    "#Question 5\n",
    "#Answer 5"
   ]
  },
  {
   "cell_type": "code",
   "execution_count": 8,
   "id": "2f520923-c866-4c15-8585-38a86d6f93cd",
   "metadata": {},
   "outputs": [
    {
     "name": "stdout",
     "output_type": "stream",
     "text": [
      "[1, 4, 9, 16, 25, 36, 49, 64, 81]\n"
     ]
    }
   ],
   "source": [
    "def square(n):\n",
    "    return n**2\n",
    "\n",
    "if __name__=='__main__':\n",
    "    with multiprocessing.Pool(processes=4)as pool:\n",
    "        out=pool.map(square,[1,2,3,4,5,6,7,8,9])\n",
    "        print(out)\n",
    "        pool.close()\n",
    "        pool.join()"
   ]
  },
  {
   "cell_type": "code",
   "execution_count": 1,
   "id": "2ed8a16e-fbf9-4457-b6d6-78e825cdfa6d",
   "metadata": {},
   "outputs": [],
   "source": [
    "#Question 6\n",
    "#Answer 6"
   ]
  },
  {
   "cell_type": "code",
   "execution_count": 6,
   "id": "0539d1a9-17b4-4a27-bad6-5fb13578d6ff",
   "metadata": {},
   "outputs": [
    {
     "name": "stdout",
     "output_type": "stream",
     "text": [
      "Numbers : 1\n",
      "Numbers : 2\n",
      "Numbers : 3\n",
      "Numbers : 4\n"
     ]
    }
   ],
   "source": [
    "import multiprocessing\n",
    "\n",
    "def my_numbers(numbers):\n",
    "    print(\"Numbers :\",numbers)\n",
    "    \n",
    "if __name__=='__main__':\n",
    "    m=[multiprocessing.Process(target=my_numbers,args=(i+1,))for i in range(4)]\n",
    "    for i in m:\n",
    "        i.start()\n",
    "        i.join()"
   ]
  },
  {
   "cell_type": "code",
   "execution_count": null,
   "id": "20646f82-fc2a-45b6-81ac-94fc2788074d",
   "metadata": {},
   "outputs": [],
   "source": []
  },
  {
   "cell_type": "code",
   "execution_count": null,
   "id": "faec1312-e95b-45ff-9890-a361f6c32d9b",
   "metadata": {},
   "outputs": [],
   "source": []
  }
 ],
 "metadata": {
  "kernelspec": {
   "display_name": "Python 3 (ipykernel)",
   "language": "python",
   "name": "python3"
  },
  "language_info": {
   "codemirror_mode": {
    "name": "ipython",
    "version": 3
   },
   "file_extension": ".py",
   "mimetype": "text/x-python",
   "name": "python",
   "nbconvert_exporter": "python",
   "pygments_lexer": "ipython3",
   "version": "3.10.8"
  }
 },
 "nbformat": 4,
 "nbformat_minor": 5
}
