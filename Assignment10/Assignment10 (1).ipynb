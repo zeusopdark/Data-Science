{
 "cells": [
  {
   "cell_type": "code",
   "execution_count": 1,
   "id": "350cd92d-5e83-40d9-b03a-63baebce8404",
   "metadata": {},
   "outputs": [],
   "source": [
    "#Question 1\n",
    "#Answer 1"
   ]
  },
  {
   "cell_type": "markdown",
   "id": "53b5eece-8bad-49f8-9bf7-e4b3e2ddd015",
   "metadata": {},
   "source": [
    "Multithreading in Python refers to the capability of executing multiple threads (small units of a program) simultaneously within a single process. A thread is a lightweight subprocess that shares the same memory space as the main program but can run independently. Multithreading is used to achieve concurrent execution of tasks, where different threads can perform different operations concurrently, improving the overall performance and responsiveness of an application.\n",
    "\n",
    "Multithreading is commonly used in scenarios where a program needs to perform multiple tasks simultaneously, such as handling multiple client requests, performing I/O operations, or parallelizing CPU-intensive tasks. By utilizing multiple threads, the program can effectively utilize the available resources and maximize efficiency.\n",
    "\n",
    "In Python, the threading module is used to handle threads. This module provides a high-level interface for creating, managing, and synchronizing threads. It offers classes and functions to create and control threads, implement synchronization mechanisms like locks, semaphores, and events, and provides ways to communicate between threads. The threading module simplifies the process of working with threads in Python and is commonly used in multithreaded applications."
   ]
  },
  {
   "cell_type": "code",
   "execution_count": 2,
   "id": "c71db7a6-66b6-4710-860a-6d2da946b736",
   "metadata": {},
   "outputs": [],
   "source": [
    "#Question 2\n",
    "#Answer 2"
   ]
  },
  {
   "cell_type": "markdown",
   "id": "ff63e9b6-be3a-485a-96ca-ccb0ba98c891",
   "metadata": {},
   "source": [
    "The threading module is used in Python to handle threads and provides a high-level interface for creating and managing them. It simplifies the process of working with threads by offering various functions and classes that facilitate thread creation, control, and synchronization.\n",
    "\n",
    "activeCount(): This function returns the number of currently active Thread objects in the current thread's ThreadGroup. It provides a way to determine how many threads are currently running. It can be useful for monitoring and debugging purposes or for implementing thread pooling mechanisms.\n",
    "\n",
    "currentThread(): This function returns the current Thread object, corresponding to the caller's thread of execution. It allows you to obtain a reference to the currently executing thread, which can be useful for identifying and distinguishing threads, accessing thread-specific data, or passing the thread object to other functions.\n",
    "\n",
    "enumerate(): This function returns a list of all currently active Thread objects. It provides a way to obtain references to all running threads. By iterating over the list, you can access information and perform operations on each individual thread, such as checking their names, states, or terminating them if necessary.\n",
    "\n"
   ]
  },
  {
   "cell_type": "code",
   "execution_count": 3,
   "id": "6722c6ef-34f4-4887-bf1d-87243f51429a",
   "metadata": {},
   "outputs": [],
   "source": [
    "#Question 3\n",
    "#Answer 3"
   ]
  },
  {
   "cell_type": "markdown",
   "id": "8ac6aab7-c8ae-4b18-9445-352cc0e092e3",
   "metadata": {},
   "source": [
    "The mentioned functions are related to thread management in the threading module in Python:\n",
    "\n",
    "run(): This function is not directly called by the user but is meant to be overridden in a subclass of the Thread class. It represents the code that will be executed when a thread is started using the start() method. By default, the run() method in the Thread class does nothing. Therefore, it is necessary to subclass Thread and override run() with the desired functionality that needs to be executed in the thread.\n",
    "\n",
    "start(): This method is used to start a thread's execution. It creates a new thread of execution and invokes the run() method of the thread. The start() method returns immediately after the thread is started and does not block the calling thread. Once a thread is started, it will run concurrently with other threads until it completes its execution or is explicitly terminated.\n",
    "\n",
    "join(): This method is used to wait for a thread to complete its execution. When a thread's join() method is called, the calling thread will be blocked until the target thread finishes its execution. It allows for synchronization, ensuring that the calling thread does not proceed until the joined thread has completed. The join() method can also take an optional timeout argument, specifying the maximum time to wait for the thread to finish.\n",
    "\n",
    "isAlive(): This method returns a Boolean value indicating whether a thread is currently alive or running. It returns True if the thread is still executing or False if the thread has completed its execution. The isAlive() method can be used to check the status of a thread and determine if it is still active before performing further actions.\n",
    "\n"
   ]
  },
  {
   "cell_type": "code",
   "execution_count": 4,
   "id": "a518ad85-68cd-48c5-9991-75464832c8b1",
   "metadata": {},
   "outputs": [],
   "source": [
    "#Question 4\n",
    "#Answer 4"
   ]
  },
  {
   "cell_type": "code",
   "execution_count": 14,
   "id": "649516d4-d10d-4d8f-9503-f475a43173d7",
   "metadata": {},
   "outputs": [
    {
     "name": "stdout",
     "output_type": "stream",
     "text": [
      "[1, 4, 9, 16, 25, 36]\n",
      "[1, 8, 27, 64, 125, 216]\n"
     ]
    }
   ],
   "source": [
    "import threading\n",
    "def square(i,lis):\n",
    "    lis[i]=lis[i]**2\n",
    "    \n",
    "def cube(i,als):\n",
    "    als[i]=als[i]**3\n",
    "    \n",
    "    \n",
    "threads=[]    \n",
    "lis=[1,2,3,4,5,6]\n",
    "als=[1,2,3,4,5,6]\n",
    "\n",
    "for i in range(len(lis)):\n",
    "    t1=threading.Thread(target=square,args=(i,lis)) \n",
    "    t1.start()\n",
    "    \n",
    "    \n",
    "for i in range(len(als)):    \n",
    "    t2=threading.Thread(target=cube,args=(i,als))\n",
    "    t2.start()\n",
    "\n",
    "# Wait for all threads to finish\n",
    "for t in threads:\n",
    "    t.join()\n",
    "    \n",
    "    \n",
    "print(lis)\n",
    "print(als)\n"
   ]
  },
  {
   "cell_type": "code",
   "execution_count": 15,
   "id": "5ed041e5-6d01-458a-af7b-35fba3808f2f",
   "metadata": {},
   "outputs": [],
   "source": [
    "#Question 5\n",
    "#Answer 5"
   ]
  },
  {
   "cell_type": "markdown",
   "id": "442df9ad-1949-435b-91e2-d08e71763633",
   "metadata": {},
   "source": [
    "Advantages of Multithreading:\n",
    "1. Improved performance and responsiveness.\n",
    "2. Efficient utilization of CPU resources.\n",
    "3. Simplified program design through modularization.\n",
    "4. Easy data sharing and communication between threads.\n",
    "\n",
    "Disadvantages of Multithreading:\n",
    "1. Synchronization challenges and potential for data inconsistencies.\n",
    "2. Increased complexity in program design, debugging, and testing.\n",
    "3. Overhead and scalability limitations.\n",
    "4. Difficulty in debugging due to non-deterministic behavior."
   ]
  },
  {
   "cell_type": "code",
   "execution_count": 16,
   "id": "35ae75e7-b978-428a-8f73-7f90c96cf87f",
   "metadata": {},
   "outputs": [],
   "source": [
    "#Question 6\n",
    "#Answer 6"
   ]
  },
  {
   "cell_type": "markdown",
   "id": "442ca390-6d03-4613-98f1-a0a17d86e624",
   "metadata": {},
   "source": [
    "Deadlocks:\n",
    "Deadlocks occur when multiple threads are stuck in a circular dependency, each waiting for a resource held by another thread. This leads to a system freeze or unresponsiveness.\n",
    "\n",
    "Race Conditions:\n",
    "Race conditions happen when the behavior of a program depends on the timing of multiple threads accessing shared resources. It results in unpredictable and incorrect outcomes due to concurrent, unsynchronized access."
   ]
  },
  {
   "cell_type": "code",
   "execution_count": null,
   "id": "cbd8c77e-dcff-472e-8e36-0be1fad6ab35",
   "metadata": {},
   "outputs": [],
   "source": []
  }
 ],
 "metadata": {
  "kernelspec": {
   "display_name": "Python 3 (ipykernel)",
   "language": "python",
   "name": "python3"
  },
  "language_info": {
   "codemirror_mode": {
    "name": "ipython",
    "version": 3
   },
   "file_extension": ".py",
   "mimetype": "text/x-python",
   "name": "python",
   "nbconvert_exporter": "python",
   "pygments_lexer": "ipython3",
   "version": "3.10.8"
  }
 },
 "nbformat": 4,
 "nbformat_minor": 5
}
