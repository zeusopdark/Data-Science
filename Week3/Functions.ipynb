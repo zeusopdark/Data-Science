{
 "cells": [
  {
   "cell_type": "code",
   "execution_count": 1,
   "id": "435cdd88-7dfd-4fee-90c9-06097346fdec",
   "metadata": {},
   "outputs": [],
   "source": [
    "def test():\n",
    "    pass           #this function has no meaning and pass is used for it."
   ]
  },
  {
   "cell_type": "code",
   "execution_count": 2,
   "id": "77cff708-8966-47a9-80d2-f6ff91918c77",
   "metadata": {},
   "outputs": [],
   "source": [
    "def test1():\n",
    "    print(\"This is my very first function\")"
   ]
  },
  {
   "cell_type": "code",
   "execution_count": 3,
   "id": "39d62070-2627-45c8-9998-2e2a7ae0f0dd",
   "metadata": {},
   "outputs": [
    {
     "name": "stdout",
     "output_type": "stream",
     "text": [
      "This is my very first function\n"
     ]
    }
   ],
   "source": [
    "test1()"
   ]
  },
  {
   "cell_type": "code",
   "execution_count": 5,
   "id": "d5bde738-41a1-4693-bcd5-3857c9b61e78",
   "metadata": {},
   "outputs": [
    {
     "name": "stdout",
     "output_type": "stream",
     "text": [
      "This is my very first function\n"
     ]
    },
    {
     "ename": "TypeError",
     "evalue": "unsupported operand type(s) for +: 'NoneType' and 'str'",
     "output_type": "error",
     "traceback": [
      "\u001b[0;31m---------------------------------------------------------------------------\u001b[0m",
      "\u001b[0;31mTypeError\u001b[0m                                 Traceback (most recent call last)",
      "Cell \u001b[0;32mIn[5], line 1\u001b[0m\n\u001b[0;32m----> 1\u001b[0m \u001b[43mtest1\u001b[49m\u001b[43m(\u001b[49m\u001b[43m)\u001b[49m\u001b[38;5;241;43m+\u001b[39;49m\u001b[38;5;124;43m\"\u001b[39;49m\u001b[38;5;124;43mAnk\u001b[39;49m\u001b[38;5;124;43m\"\u001b[39;49m  \u001b[38;5;66;03m#remember print always return nontype that why it is not concatenating.\u001b[39;00m\n",
      "\u001b[0;31mTypeError\u001b[0m: unsupported operand type(s) for +: 'NoneType' and 'str'"
     ]
    }
   ],
   "source": [
    "test1()+\"Ank\"  #remember print always return nontype that why it is not concatenating."
   ]
  },
  {
   "cell_type": "code",
   "execution_count": 6,
   "id": "18f2cc2c-bf51-46b8-adb6-08129fabb9ee",
   "metadata": {},
   "outputs": [],
   "source": [
    "def test2():\n",
    "    return \"This is my very first return\""
   ]
  },
  {
   "cell_type": "code",
   "execution_count": 7,
   "id": "2b52f715-04c1-415d-9766-74754627cd36",
   "metadata": {},
   "outputs": [],
   "source": [
    "test()"
   ]
  },
  {
   "cell_type": "code",
   "execution_count": 8,
   "id": "b3e94433-09f6-4bf3-924c-52a3d6e63ba8",
   "metadata": {},
   "outputs": [
    {
     "data": {
      "text/plain": [
       "'This is my very first return'"
      ]
     },
     "execution_count": 8,
     "metadata": {},
     "output_type": "execute_result"
    }
   ],
   "source": [
    "test2()"
   ]
  },
  {
   "cell_type": "code",
   "execution_count": 10,
   "id": "11e6720a-5375-4093-9e08-1fb81a31e724",
   "metadata": {},
   "outputs": [
    {
     "data": {
      "text/plain": [
       "'This is my very first return Ankit'"
      ]
     },
     "execution_count": 10,
     "metadata": {},
     "output_type": "execute_result"
    }
   ],
   "source": [
    "test2()+\" Ankit\""
   ]
  },
  {
   "cell_type": "code",
   "execution_count": 12,
   "id": "a736382d-1362-483d-bb67-4fd0727c2e60",
   "metadata": {},
   "outputs": [],
   "source": [
    "def test3():\n",
    "    return \"ankit\", 23, [1,2,3,4] "
   ]
  },
  {
   "cell_type": "code",
   "execution_count": 13,
   "id": "52ea8527-14f2-430b-a208-cc64f85ec7fe",
   "metadata": {},
   "outputs": [
    {
     "data": {
      "text/plain": [
       "('ankit', 23, [1, 2, 3, 4])"
      ]
     },
     "execution_count": 13,
     "metadata": {},
     "output_type": "execute_result"
    }
   ],
   "source": [
    "test3()"
   ]
  },
  {
   "cell_type": "code",
   "execution_count": 14,
   "id": "c2af0d41-54b6-46e7-b220-7ea4e73af190",
   "metadata": {},
   "outputs": [],
   "source": [
    "a,b,c=test3()"
   ]
  },
  {
   "cell_type": "code",
   "execution_count": 15,
   "id": "f6264416-97ae-4cc0-84cc-ca4c6f42e601",
   "metadata": {},
   "outputs": [
    {
     "data": {
      "text/plain": [
       "'ankit'"
      ]
     },
     "execution_count": 15,
     "metadata": {},
     "output_type": "execute_result"
    }
   ],
   "source": [
    "a"
   ]
  },
  {
   "cell_type": "code",
   "execution_count": 16,
   "id": "302059ff-9f28-41af-8d9d-767cd1d479f5",
   "metadata": {},
   "outputs": [
    {
     "data": {
      "text/plain": [
       "23"
      ]
     },
     "execution_count": 16,
     "metadata": {},
     "output_type": "execute_result"
    }
   ],
   "source": [
    "b"
   ]
  },
  {
   "cell_type": "code",
   "execution_count": 17,
   "id": "70ddaa34-89e4-44c7-83e2-63e857f464bd",
   "metadata": {},
   "outputs": [
    {
     "data": {
      "text/plain": [
       "[1, 2, 3, 4]"
      ]
     },
     "execution_count": 17,
     "metadata": {},
     "output_type": "execute_result"
    }
   ],
   "source": [
    "c"
   ]
  },
  {
   "cell_type": "code",
   "execution_count": 18,
   "id": "2e4ad7fe-cc68-423e-bcfb-f8c483875745",
   "metadata": {},
   "outputs": [],
   "source": [
    "def test4():\n",
    "    a=5+6/7\n",
    "    return a"
   ]
  },
  {
   "cell_type": "code",
   "execution_count": 19,
   "id": "e634d5a2-8ded-4c10-9aa9-257c9e17a4ba",
   "metadata": {},
   "outputs": [
    {
     "data": {
      "text/plain": [
       "5.857142857142857"
      ]
     },
     "execution_count": 19,
     "metadata": {},
     "output_type": "execute_result"
    }
   ],
   "source": [
    "test4()"
   ]
  },
  {
   "cell_type": "code",
   "execution_count": 20,
   "id": "24da7510-b43a-4d23-bbb7-dce4a9eedab7",
   "metadata": {},
   "outputs": [],
   "source": [
    "def test5(a,b,c):\n",
    "    d=a+b/c\n",
    "    return d"
   ]
  },
  {
   "cell_type": "code",
   "execution_count": 21,
   "id": "5cc43357-8143-4996-afa0-42c04e683ab4",
   "metadata": {},
   "outputs": [
    {
     "data": {
      "text/plain": [
       "5.857142857142857"
      ]
     },
     "execution_count": 21,
     "metadata": {},
     "output_type": "execute_result"
    }
   ],
   "source": [
    "test5(5,6,7)"
   ]
  },
  {
   "cell_type": "code",
   "execution_count": 22,
   "id": "437aed87-f020-4270-8ea4-d4a650842d85",
   "metadata": {},
   "outputs": [],
   "source": [
    "def test6(a,b):\n",
    "    return a*b"
   ]
  },
  {
   "cell_type": "code",
   "execution_count": 23,
   "id": "9c4192b1-4b6b-4bbc-ba64-3ae19eae90d4",
   "metadata": {},
   "outputs": [
    {
     "data": {
      "text/plain": [
       "12"
      ]
     },
     "execution_count": 23,
     "metadata": {},
     "output_type": "execute_result"
    }
   ],
   "source": [
    "test6(3,4)"
   ]
  },
  {
   "cell_type": "code",
   "execution_count": 45,
   "id": "8d355ddb-c903-447d-902f-c1ba129c774b",
   "metadata": {},
   "outputs": [],
   "source": [
    "l=[1,2,3,4,5,\"sudh\",[6,3],\"kumar\"]"
   ]
  },
  {
   "cell_type": "code",
   "execution_count": 32,
   "id": "82de205a-77c5-4e13-94cf-3883c2731bda",
   "metadata": {},
   "outputs": [],
   "source": [
    "def test7(l):\n",
    "    k=[]\n",
    "    for i in l:\n",
    "        if type(i)==int:\n",
    "            k.append(i)\n",
    "    return k      \n",
    "    "
   ]
  },
  {
   "cell_type": "code",
   "execution_count": 46,
   "id": "e4fedb54-28ac-400f-8e90-c8c55379b23b",
   "metadata": {},
   "outputs": [
    {
     "data": {
      "text/plain": [
       "[1, 2, 3, 4, 5]"
      ]
     },
     "execution_count": 46,
     "metadata": {},
     "output_type": "execute_result"
    }
   ],
   "source": [
    "test7(l)"
   ]
  },
  {
   "cell_type": "code",
   "execution_count": 51,
   "id": "7aa17f66-63f4-46c9-8e5b-8f190cf087c3",
   "metadata": {},
   "outputs": [],
   "source": [
    "def test8(l):\n",
    "    \"\"\"this is my function to extract num data from list\"\"\"   #Docstring press shift and tab while using this function \n",
    "    t=[]\n",
    "    for i in l:\n",
    "        if type(i)==list:\n",
    "            for j in i:\n",
    "                t.append(j)\n",
    "        else:\n",
    "            if type(i)==int:\n",
    "                t.append(i)\n",
    "    return t                   "
   ]
  },
  {
   "cell_type": "code",
   "execution_count": 52,
   "id": "9ebc0179-13b2-4be2-b130-ed1af76528b3",
   "metadata": {},
   "outputs": [
    {
     "data": {
      "text/plain": [
       "[1, 2, 3, 4, 5, 6, 3]"
      ]
     },
     "execution_count": 52,
     "metadata": {},
     "output_type": "execute_result"
    }
   ],
   "source": [
    "test8(l)"
   ]
  },
  {
   "cell_type": "code",
   "execution_count": 53,
   "id": "54d1c11d-6c56-4ae1-a41b-edb1431d3fe8",
   "metadata": {},
   "outputs": [],
   "source": [
    "def test11(*args):    #dynamic accept as much as parameter \n",
    "      return args"
   ]
  },
  {
   "cell_type": "code",
   "execution_count": 54,
   "id": "3b1a5257-6c37-4036-b2aa-34e0bbcf0687",
   "metadata": {},
   "outputs": [
    {
     "data": {
      "text/plain": [
       "('ank', 1, 2, 3, [4, 5, 6])"
      ]
     },
     "execution_count": 54,
     "metadata": {},
     "output_type": "execute_result"
    }
   ],
   "source": [
    "test11(\"ank\",1,2,3,[4,5,6])  #can be passed as many as argument we want"
   ]
  },
  {
   "cell_type": "code",
   "execution_count": 57,
   "id": "db81626e-0117-474e-90bf-fb8157ea7f9b",
   "metadata": {},
   "outputs": [],
   "source": [
    "def test12(**kwargs):    #this will accept dicctionary it will convert in key value\n",
    "    return kwargs"
   ]
  },
  {
   "cell_type": "code",
   "execution_count": 56,
   "id": "9afd0a10-6018-439c-8a32-ca3389115cf7",
   "metadata": {},
   "outputs": [
    {
     "data": {
      "text/plain": [
       "{}"
      ]
     },
     "execution_count": 56,
     "metadata": {},
     "output_type": "execute_result"
    }
   ],
   "source": [
    "test12()"
   ]
  },
  {
   "cell_type": "code",
   "execution_count": 58,
   "id": "b89452d1-8075-48dd-aab0-2fffff0004a2",
   "metadata": {},
   "outputs": [
    {
     "data": {
      "text/plain": [
       "{'a': [1, 2, 3, 4], 'b': 'sudh', 'c': 23.26}"
      ]
     },
     "execution_count": 58,
     "metadata": {},
     "output_type": "execute_result"
    }
   ],
   "source": [
    "test12(a=[1,2,3,4],b=\"sudh\",c=23.26)"
   ]
  },
  {
   "cell_type": "code",
   "execution_count": 2,
   "id": "c202fe17-d5a4-4997-88f3-2cd3c6770f21",
   "metadata": {},
   "outputs": [
    {
     "name": "stdout",
     "output_type": "stream",
     "text": [
      "0\n",
      "1\n",
      "1\n",
      "2\n",
      "3\n",
      "5\n",
      "8\n",
      "13\n",
      "21\n",
      "34\n"
     ]
    }
   ],
   "source": [
    "def fibi(n):\n",
    "    a,b=0,1\n",
    "    for i in range (n):\n",
    "        yield(a)\n",
    "        a,b=b,a+b\n",
    "        \n",
    "for i in fibi(10):\n",
    "    print(i)"
   ]
  },
  {
   "cell_type": "code",
   "execution_count": 3,
   "id": "f155e6c3-24fb-4788-beeb-d3fd180bb8e1",
   "metadata": {},
   "outputs": [],
   "source": [
    "#The above function is generator function"
   ]
  },
  {
   "cell_type": "code",
   "execution_count": 6,
   "id": "7889a321-5522-42c3-bc72-12ccb5e3e450",
   "metadata": {},
   "outputs": [
    {
     "name": "stdout",
     "output_type": "stream",
     "text": [
      "0\n",
      "1\n",
      "1\n",
      "2\n",
      "3\n",
      "5\n",
      "8\n",
      "13\n",
      "21\n",
      "34\n"
     ]
    }
   ],
   "source": [
    "def fibi():\n",
    "    a,b=0,1\n",
    "    while True:\n",
    "        yield(a)\n",
    "        a,b=b,a+b\n",
    "        \n",
    "fib=fibi()        \n",
    "for i in range(10):\n",
    "    print(next(fib))"
   ]
  },
  {
   "cell_type": "code",
   "execution_count": 1,
   "id": "57a40a8d-10f6-4418-a10c-15410d7d8bf4",
   "metadata": {},
   "outputs": [],
   "source": [
    "s=\"Ankit\""
   ]
  },
  {
   "cell_type": "code",
   "execution_count": 2,
   "id": "9ee65998-7165-42bd-a16b-a75f3205a515",
   "metadata": {},
   "outputs": [
    {
     "ename": "NameError",
     "evalue": "name 'itr' is not defined",
     "output_type": "error",
     "traceback": [
      "\u001b[0;31m---------------------------------------------------------------------------\u001b[0m",
      "\u001b[0;31mNameError\u001b[0m                                 Traceback (most recent call last)",
      "Cell \u001b[0;32mIn[2], line 1\u001b[0m\n\u001b[0;32m----> 1\u001b[0m \u001b[43mitr\u001b[49m(s)\n",
      "\u001b[0;31mNameError\u001b[0m: name 'itr' is not defined"
     ]
    }
   ],
   "source": [
    "itr(s)"
   ]
  },
  {
   "cell_type": "code",
   "execution_count": 6,
   "id": "7c209395-8ad5-4e86-ab8c-12c458f354e4",
   "metadata": {},
   "outputs": [],
   "source": [
    "d=iter(s)"
   ]
  },
  {
   "cell_type": "code",
   "execution_count": 12,
   "id": "0450e020-f401-40b2-9a70-8c051e6c043c",
   "metadata": {},
   "outputs": [
    {
     "ename": "StopIteration",
     "evalue": "",
     "output_type": "error",
     "traceback": [
      "\u001b[0;31m---------------------------------------------------------------------------\u001b[0m",
      "\u001b[0;31mStopIteration\u001b[0m                             Traceback (most recent call last)",
      "Cell \u001b[0;32mIn[12], line 1\u001b[0m\n\u001b[0;32m----> 1\u001b[0m \u001b[38;5;28;43mnext\u001b[39;49m\u001b[43m(\u001b[49m\u001b[43md\u001b[49m\u001b[43m)\u001b[49m\n",
      "\u001b[0;31mStopIteration\u001b[0m: "
     ]
    }
   ],
   "source": [
    "next(d)"
   ]
  },
  {
   "cell_type": "code",
   "execution_count": 2,
   "id": "33c7b844-1659-4f5d-9894-83d28bef8d7e",
   "metadata": {},
   "outputs": [],
   "source": [
    "a=lambda n,p :n**p"
   ]
  },
  {
   "cell_type": "code",
   "execution_count": 3,
   "id": "cb19b450-e6e7-43dc-8e19-a261586f2961",
   "metadata": {},
   "outputs": [
    {
     "data": {
      "text/plain": [
       "8"
      ]
     },
     "execution_count": 3,
     "metadata": {},
     "output_type": "execute_result"
    }
   ],
   "source": [
    "a(2,3)"
   ]
  },
  {
   "cell_type": "code",
   "execution_count": 4,
   "id": "dd688407-395d-49ef-88ea-75154116a55a",
   "metadata": {},
   "outputs": [],
   "source": [
    "add= lambda x,y:x+y"
   ]
  },
  {
   "cell_type": "code",
   "execution_count": 5,
   "id": "5ec5f55a-328e-48d3-819d-e24f59865797",
   "metadata": {},
   "outputs": [
    {
     "data": {
      "text/plain": [
       "30"
      ]
     },
     "execution_count": 5,
     "metadata": {},
     "output_type": "execute_result"
    }
   ],
   "source": [
    "add(10,20)"
   ]
  },
  {
   "cell_type": "code",
   "execution_count": 6,
   "id": "07b4def4-d607-405a-ab51-99eaf40899b3",
   "metadata": {},
   "outputs": [],
   "source": [
    "c_to_f=lambda c: (9/5)*c*32"
   ]
  },
  {
   "cell_type": "code",
   "execution_count": 7,
   "id": "146fad1c-123e-4436-a877-1094e410fe43",
   "metadata": {},
   "outputs": [
    {
     "data": {
      "text/plain": [
       "2592.0"
      ]
     },
     "execution_count": 7,
     "metadata": {},
     "output_type": "execute_result"
    }
   ],
   "source": [
    "c_to_f(45)"
   ]
  },
  {
   "cell_type": "code",
   "execution_count": 9,
   "id": "ac92828a-0c05-4f8f-b074-4cf54e717c89",
   "metadata": {},
   "outputs": [],
   "source": [
    "finding_max=lambda x,y: x if x>y  else y"
   ]
  },
  {
   "cell_type": "code",
   "execution_count": 10,
   "id": "2e16b67c-3974-4374-8b6e-4193e6ff98cf",
   "metadata": {},
   "outputs": [
    {
     "data": {
      "text/plain": [
       "32"
      ]
     },
     "execution_count": 10,
     "metadata": {},
     "output_type": "execute_result"
    }
   ],
   "source": [
    "finding_max(30,32)"
   ]
  },
  {
   "cell_type": "code",
   "execution_count": 18,
   "id": "9ea63420-fdb6-4226-ae9c-12226a29b525",
   "metadata": {},
   "outputs": [
    {
     "data": {
      "text/plain": [
       "[1, 4, 27, 256, 3125]"
      ]
     },
     "execution_count": 18,
     "metadata": {},
     "output_type": "execute_result"
    }
   ],
   "source": [
    "l=[1,2,3,4,5]\n",
    "def sq(x):\n",
    "    return x**x\n",
    "list(map(sq,l))"
   ]
  },
  {
   "cell_type": "code",
   "execution_count": 13,
   "id": "18c9d778-26da-4bb2-9453-b22675733a97",
   "metadata": {},
   "outputs": [
    {
     "data": {
      "text/plain": [
       "1"
      ]
     },
     "execution_count": 13,
     "metadata": {},
     "output_type": "execute_result"
    }
   ],
   "source": [
    "next(l)"
   ]
  },
  {
   "cell_type": "code",
   "execution_count": 14,
   "id": "6467c62a-ffe8-4dee-883a-03509c28ef14",
   "metadata": {},
   "outputs": [
    {
     "data": {
      "text/plain": [
       "4"
      ]
     },
     "execution_count": 14,
     "metadata": {},
     "output_type": "execute_result"
    }
   ],
   "source": [
    "next(l)"
   ]
  },
  {
   "cell_type": "code",
   "execution_count": 15,
   "id": "85026dfe-061b-4ec3-8c2d-bf5d4d7d93ee",
   "metadata": {},
   "outputs": [
    {
     "data": {
      "text/plain": [
       "27"
      ]
     },
     "execution_count": 15,
     "metadata": {},
     "output_type": "execute_result"
    }
   ],
   "source": [
    "next(l)"
   ]
  },
  {
   "cell_type": "code",
   "execution_count": 19,
   "id": "d6420b0f-6afa-48f7-823b-8d47aba364a9",
   "metadata": {},
   "outputs": [
    {
     "data": {
      "text/plain": [
       "[1, 4, 9, 16, 25]"
      ]
     },
     "execution_count": 19,
     "metadata": {},
     "output_type": "execute_result"
    }
   ],
   "source": [
    "list(map(lambda x:x**2,l))"
   ]
  },
  {
   "cell_type": "code",
   "execution_count": 22,
   "id": "2b73e4f1-73ee-40a0-9296-80938a7a3403",
   "metadata": {},
   "outputs": [
    {
     "data": {
      "text/plain": [
       "[7, 9, 11, 13, 15]"
      ]
     },
     "execution_count": 22,
     "metadata": {},
     "output_type": "execute_result"
    }
   ],
   "source": [
    "l1=[1,2,3,4,5]\n",
    "l2=[6,7,8,9,10]\n",
    "list(map(lambda x,y:x+y,l1,l2))  #l1 and l2 here are iterables map should have two things 1st one is function and second one is iterable"
   ]
  },
  {
   "cell_type": "code",
   "execution_count": 23,
   "id": "28775a27-1c6f-415f-ac0e-1382bec6dab3",
   "metadata": {},
   "outputs": [
    {
     "data": {
      "text/plain": [
       "['A', 'N', 'K', 'I', 'T', ' ', 'N', 'I', 'S', 'H', 'A', 'D']"
      ]
     },
     "execution_count": 23,
     "metadata": {},
     "output_type": "execute_result"
    }
   ],
   "source": [
    "s=\"ankit nishad\"\n",
    "list(map(lambda s:s.upper(),s))"
   ]
  },
  {
   "cell_type": "code",
   "execution_count": 25,
   "id": "2dd10bd0-96c0-485c-b0b8-77caa4b9085f",
   "metadata": {},
   "outputs": [],
   "source": [
    "from functools import reduce"
   ]
  },
  {
   "cell_type": "code",
   "execution_count": 26,
   "id": "108a77c7-8e50-4f3b-bdce-540071d1d320",
   "metadata": {},
   "outputs": [
    {
     "data": {
      "text/plain": [
       "15"
      ]
     },
     "execution_count": 26,
     "metadata": {},
     "output_type": "execute_result"
    }
   ],
   "source": [
    "l=[1,2,3,4,5]\n",
    "reduce(lambda x,y:x+y,l)"
   ]
  },
  {
   "cell_type": "code",
   "execution_count": 27,
   "id": "047bbb04-b73f-449e-b796-4a1dd749113e",
   "metadata": {},
   "outputs": [
    {
     "data": {
      "text/plain": [
       "5"
      ]
     },
     "execution_count": 27,
     "metadata": {},
     "output_type": "execute_result"
    }
   ],
   "source": [
    "reduce(lambda x,y:x if x>y else y,l)"
   ]
  },
  {
   "cell_type": "code",
   "execution_count": 29,
   "id": "2c87f584-d7e9-4f7a-a490-e4ca8c30a16c",
   "metadata": {},
   "outputs": [
    {
     "data": {
      "text/plain": [
       "[2, 4]"
      ]
     },
     "execution_count": 29,
     "metadata": {},
     "output_type": "execute_result"
    }
   ],
   "source": [
    "list(filter(lambda x:x%2==0,l))"
   ]
  },
  {
   "cell_type": "code",
   "execution_count": null,
   "id": "67cc7d22-4f18-487b-a6ce-f78c9bea00b2",
   "metadata": {},
   "outputs": [],
   "source": []
  }
 ],
 "metadata": {
  "kernelspec": {
   "display_name": "Python 3 (ipykernel)",
   "language": "python",
   "name": "python3"
  },
  "language_info": {
   "codemirror_mode": {
    "name": "ipython",
    "version": 3
   },
   "file_extension": ".py",
   "mimetype": "text/x-python",
   "name": "python",
   "nbconvert_exporter": "python",
   "pygments_lexer": "ipython3",
   "version": "3.10.8"
  }
 },
 "nbformat": 4,
 "nbformat_minor": 5
}
